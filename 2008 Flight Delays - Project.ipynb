{
 "cells": [
  {
   "cell_type": "markdown",
   "metadata": {},
   "source": [
    "# 2008 Airline on time dataset\n",
    "## by Vincent Khor\n",
    "\n",
    "## Preliminary Wrangling\n",
    "\n",
    "> Briefly introduce your dataset here. "
   ]
  },
  {
   "cell_type": "code",
   "execution_count": 1,
   "metadata": {},
   "outputs": [],
   "source": [
    "# import all packages and set plots to be embedded inline\n",
    "import numpy as np\n",
    "import pandas as pd\n",
    "import matplotlib.pyplot as plt\n",
    "import seaborn as sns\n",
    "import datetime\n",
    "import time\n",
    "\n",
    "%matplotlib inline"
   ]
  },
  {
   "cell_type": "markdown",
   "metadata": {},
   "source": [
    "> Load in your dataset and describe its properties through the questions below.\n",
    "Try and motivate your exploration goals through this section."
   ]
  },
  {
   "cell_type": "code",
   "execution_count": 2,
   "metadata": {},
   "outputs": [],
   "source": [
    "# Load necessary csv files.\n",
    "flights = pd.read_csv('flights_2008.csv')"
   ]
  },
  {
   "cell_type": "code",
   "execution_count": 3,
   "metadata": {},
   "outputs": [
    {
     "name": "stdout",
     "output_type": "stream",
     "text": [
      "There are 2389217 rows and 29 columns in this dataset.\n"
     ]
    }
   ],
   "source": [
    "print('There are '+ str(flights.shape[0]) +' rows and ' + str(flights.shape[1]) + ' columns in this dataset.')"
   ]
  },
  {
   "cell_type": "code",
   "execution_count": 4,
   "metadata": {
    "scrolled": true
   },
   "outputs": [
    {
     "data": {
      "text/html": [
       "<div>\n",
       "<style scoped>\n",
       "    .dataframe tbody tr th:only-of-type {\n",
       "        vertical-align: middle;\n",
       "    }\n",
       "\n",
       "    .dataframe tbody tr th {\n",
       "        vertical-align: top;\n",
       "    }\n",
       "\n",
       "    .dataframe thead th {\n",
       "        text-align: right;\n",
       "    }\n",
       "</style>\n",
       "<table border=\"1\" class=\"dataframe\">\n",
       "  <thead>\n",
       "    <tr style=\"text-align: right;\">\n",
       "      <th></th>\n",
       "      <th>Year</th>\n",
       "      <th>Month</th>\n",
       "      <th>DayofMonth</th>\n",
       "      <th>DayOfWeek</th>\n",
       "      <th>DepTime</th>\n",
       "      <th>CRSDepTime</th>\n",
       "      <th>ArrTime</th>\n",
       "      <th>CRSArrTime</th>\n",
       "      <th>UniqueCarrier</th>\n",
       "      <th>FlightNum</th>\n",
       "      <th>...</th>\n",
       "      <th>TaxiIn</th>\n",
       "      <th>TaxiOut</th>\n",
       "      <th>Cancelled</th>\n",
       "      <th>CancellationCode</th>\n",
       "      <th>Diverted</th>\n",
       "      <th>CarrierDelay</th>\n",
       "      <th>WeatherDelay</th>\n",
       "      <th>NASDelay</th>\n",
       "      <th>SecurityDelay</th>\n",
       "      <th>LateAircraftDelay</th>\n",
       "    </tr>\n",
       "  </thead>\n",
       "  <tbody>\n",
       "    <tr>\n",
       "      <th>0</th>\n",
       "      <td>2008</td>\n",
       "      <td>1</td>\n",
       "      <td>3</td>\n",
       "      <td>4</td>\n",
       "      <td>1343.0</td>\n",
       "      <td>1325</td>\n",
       "      <td>1451.0</td>\n",
       "      <td>1435</td>\n",
       "      <td>WN</td>\n",
       "      <td>588</td>\n",
       "      <td>...</td>\n",
       "      <td>4.0</td>\n",
       "      <td>9.0</td>\n",
       "      <td>0</td>\n",
       "      <td>NaN</td>\n",
       "      <td>0</td>\n",
       "      <td>16.0</td>\n",
       "      <td>0.0</td>\n",
       "      <td>0.0</td>\n",
       "      <td>0.0</td>\n",
       "      <td>0.0</td>\n",
       "    </tr>\n",
       "    <tr>\n",
       "      <th>1</th>\n",
       "      <td>2008</td>\n",
       "      <td>1</td>\n",
       "      <td>3</td>\n",
       "      <td>4</td>\n",
       "      <td>1125.0</td>\n",
       "      <td>1120</td>\n",
       "      <td>1247.0</td>\n",
       "      <td>1245</td>\n",
       "      <td>WN</td>\n",
       "      <td>1343</td>\n",
       "      <td>...</td>\n",
       "      <td>3.0</td>\n",
       "      <td>8.0</td>\n",
       "      <td>0</td>\n",
       "      <td>NaN</td>\n",
       "      <td>0</td>\n",
       "      <td>NaN</td>\n",
       "      <td>NaN</td>\n",
       "      <td>NaN</td>\n",
       "      <td>NaN</td>\n",
       "      <td>NaN</td>\n",
       "    </tr>\n",
       "    <tr>\n",
       "      <th>2</th>\n",
       "      <td>2008</td>\n",
       "      <td>1</td>\n",
       "      <td>3</td>\n",
       "      <td>4</td>\n",
       "      <td>2009.0</td>\n",
       "      <td>2015</td>\n",
       "      <td>2136.0</td>\n",
       "      <td>2140</td>\n",
       "      <td>WN</td>\n",
       "      <td>3841</td>\n",
       "      <td>...</td>\n",
       "      <td>2.0</td>\n",
       "      <td>14.0</td>\n",
       "      <td>0</td>\n",
       "      <td>NaN</td>\n",
       "      <td>0</td>\n",
       "      <td>NaN</td>\n",
       "      <td>NaN</td>\n",
       "      <td>NaN</td>\n",
       "      <td>NaN</td>\n",
       "      <td>NaN</td>\n",
       "    </tr>\n",
       "    <tr>\n",
       "      <th>3</th>\n",
       "      <td>2008</td>\n",
       "      <td>1</td>\n",
       "      <td>3</td>\n",
       "      <td>4</td>\n",
       "      <td>903.0</td>\n",
       "      <td>855</td>\n",
       "      <td>1203.0</td>\n",
       "      <td>1205</td>\n",
       "      <td>WN</td>\n",
       "      <td>3</td>\n",
       "      <td>...</td>\n",
       "      <td>5.0</td>\n",
       "      <td>7.0</td>\n",
       "      <td>0</td>\n",
       "      <td>NaN</td>\n",
       "      <td>0</td>\n",
       "      <td>NaN</td>\n",
       "      <td>NaN</td>\n",
       "      <td>NaN</td>\n",
       "      <td>NaN</td>\n",
       "      <td>NaN</td>\n",
       "    </tr>\n",
       "    <tr>\n",
       "      <th>4</th>\n",
       "      <td>2008</td>\n",
       "      <td>1</td>\n",
       "      <td>3</td>\n",
       "      <td>4</td>\n",
       "      <td>1423.0</td>\n",
       "      <td>1400</td>\n",
       "      <td>1726.0</td>\n",
       "      <td>1710</td>\n",
       "      <td>WN</td>\n",
       "      <td>25</td>\n",
       "      <td>...</td>\n",
       "      <td>6.0</td>\n",
       "      <td>10.0</td>\n",
       "      <td>0</td>\n",
       "      <td>NaN</td>\n",
       "      <td>0</td>\n",
       "      <td>16.0</td>\n",
       "      <td>0.0</td>\n",
       "      <td>0.0</td>\n",
       "      <td>0.0</td>\n",
       "      <td>0.0</td>\n",
       "    </tr>\n",
       "  </tbody>\n",
       "</table>\n",
       "<p>5 rows × 29 columns</p>\n",
       "</div>"
      ],
      "text/plain": [
       "   Year  Month  DayofMonth  DayOfWeek  DepTime  CRSDepTime  ArrTime  \\\n",
       "0  2008      1           3          4   1343.0        1325   1451.0   \n",
       "1  2008      1           3          4   1125.0        1120   1247.0   \n",
       "2  2008      1           3          4   2009.0        2015   2136.0   \n",
       "3  2008      1           3          4    903.0         855   1203.0   \n",
       "4  2008      1           3          4   1423.0        1400   1726.0   \n",
       "\n",
       "   CRSArrTime UniqueCarrier  FlightNum  ... TaxiIn  TaxiOut  Cancelled  \\\n",
       "0        1435            WN        588  ...    4.0      9.0          0   \n",
       "1        1245            WN       1343  ...    3.0      8.0          0   \n",
       "2        2140            WN       3841  ...    2.0     14.0          0   \n",
       "3        1205            WN          3  ...    5.0      7.0          0   \n",
       "4        1710            WN         25  ...    6.0     10.0          0   \n",
       "\n",
       "   CancellationCode  Diverted  CarrierDelay WeatherDelay NASDelay  \\\n",
       "0               NaN         0          16.0          0.0      0.0   \n",
       "1               NaN         0           NaN          NaN      NaN   \n",
       "2               NaN         0           NaN          NaN      NaN   \n",
       "3               NaN         0           NaN          NaN      NaN   \n",
       "4               NaN         0          16.0          0.0      0.0   \n",
       "\n",
       "   SecurityDelay  LateAircraftDelay  \n",
       "0            0.0                0.0  \n",
       "1            NaN                NaN  \n",
       "2            NaN                NaN  \n",
       "3            NaN                NaN  \n",
       "4            0.0                0.0  \n",
       "\n",
       "[5 rows x 29 columns]"
      ]
     },
     "execution_count": 4,
     "metadata": {},
     "output_type": "execute_result"
    }
   ],
   "source": [
    "flights.head()"
   ]
  },
  {
   "cell_type": "code",
   "execution_count": 5,
   "metadata": {},
   "outputs": [],
   "source": [
    "# Converting column names to be more descriptive\n",
    "col_name = {'Year':'year', 'Month':'month', 'DayofMonth':'day_of_month','DayOfWeek':'day_of_week',\n",
    "            'DepTime':'actual_dep_time','CRSDepTime':'scheduled_dep_time','ArrTime':'actual_arr_time',\n",
    "            'CRSArrTime':'scheduled_arr_time','UniqueCarrier':'carrier_code','FlightNum':'flight_number',\n",
    "            'TailNum':'tail_number','ActualElapsedTime':'actual_elapsed_time','CRSElapsedTime':'scheduled_elapsed_time',\n",
    "            'AirTime':'air_time','ArrDelay':'arr_delay','DepDelay':'dep_delay','Origin':'origin','Dest':'destination',\n",
    "            'Distance':'distance','TaxiIn':'taxi_in_time','TaxiOut':'taxi_out_time','Cancelled':'cancelled',\n",
    "            'CancellationCode':'cancellation_code','Diverted':'diverted','CarrierDelay':'carrier_delay',\n",
    "            'WeatherDelay':'weather_delay','NASDelay':'nas_delay', 'SecurityDelay':'security_delay',\n",
    "            'LateAircraftDelay':'late_aircraft_delay'}\n",
    "flights=flights.rename(columns=col_name)"
   ]
  },
  {
   "cell_type": "code",
   "execution_count": 6,
   "metadata": {
    "scrolled": true
   },
   "outputs": [
    {
     "data": {
      "text/html": [
       "<div>\n",
       "<style scoped>\n",
       "    .dataframe tbody tr th:only-of-type {\n",
       "        vertical-align: middle;\n",
       "    }\n",
       "\n",
       "    .dataframe tbody tr th {\n",
       "        vertical-align: top;\n",
       "    }\n",
       "\n",
       "    .dataframe thead th {\n",
       "        text-align: right;\n",
       "    }\n",
       "</style>\n",
       "<table border=\"1\" class=\"dataframe\">\n",
       "  <thead>\n",
       "    <tr style=\"text-align: right;\">\n",
       "      <th></th>\n",
       "      <th>year</th>\n",
       "      <th>month</th>\n",
       "      <th>day_of_month</th>\n",
       "      <th>day_of_week</th>\n",
       "      <th>actual_dep_time</th>\n",
       "      <th>scheduled_dep_time</th>\n",
       "      <th>actual_arr_time</th>\n",
       "      <th>scheduled_arr_time</th>\n",
       "      <th>carrier_code</th>\n",
       "      <th>flight_number</th>\n",
       "      <th>...</th>\n",
       "      <th>taxi_in_time</th>\n",
       "      <th>taxi_out_time</th>\n",
       "      <th>cancelled</th>\n",
       "      <th>cancellation_code</th>\n",
       "      <th>diverted</th>\n",
       "      <th>carrier_delay</th>\n",
       "      <th>weather_delay</th>\n",
       "      <th>nas_delay</th>\n",
       "      <th>security_delay</th>\n",
       "      <th>late_aircraft_delay</th>\n",
       "    </tr>\n",
       "  </thead>\n",
       "  <tbody>\n",
       "    <tr>\n",
       "      <th>0</th>\n",
       "      <td>2008</td>\n",
       "      <td>1</td>\n",
       "      <td>3</td>\n",
       "      <td>4</td>\n",
       "      <td>1343.0</td>\n",
       "      <td>1325</td>\n",
       "      <td>1451.0</td>\n",
       "      <td>1435</td>\n",
       "      <td>WN</td>\n",
       "      <td>588</td>\n",
       "      <td>...</td>\n",
       "      <td>4.0</td>\n",
       "      <td>9.0</td>\n",
       "      <td>0</td>\n",
       "      <td>NaN</td>\n",
       "      <td>0</td>\n",
       "      <td>16.0</td>\n",
       "      <td>0.0</td>\n",
       "      <td>0.0</td>\n",
       "      <td>0.0</td>\n",
       "      <td>0.0</td>\n",
       "    </tr>\n",
       "    <tr>\n",
       "      <th>1</th>\n",
       "      <td>2008</td>\n",
       "      <td>1</td>\n",
       "      <td>3</td>\n",
       "      <td>4</td>\n",
       "      <td>1125.0</td>\n",
       "      <td>1120</td>\n",
       "      <td>1247.0</td>\n",
       "      <td>1245</td>\n",
       "      <td>WN</td>\n",
       "      <td>1343</td>\n",
       "      <td>...</td>\n",
       "      <td>3.0</td>\n",
       "      <td>8.0</td>\n",
       "      <td>0</td>\n",
       "      <td>NaN</td>\n",
       "      <td>0</td>\n",
       "      <td>NaN</td>\n",
       "      <td>NaN</td>\n",
       "      <td>NaN</td>\n",
       "      <td>NaN</td>\n",
       "      <td>NaN</td>\n",
       "    </tr>\n",
       "    <tr>\n",
       "      <th>2</th>\n",
       "      <td>2008</td>\n",
       "      <td>1</td>\n",
       "      <td>3</td>\n",
       "      <td>4</td>\n",
       "      <td>2009.0</td>\n",
       "      <td>2015</td>\n",
       "      <td>2136.0</td>\n",
       "      <td>2140</td>\n",
       "      <td>WN</td>\n",
       "      <td>3841</td>\n",
       "      <td>...</td>\n",
       "      <td>2.0</td>\n",
       "      <td>14.0</td>\n",
       "      <td>0</td>\n",
       "      <td>NaN</td>\n",
       "      <td>0</td>\n",
       "      <td>NaN</td>\n",
       "      <td>NaN</td>\n",
       "      <td>NaN</td>\n",
       "      <td>NaN</td>\n",
       "      <td>NaN</td>\n",
       "    </tr>\n",
       "    <tr>\n",
       "      <th>3</th>\n",
       "      <td>2008</td>\n",
       "      <td>1</td>\n",
       "      <td>3</td>\n",
       "      <td>4</td>\n",
       "      <td>903.0</td>\n",
       "      <td>855</td>\n",
       "      <td>1203.0</td>\n",
       "      <td>1205</td>\n",
       "      <td>WN</td>\n",
       "      <td>3</td>\n",
       "      <td>...</td>\n",
       "      <td>5.0</td>\n",
       "      <td>7.0</td>\n",
       "      <td>0</td>\n",
       "      <td>NaN</td>\n",
       "      <td>0</td>\n",
       "      <td>NaN</td>\n",
       "      <td>NaN</td>\n",
       "      <td>NaN</td>\n",
       "      <td>NaN</td>\n",
       "      <td>NaN</td>\n",
       "    </tr>\n",
       "    <tr>\n",
       "      <th>4</th>\n",
       "      <td>2008</td>\n",
       "      <td>1</td>\n",
       "      <td>3</td>\n",
       "      <td>4</td>\n",
       "      <td>1423.0</td>\n",
       "      <td>1400</td>\n",
       "      <td>1726.0</td>\n",
       "      <td>1710</td>\n",
       "      <td>WN</td>\n",
       "      <td>25</td>\n",
       "      <td>...</td>\n",
       "      <td>6.0</td>\n",
       "      <td>10.0</td>\n",
       "      <td>0</td>\n",
       "      <td>NaN</td>\n",
       "      <td>0</td>\n",
       "      <td>16.0</td>\n",
       "      <td>0.0</td>\n",
       "      <td>0.0</td>\n",
       "      <td>0.0</td>\n",
       "      <td>0.0</td>\n",
       "    </tr>\n",
       "  </tbody>\n",
       "</table>\n",
       "<p>5 rows × 29 columns</p>\n",
       "</div>"
      ],
      "text/plain": [
       "   year  month  day_of_month  day_of_week  actual_dep_time  \\\n",
       "0  2008      1             3            4           1343.0   \n",
       "1  2008      1             3            4           1125.0   \n",
       "2  2008      1             3            4           2009.0   \n",
       "3  2008      1             3            4            903.0   \n",
       "4  2008      1             3            4           1423.0   \n",
       "\n",
       "   scheduled_dep_time  actual_arr_time  scheduled_arr_time carrier_code  \\\n",
       "0                1325           1451.0                1435           WN   \n",
       "1                1120           1247.0                1245           WN   \n",
       "2                2015           2136.0                2140           WN   \n",
       "3                 855           1203.0                1205           WN   \n",
       "4                1400           1726.0                1710           WN   \n",
       "\n",
       "   flight_number  ... taxi_in_time  taxi_out_time  cancelled  \\\n",
       "0            588  ...          4.0            9.0          0   \n",
       "1           1343  ...          3.0            8.0          0   \n",
       "2           3841  ...          2.0           14.0          0   \n",
       "3              3  ...          5.0            7.0          0   \n",
       "4             25  ...          6.0           10.0          0   \n",
       "\n",
       "   cancellation_code  diverted  carrier_delay weather_delay nas_delay  \\\n",
       "0                NaN         0           16.0           0.0       0.0   \n",
       "1                NaN         0            NaN           NaN       NaN   \n",
       "2                NaN         0            NaN           NaN       NaN   \n",
       "3                NaN         0            NaN           NaN       NaN   \n",
       "4                NaN         0           16.0           0.0       0.0   \n",
       "\n",
       "   security_delay  late_aircraft_delay  \n",
       "0             0.0                  0.0  \n",
       "1             NaN                  NaN  \n",
       "2             NaN                  NaN  \n",
       "3             NaN                  NaN  \n",
       "4             0.0                  0.0  \n",
       "\n",
       "[5 rows x 29 columns]"
      ]
     },
     "execution_count": 6,
     "metadata": {},
     "output_type": "execute_result"
    }
   ],
   "source": [
    "flights.head()"
   ]
  },
  {
   "cell_type": "code",
   "execution_count": 7,
   "metadata": {},
   "outputs": [
    {
     "name": "stdout",
     "output_type": "stream",
     "text": [
      "<class 'pandas.core.frame.DataFrame'>\n",
      "RangeIndex: 2389217 entries, 0 to 2389216\n",
      "Data columns (total 29 columns):\n",
      " #   Column                  Non-Null Count    Dtype  \n",
      "---  ------                  --------------    -----  \n",
      " 0   year                    2389217 non-null  int64  \n",
      " 1   month                   2389217 non-null  int64  \n",
      " 2   day_of_month            2389217 non-null  int64  \n",
      " 3   day_of_week             2389217 non-null  int64  \n",
      " 4   actual_dep_time         2324775 non-null  float64\n",
      " 5   scheduled_dep_time      2389217 non-null  int64  \n",
      " 6   actual_arr_time         2319121 non-null  float64\n",
      " 7   scheduled_arr_time      2389217 non-null  int64  \n",
      " 8   carrier_code            2389217 non-null  object \n",
      " 9   flight_number           2389217 non-null  int64  \n",
      " 10  tail_number             2346765 non-null  object \n",
      " 11  actual_elapsed_time     2319121 non-null  float64\n",
      " 12  scheduled_elapsed_time  2388810 non-null  float64\n",
      " 13  air_time                2319121 non-null  float64\n",
      " 14  arr_delay               2319121 non-null  float64\n",
      " 15  dep_delay               2324775 non-null  float64\n",
      " 16  origin                  2389217 non-null  object \n",
      " 17  destination             2389217 non-null  object \n",
      " 18  distance                2389217 non-null  int64  \n",
      " 19  taxi_in_time            2319121 non-null  float64\n",
      " 20  taxi_out_time           2324775 non-null  float64\n",
      " 21  cancelled               2389217 non-null  int64  \n",
      " 22  cancellation_code       64442 non-null    object \n",
      " 23  diverted                2389217 non-null  int64  \n",
      " 24  carrier_delay           584583 non-null   float64\n",
      " 25  weather_delay           584583 non-null   float64\n",
      " 26  nas_delay               584583 non-null   float64\n",
      " 27  security_delay          584583 non-null   float64\n",
      " 28  late_aircraft_delay     584583 non-null   float64\n",
      "dtypes: float64(14), int64(10), object(5)\n",
      "memory usage: 528.6+ MB\n"
     ]
    }
   ],
   "source": [
    "# Display basic information\n",
    "flights.info(verbose=True, null_counts=True)"
   ]
  },
  {
   "cell_type": "code",
   "execution_count": 8,
   "metadata": {},
   "outputs": [],
   "source": [
    "# replace 'day of week' values\n",
    "day = {1:'Monday',2:'Tuesday',3:'Wednesday',4:'Thursday',5:'Friday',6:'Saturday',7:'Sunday'}\n",
    "flights['day_of_week'].replace(day, inplace=True)"
   ]
  },
  {
   "cell_type": "code",
   "execution_count": 9,
   "metadata": {},
   "outputs": [],
   "source": [
    "# Set day order\n",
    "days = ['Monday', 'Tuesday', 'Wednesday', 'Thursday', 'Friday','Saturday','Sunday']\n",
    "day_order = pd.api.types.CategoricalDtype(ordered=True, categories=days)\n",
    "flights['day_of_week'] = flights['day_of_week'].astype(day_order);"
   ]
  },
  {
   "cell_type": "code",
   "execution_count": 10,
   "metadata": {
    "scrolled": true
   },
   "outputs": [
    {
     "data": {
      "text/plain": [
       "['Thursday', 'Friday', 'Saturday', 'Sunday', 'Monday', 'Tuesday', 'Wednesday']\n",
       "Categories (7, object): ['Monday' < 'Tuesday' < 'Wednesday' < 'Thursday' < 'Friday' < 'Saturday' < 'Sunday']"
      ]
     },
     "execution_count": 10,
     "metadata": {},
     "output_type": "execute_result"
    }
   ],
   "source": [
    "flights['day_of_week'].unique()"
   ]
  },
  {
   "cell_type": "code",
   "execution_count": 11,
   "metadata": {
    "scrolled": false
   },
   "outputs": [
    {
     "data": {
      "text/html": [
       "<div>\n",
       "<style scoped>\n",
       "    .dataframe tbody tr th:only-of-type {\n",
       "        vertical-align: middle;\n",
       "    }\n",
       "\n",
       "    .dataframe tbody tr th {\n",
       "        vertical-align: top;\n",
       "    }\n",
       "\n",
       "    .dataframe thead th {\n",
       "        text-align: right;\n",
       "    }\n",
       "</style>\n",
       "<table border=\"1\" class=\"dataframe\">\n",
       "  <thead>\n",
       "    <tr style=\"text-align: right;\">\n",
       "      <th></th>\n",
       "      <th>year</th>\n",
       "      <th>month</th>\n",
       "      <th>day_of_month</th>\n",
       "      <th>day_of_week</th>\n",
       "      <th>actual_dep_time</th>\n",
       "      <th>scheduled_dep_time</th>\n",
       "      <th>actual_arr_time</th>\n",
       "      <th>scheduled_arr_time</th>\n",
       "      <th>carrier_code</th>\n",
       "      <th>flight_number</th>\n",
       "      <th>...</th>\n",
       "      <th>taxi_in_time</th>\n",
       "      <th>taxi_out_time</th>\n",
       "      <th>cancelled</th>\n",
       "      <th>cancellation_code</th>\n",
       "      <th>diverted</th>\n",
       "      <th>carrier_delay</th>\n",
       "      <th>weather_delay</th>\n",
       "      <th>nas_delay</th>\n",
       "      <th>security_delay</th>\n",
       "      <th>late_aircraft_delay</th>\n",
       "    </tr>\n",
       "  </thead>\n",
       "  <tbody>\n",
       "    <tr>\n",
       "      <th>0</th>\n",
       "      <td>2008</td>\n",
       "      <td>1</td>\n",
       "      <td>3</td>\n",
       "      <td>Thursday</td>\n",
       "      <td>1343.0</td>\n",
       "      <td>1325</td>\n",
       "      <td>1451.0</td>\n",
       "      <td>1435</td>\n",
       "      <td>WN</td>\n",
       "      <td>588</td>\n",
       "      <td>...</td>\n",
       "      <td>4.0</td>\n",
       "      <td>9.0</td>\n",
       "      <td>0</td>\n",
       "      <td>NaN</td>\n",
       "      <td>0</td>\n",
       "      <td>16.0</td>\n",
       "      <td>0.0</td>\n",
       "      <td>0.0</td>\n",
       "      <td>0.0</td>\n",
       "      <td>0.0</td>\n",
       "    </tr>\n",
       "    <tr>\n",
       "      <th>1</th>\n",
       "      <td>2008</td>\n",
       "      <td>1</td>\n",
       "      <td>3</td>\n",
       "      <td>Thursday</td>\n",
       "      <td>1125.0</td>\n",
       "      <td>1120</td>\n",
       "      <td>1247.0</td>\n",
       "      <td>1245</td>\n",
       "      <td>WN</td>\n",
       "      <td>1343</td>\n",
       "      <td>...</td>\n",
       "      <td>3.0</td>\n",
       "      <td>8.0</td>\n",
       "      <td>0</td>\n",
       "      <td>NaN</td>\n",
       "      <td>0</td>\n",
       "      <td>NaN</td>\n",
       "      <td>NaN</td>\n",
       "      <td>NaN</td>\n",
       "      <td>NaN</td>\n",
       "      <td>NaN</td>\n",
       "    </tr>\n",
       "    <tr>\n",
       "      <th>2</th>\n",
       "      <td>2008</td>\n",
       "      <td>1</td>\n",
       "      <td>3</td>\n",
       "      <td>Thursday</td>\n",
       "      <td>2009.0</td>\n",
       "      <td>2015</td>\n",
       "      <td>2136.0</td>\n",
       "      <td>2140</td>\n",
       "      <td>WN</td>\n",
       "      <td>3841</td>\n",
       "      <td>...</td>\n",
       "      <td>2.0</td>\n",
       "      <td>14.0</td>\n",
       "      <td>0</td>\n",
       "      <td>NaN</td>\n",
       "      <td>0</td>\n",
       "      <td>NaN</td>\n",
       "      <td>NaN</td>\n",
       "      <td>NaN</td>\n",
       "      <td>NaN</td>\n",
       "      <td>NaN</td>\n",
       "    </tr>\n",
       "    <tr>\n",
       "      <th>3</th>\n",
       "      <td>2008</td>\n",
       "      <td>1</td>\n",
       "      <td>3</td>\n",
       "      <td>Thursday</td>\n",
       "      <td>903.0</td>\n",
       "      <td>855</td>\n",
       "      <td>1203.0</td>\n",
       "      <td>1205</td>\n",
       "      <td>WN</td>\n",
       "      <td>3</td>\n",
       "      <td>...</td>\n",
       "      <td>5.0</td>\n",
       "      <td>7.0</td>\n",
       "      <td>0</td>\n",
       "      <td>NaN</td>\n",
       "      <td>0</td>\n",
       "      <td>NaN</td>\n",
       "      <td>NaN</td>\n",
       "      <td>NaN</td>\n",
       "      <td>NaN</td>\n",
       "      <td>NaN</td>\n",
       "    </tr>\n",
       "    <tr>\n",
       "      <th>4</th>\n",
       "      <td>2008</td>\n",
       "      <td>1</td>\n",
       "      <td>3</td>\n",
       "      <td>Thursday</td>\n",
       "      <td>1423.0</td>\n",
       "      <td>1400</td>\n",
       "      <td>1726.0</td>\n",
       "      <td>1710</td>\n",
       "      <td>WN</td>\n",
       "      <td>25</td>\n",
       "      <td>...</td>\n",
       "      <td>6.0</td>\n",
       "      <td>10.0</td>\n",
       "      <td>0</td>\n",
       "      <td>NaN</td>\n",
       "      <td>0</td>\n",
       "      <td>16.0</td>\n",
       "      <td>0.0</td>\n",
       "      <td>0.0</td>\n",
       "      <td>0.0</td>\n",
       "      <td>0.0</td>\n",
       "    </tr>\n",
       "  </tbody>\n",
       "</table>\n",
       "<p>5 rows × 29 columns</p>\n",
       "</div>"
      ],
      "text/plain": [
       "   year  month  day_of_month day_of_week  actual_dep_time  scheduled_dep_time  \\\n",
       "0  2008      1             3    Thursday           1343.0                1325   \n",
       "1  2008      1             3    Thursday           1125.0                1120   \n",
       "2  2008      1             3    Thursday           2009.0                2015   \n",
       "3  2008      1             3    Thursday            903.0                 855   \n",
       "4  2008      1             3    Thursday           1423.0                1400   \n",
       "\n",
       "   actual_arr_time  scheduled_arr_time carrier_code  flight_number  ...  \\\n",
       "0           1451.0                1435           WN            588  ...   \n",
       "1           1247.0                1245           WN           1343  ...   \n",
       "2           2136.0                2140           WN           3841  ...   \n",
       "3           1203.0                1205           WN              3  ...   \n",
       "4           1726.0                1710           WN             25  ...   \n",
       "\n",
       "  taxi_in_time  taxi_out_time  cancelled  cancellation_code  diverted  \\\n",
       "0          4.0            9.0          0                NaN         0   \n",
       "1          3.0            8.0          0                NaN         0   \n",
       "2          2.0           14.0          0                NaN         0   \n",
       "3          5.0            7.0          0                NaN         0   \n",
       "4          6.0           10.0          0                NaN         0   \n",
       "\n",
       "   carrier_delay weather_delay nas_delay  security_delay  late_aircraft_delay  \n",
       "0           16.0           0.0       0.0             0.0                  0.0  \n",
       "1            NaN           NaN       NaN             NaN                  NaN  \n",
       "2            NaN           NaN       NaN             NaN                  NaN  \n",
       "3            NaN           NaN       NaN             NaN                  NaN  \n",
       "4           16.0           0.0       0.0             0.0                  0.0  \n",
       "\n",
       "[5 rows x 29 columns]"
      ]
     },
     "execution_count": 11,
     "metadata": {},
     "output_type": "execute_result"
    }
   ],
   "source": [
    "flights.head()"
   ]
  },
  {
   "cell_type": "code",
   "execution_count": 12,
   "metadata": {
    "scrolled": true
   },
   "outputs": [
    {
     "data": {
      "text/plain": [
       "Wednesday    365560\n",
       "Tuesday      358942\n",
       "Friday       350566\n",
       "Thursday     349831\n",
       "Monday       347984\n",
       "Sunday       328237\n",
       "Saturday     288097\n",
       "Name: day_of_week, dtype: int64"
      ]
     },
     "execution_count": 12,
     "metadata": {},
     "output_type": "execute_result"
    }
   ],
   "source": [
    "flights.day_of_week.value_counts()"
   ]
  },
  {
   "cell_type": "markdown",
   "metadata": {},
   "source": [
    "Columns to convert:\n",
    "- actual_dep_time\n",
    "- scheduled_dep_time\n",
    "- actual_arr_time\n",
    "- scheduled_arr_time"
   ]
  },
  {
   "cell_type": "code",
   "execution_count": 13,
   "metadata": {
    "scrolled": true
   },
   "outputs": [
    {
     "name": "stdout",
     "output_type": "stream",
     "text": [
      "<bound method NDFrame.head of 0          1343.0\n",
      "1          1125.0\n",
      "2          2009.0\n",
      "3           903.0\n",
      "4          1423.0\n",
      "            ...  \n",
      "2389212    1025.0\n",
      "2389213    1319.0\n",
      "2389214    1335.0\n",
      "2389215    1933.0\n",
      "2389216     621.0\n",
      "Name: actual_dep_time, Length: 2389217, dtype: object>\n",
      "<bound method NDFrame.head of 0          1343\n",
      "1          1125\n",
      "2          2009\n",
      "3           903\n",
      "4          1423\n",
      "           ... \n",
      "2389212    1025\n",
      "2389213    1319\n",
      "2389214    1335\n",
      "2389215    1933\n",
      "2389216     621\n",
      "Name: actual_dep_time, Length: 2389217, dtype: object>\n",
      "<bound method NDFrame.head of 0          1343\n",
      "1          1125\n",
      "2          2009\n",
      "3          0903\n",
      "4          1423\n",
      "           ... \n",
      "2389212    1025\n",
      "2389213    1319\n",
      "2389214    1335\n",
      "2389215    1933\n",
      "2389216    0621\n",
      "Name: actual_dep_time, Length: 2389217, dtype: object>\n",
      "<bound method NDFrame.head of 0          13:43\n",
      "1          11:25\n",
      "2          20:09\n",
      "3          09:03\n",
      "4          14:23\n",
      "           ...  \n",
      "2389212    10:25\n",
      "2389213    13:19\n",
      "2389214    13:35\n",
      "2389215    19:33\n",
      "2389216    06:21\n",
      "Name: actual_dep_time, Length: 2389217, dtype: object>\n",
      "<bound method NDFrame.head of 0          1325\n",
      "1          1120\n",
      "2          2015\n",
      "3           855\n",
      "4          1400\n",
      "           ... \n",
      "2389212    1025\n",
      "2389213    1320\n",
      "2389214    1335\n",
      "2389215    1935\n",
      "2389216     615\n",
      "Name: scheduled_dep_time, Length: 2389217, dtype: object>\n",
      "<bound method NDFrame.head of 0          1325\n",
      "1          1120\n",
      "2          2015\n",
      "3           855\n",
      "4          1400\n",
      "           ... \n",
      "2389212    1025\n",
      "2389213    1320\n",
      "2389214    1335\n",
      "2389215    1935\n",
      "2389216     615\n",
      "Name: scheduled_dep_time, Length: 2389217, dtype: object>\n",
      "<bound method NDFrame.head of 0          1325\n",
      "1          1120\n",
      "2          2015\n",
      "3          0855\n",
      "4          1400\n",
      "           ... \n",
      "2389212    1025\n",
      "2389213    1320\n",
      "2389214    1335\n",
      "2389215    1935\n",
      "2389216    0615\n",
      "Name: scheduled_dep_time, Length: 2389217, dtype: object>\n",
      "<bound method NDFrame.head of 0          13:25\n",
      "1          11:20\n",
      "2          20:15\n",
      "3          08:55\n",
      "4          14:00\n",
      "           ...  \n",
      "2389212    10:25\n",
      "2389213    13:20\n",
      "2389214    13:35\n",
      "2389215    19:35\n",
      "2389216    06:15\n",
      "Name: scheduled_dep_time, Length: 2389217, dtype: object>\n",
      "<bound method NDFrame.head of 0          1451.0\n",
      "1          1247.0\n",
      "2          2136.0\n",
      "3          1203.0\n",
      "4          1726.0\n",
      "            ...  \n",
      "2389212    1234.0\n",
      "2389213    1527.0\n",
      "2389214    1556.0\n",
      "2389215    2140.0\n",
      "2389216     752.0\n",
      "Name: actual_arr_time, Length: 2389217, dtype: object>\n",
      "<bound method NDFrame.head of 0          1451\n",
      "1          1247\n",
      "2          2136\n",
      "3          1203\n",
      "4          1726\n",
      "           ... \n",
      "2389212    1234\n",
      "2389213    1527\n",
      "2389214    1556\n",
      "2389215    2140\n",
      "2389216     752\n",
      "Name: actual_arr_time, Length: 2389217, dtype: object>\n",
      "<bound method NDFrame.head of 0          1451\n",
      "1          1247\n",
      "2          2136\n",
      "3          1203\n",
      "4          1726\n",
      "           ... \n",
      "2389212    1234\n",
      "2389213    1527\n",
      "2389214    1556\n",
      "2389215    2140\n",
      "2389216    0752\n",
      "Name: actual_arr_time, Length: 2389217, dtype: object>\n",
      "<bound method NDFrame.head of 0          14:51\n",
      "1          12:47\n",
      "2          21:36\n",
      "3          12:03\n",
      "4          17:26\n",
      "           ...  \n",
      "2389212    12:34\n",
      "2389213    15:27\n",
      "2389214    15:56\n",
      "2389215    21:40\n",
      "2389216    07:52\n",
      "Name: actual_arr_time, Length: 2389217, dtype: object>\n",
      "<bound method NDFrame.head of 0          1435\n",
      "1          1245\n",
      "2          2140\n",
      "3          1205\n",
      "4          1710\n",
      "           ... \n",
      "2389212    1237\n",
      "2389213    1524\n",
      "2389214    1553\n",
      "2389215    2141\n",
      "2389216     754\n",
      "Name: scheduled_arr_time, Length: 2389217, dtype: object>\n",
      "<bound method NDFrame.head of 0          1435\n",
      "1          1245\n",
      "2          2140\n",
      "3          1205\n",
      "4          1710\n",
      "           ... \n",
      "2389212    1237\n",
      "2389213    1524\n",
      "2389214    1553\n",
      "2389215    2141\n",
      "2389216     754\n",
      "Name: scheduled_arr_time, Length: 2389217, dtype: object>\n",
      "<bound method NDFrame.head of 0          1435\n",
      "1          1245\n",
      "2          2140\n",
      "3          1205\n",
      "4          1710\n",
      "           ... \n",
      "2389212    1237\n",
      "2389213    1524\n",
      "2389214    1553\n",
      "2389215    2141\n",
      "2389216    0754\n",
      "Name: scheduled_arr_time, Length: 2389217, dtype: object>\n",
      "<bound method NDFrame.head of 0          14:35\n",
      "1          12:45\n",
      "2          21:40\n",
      "3          12:05\n",
      "4          17:10\n",
      "           ...  \n",
      "2389212    12:37\n",
      "2389213    15:24\n",
      "2389214    15:53\n",
      "2389215    21:41\n",
      "2389216    07:54\n",
      "Name: scheduled_arr_time, Length: 2389217, dtype: object>\n"
     ]
    }
   ],
   "source": [
    "##### Check code, changes are not staying in place..\n",
    "# Columns to convert\n",
    "convert_col = [flights['actual_dep_time'],\n",
    "               flights['scheduled_dep_time'],\n",
    "               flights['actual_arr_time'],\n",
    "               flights['scheduled_arr_time']]\n",
    "\n",
    "for column_name in convert_col:\n",
    "        #Convert to string\n",
    "        column_name = column_name.astype(str)\n",
    "        print(column_name.head)\n",
    "        # remove .0 if present\n",
    "        column_name = column_name.str.replace('\\.0','')\n",
    "        print(column_name.head)\n",
    "        # pad string so it is 4 digits \n",
    "        column_name = column_name.str.zfill(4)\n",
    "        print(column_name.head)\n",
    "        # Convert to format HH:MM\n",
    "        column_name = column_name.apply(lambda x:\"{}:{}\".format(x[:2],x[2:]))\n",
    "    \n",
    "        print(column_name.head)"
   ]
  },
  {
   "cell_type": "code",
   "execution_count": 14,
   "metadata": {},
   "outputs": [
    {
     "data": {
      "text/html": [
       "<div>\n",
       "<style scoped>\n",
       "    .dataframe tbody tr th:only-of-type {\n",
       "        vertical-align: middle;\n",
       "    }\n",
       "\n",
       "    .dataframe tbody tr th {\n",
       "        vertical-align: top;\n",
       "    }\n",
       "\n",
       "    .dataframe thead th {\n",
       "        text-align: right;\n",
       "    }\n",
       "</style>\n",
       "<table border=\"1\" class=\"dataframe\">\n",
       "  <thead>\n",
       "    <tr style=\"text-align: right;\">\n",
       "      <th></th>\n",
       "      <th>year</th>\n",
       "      <th>month</th>\n",
       "      <th>day_of_month</th>\n",
       "      <th>day_of_week</th>\n",
       "      <th>actual_dep_time</th>\n",
       "      <th>scheduled_dep_time</th>\n",
       "      <th>actual_arr_time</th>\n",
       "      <th>scheduled_arr_time</th>\n",
       "      <th>carrier_code</th>\n",
       "      <th>flight_number</th>\n",
       "      <th>...</th>\n",
       "      <th>taxi_in_time</th>\n",
       "      <th>taxi_out_time</th>\n",
       "      <th>cancelled</th>\n",
       "      <th>cancellation_code</th>\n",
       "      <th>diverted</th>\n",
       "      <th>carrier_delay</th>\n",
       "      <th>weather_delay</th>\n",
       "      <th>nas_delay</th>\n",
       "      <th>security_delay</th>\n",
       "      <th>late_aircraft_delay</th>\n",
       "    </tr>\n",
       "  </thead>\n",
       "  <tbody>\n",
       "    <tr>\n",
       "      <th>0</th>\n",
       "      <td>2008</td>\n",
       "      <td>1</td>\n",
       "      <td>3</td>\n",
       "      <td>Thursday</td>\n",
       "      <td>1343.0</td>\n",
       "      <td>1325</td>\n",
       "      <td>1451.0</td>\n",
       "      <td>1435</td>\n",
       "      <td>WN</td>\n",
       "      <td>588</td>\n",
       "      <td>...</td>\n",
       "      <td>4.0</td>\n",
       "      <td>9.0</td>\n",
       "      <td>0</td>\n",
       "      <td>NaN</td>\n",
       "      <td>0</td>\n",
       "      <td>16.0</td>\n",
       "      <td>0.0</td>\n",
       "      <td>0.0</td>\n",
       "      <td>0.0</td>\n",
       "      <td>0.0</td>\n",
       "    </tr>\n",
       "    <tr>\n",
       "      <th>1</th>\n",
       "      <td>2008</td>\n",
       "      <td>1</td>\n",
       "      <td>3</td>\n",
       "      <td>Thursday</td>\n",
       "      <td>1125.0</td>\n",
       "      <td>1120</td>\n",
       "      <td>1247.0</td>\n",
       "      <td>1245</td>\n",
       "      <td>WN</td>\n",
       "      <td>1343</td>\n",
       "      <td>...</td>\n",
       "      <td>3.0</td>\n",
       "      <td>8.0</td>\n",
       "      <td>0</td>\n",
       "      <td>NaN</td>\n",
       "      <td>0</td>\n",
       "      <td>NaN</td>\n",
       "      <td>NaN</td>\n",
       "      <td>NaN</td>\n",
       "      <td>NaN</td>\n",
       "      <td>NaN</td>\n",
       "    </tr>\n",
       "    <tr>\n",
       "      <th>2</th>\n",
       "      <td>2008</td>\n",
       "      <td>1</td>\n",
       "      <td>3</td>\n",
       "      <td>Thursday</td>\n",
       "      <td>2009.0</td>\n",
       "      <td>2015</td>\n",
       "      <td>2136.0</td>\n",
       "      <td>2140</td>\n",
       "      <td>WN</td>\n",
       "      <td>3841</td>\n",
       "      <td>...</td>\n",
       "      <td>2.0</td>\n",
       "      <td>14.0</td>\n",
       "      <td>0</td>\n",
       "      <td>NaN</td>\n",
       "      <td>0</td>\n",
       "      <td>NaN</td>\n",
       "      <td>NaN</td>\n",
       "      <td>NaN</td>\n",
       "      <td>NaN</td>\n",
       "      <td>NaN</td>\n",
       "    </tr>\n",
       "    <tr>\n",
       "      <th>3</th>\n",
       "      <td>2008</td>\n",
       "      <td>1</td>\n",
       "      <td>3</td>\n",
       "      <td>Thursday</td>\n",
       "      <td>903.0</td>\n",
       "      <td>855</td>\n",
       "      <td>1203.0</td>\n",
       "      <td>1205</td>\n",
       "      <td>WN</td>\n",
       "      <td>3</td>\n",
       "      <td>...</td>\n",
       "      <td>5.0</td>\n",
       "      <td>7.0</td>\n",
       "      <td>0</td>\n",
       "      <td>NaN</td>\n",
       "      <td>0</td>\n",
       "      <td>NaN</td>\n",
       "      <td>NaN</td>\n",
       "      <td>NaN</td>\n",
       "      <td>NaN</td>\n",
       "      <td>NaN</td>\n",
       "    </tr>\n",
       "    <tr>\n",
       "      <th>4</th>\n",
       "      <td>2008</td>\n",
       "      <td>1</td>\n",
       "      <td>3</td>\n",
       "      <td>Thursday</td>\n",
       "      <td>1423.0</td>\n",
       "      <td>1400</td>\n",
       "      <td>1726.0</td>\n",
       "      <td>1710</td>\n",
       "      <td>WN</td>\n",
       "      <td>25</td>\n",
       "      <td>...</td>\n",
       "      <td>6.0</td>\n",
       "      <td>10.0</td>\n",
       "      <td>0</td>\n",
       "      <td>NaN</td>\n",
       "      <td>0</td>\n",
       "      <td>16.0</td>\n",
       "      <td>0.0</td>\n",
       "      <td>0.0</td>\n",
       "      <td>0.0</td>\n",
       "      <td>0.0</td>\n",
       "    </tr>\n",
       "  </tbody>\n",
       "</table>\n",
       "<p>5 rows × 29 columns</p>\n",
       "</div>"
      ],
      "text/plain": [
       "   year  month  day_of_month day_of_week  actual_dep_time  scheduled_dep_time  \\\n",
       "0  2008      1             3    Thursday           1343.0                1325   \n",
       "1  2008      1             3    Thursday           1125.0                1120   \n",
       "2  2008      1             3    Thursday           2009.0                2015   \n",
       "3  2008      1             3    Thursday            903.0                 855   \n",
       "4  2008      1             3    Thursday           1423.0                1400   \n",
       "\n",
       "   actual_arr_time  scheduled_arr_time carrier_code  flight_number  ...  \\\n",
       "0           1451.0                1435           WN            588  ...   \n",
       "1           1247.0                1245           WN           1343  ...   \n",
       "2           2136.0                2140           WN           3841  ...   \n",
       "3           1203.0                1205           WN              3  ...   \n",
       "4           1726.0                1710           WN             25  ...   \n",
       "\n",
       "  taxi_in_time  taxi_out_time  cancelled  cancellation_code  diverted  \\\n",
       "0          4.0            9.0          0                NaN         0   \n",
       "1          3.0            8.0          0                NaN         0   \n",
       "2          2.0           14.0          0                NaN         0   \n",
       "3          5.0            7.0          0                NaN         0   \n",
       "4          6.0           10.0          0                NaN         0   \n",
       "\n",
       "   carrier_delay weather_delay nas_delay  security_delay  late_aircraft_delay  \n",
       "0           16.0           0.0       0.0             0.0                  0.0  \n",
       "1            NaN           NaN       NaN             NaN                  NaN  \n",
       "2            NaN           NaN       NaN             NaN                  NaN  \n",
       "3            NaN           NaN       NaN             NaN                  NaN  \n",
       "4           16.0           0.0       0.0             0.0                  0.0  \n",
       "\n",
       "[5 rows x 29 columns]"
      ]
     },
     "execution_count": 14,
     "metadata": {},
     "output_type": "execute_result"
    }
   ],
   "source": [
    "flights.head()"
   ]
  },
  {
   "cell_type": "markdown",
   "metadata": {},
   "source": [
    "Some attempts below\n"
   ]
  },
  {
   "cell_type": "code",
   "execution_count": 15,
   "metadata": {},
   "outputs": [],
   "source": [
    "flight = flights.copy()"
   ]
  },
  {
   "cell_type": "code",
   "execution_count": 16,
   "metadata": {},
   "outputs": [
    {
     "name": "stdout",
     "output_type": "stream",
     "text": [
      "<class 'pandas.core.frame.DataFrame'>\n",
      "RangeIndex: 2389217 entries, 0 to 2389216\n",
      "Data columns (total 29 columns):\n",
      " #   Column                  Dtype   \n",
      "---  ------                  -----   \n",
      " 0   year                    int64   \n",
      " 1   month                   int64   \n",
      " 2   day_of_month            int64   \n",
      " 3   day_of_week             category\n",
      " 4   actual_dep_time         float64 \n",
      " 5   scheduled_dep_time      int64   \n",
      " 6   actual_arr_time         float64 \n",
      " 7   scheduled_arr_time      int64   \n",
      " 8   carrier_code            object  \n",
      " 9   flight_number           int64   \n",
      " 10  tail_number             object  \n",
      " 11  actual_elapsed_time     float64 \n",
      " 12  scheduled_elapsed_time  float64 \n",
      " 13  air_time                float64 \n",
      " 14  arr_delay               float64 \n",
      " 15  dep_delay               float64 \n",
      " 16  origin                  object  \n",
      " 17  destination             object  \n",
      " 18  distance                int64   \n",
      " 19  taxi_in_time            float64 \n",
      " 20  taxi_out_time           float64 \n",
      " 21  cancelled               int64   \n",
      " 22  cancellation_code       object  \n",
      " 23  diverted                int64   \n",
      " 24  carrier_delay           float64 \n",
      " 25  weather_delay           float64 \n",
      " 26  nas_delay               float64 \n",
      " 27  security_delay          float64 \n",
      " 28  late_aircraft_delay     float64 \n",
      "dtypes: category(1), float64(14), int64(9), object(5)\n",
      "memory usage: 512.7+ MB\n"
     ]
    }
   ],
   "source": [
    "flight.info()"
   ]
  },
  {
   "cell_type": "markdown",
   "metadata": {},
   "source": [
    "**This method below works but try making it into a function/loop also for other columns**"
   ]
  },
  {
   "cell_type": "code",
   "execution_count": 17,
   "metadata": {},
   "outputs": [
    {
     "data": {
      "text/plain": [
       "0    1343.0\n",
       "1    1125.0\n",
       "2    2009.0\n",
       "3     903.0\n",
       "4    1423.0\n",
       "Name: actual_dep_time, dtype: object"
      ]
     },
     "execution_count": 17,
     "metadata": {},
     "output_type": "execute_result"
    }
   ],
   "source": [
    "# Convert to string format\n",
    "flight['actual_dep_time'] = flight['actual_dep_time'].astype(str)\n",
    "flight['actual_dep_time'].head()"
   ]
  },
  {
   "cell_type": "code",
   "execution_count": 18,
   "metadata": {},
   "outputs": [
    {
     "data": {
      "text/plain": [
       "0    1343\n",
       "1    1125\n",
       "2    2009\n",
       "3     903\n",
       "4    1423\n",
       "Name: actual_dep_time, dtype: object"
      ]
     },
     "execution_count": 18,
     "metadata": {},
     "output_type": "execute_result"
    }
   ],
   "source": [
    "# remove .0 if needed\n",
    "flight['actual_dep_time'] = flight['actual_dep_time'].str.replace('\\.0','')\n",
    "flight['actual_dep_time'].head()"
   ]
  },
  {
   "cell_type": "code",
   "execution_count": 19,
   "metadata": {},
   "outputs": [
    {
     "data": {
      "text/plain": [
       "0    1343\n",
       "1    1125\n",
       "2    2009\n",
       "3    0903\n",
       "4    1423\n",
       "Name: actual_dep_time, dtype: object"
      ]
     },
     "execution_count": 19,
     "metadata": {},
     "output_type": "execute_result"
    }
   ],
   "source": [
    "# pad string so it is 4 digits \n",
    "flight['actual_dep_time'] = flight['actual_dep_time'].str.zfill(4)\n",
    "flight['actual_dep_time'].head()"
   ]
  },
  {
   "cell_type": "code",
   "execution_count": 20,
   "metadata": {},
   "outputs": [
    {
     "data": {
      "text/plain": [
       "0    13:43\n",
       "1    11:25\n",
       "2    20:09\n",
       "3    09:03\n",
       "4    14:23\n",
       "Name: actual_dep_time, dtype: object"
      ]
     },
     "execution_count": 20,
     "metadata": {},
     "output_type": "execute_result"
    }
   ],
   "source": [
    "#flight['actual_dep_time'] = flight['actual_dep_time'].apply(lambda x:\"{}:{}:{}\".format(x[:2],x[2:],'00'))\n",
    "flight['actual_dep_time'] = flight['actual_dep_time'].apply(lambda x:\"{}:{}\".format(x[:2],x[2:]))\n",
    "flight['actual_dep_time'].head()"
   ]
  },
  {
   "cell_type": "code",
   "execution_count": 21,
   "metadata": {},
   "outputs": [
    {
     "data": {
      "text/html": [
       "<div>\n",
       "<style scoped>\n",
       "    .dataframe tbody tr th:only-of-type {\n",
       "        vertical-align: middle;\n",
       "    }\n",
       "\n",
       "    .dataframe tbody tr th {\n",
       "        vertical-align: top;\n",
       "    }\n",
       "\n",
       "    .dataframe thead th {\n",
       "        text-align: right;\n",
       "    }\n",
       "</style>\n",
       "<table border=\"1\" class=\"dataframe\">\n",
       "  <thead>\n",
       "    <tr style=\"text-align: right;\">\n",
       "      <th></th>\n",
       "      <th>year</th>\n",
       "      <th>month</th>\n",
       "      <th>day_of_month</th>\n",
       "      <th>day_of_week</th>\n",
       "      <th>actual_dep_time</th>\n",
       "      <th>scheduled_dep_time</th>\n",
       "      <th>actual_arr_time</th>\n",
       "      <th>scheduled_arr_time</th>\n",
       "      <th>carrier_code</th>\n",
       "      <th>flight_number</th>\n",
       "      <th>...</th>\n",
       "      <th>taxi_in_time</th>\n",
       "      <th>taxi_out_time</th>\n",
       "      <th>cancelled</th>\n",
       "      <th>cancellation_code</th>\n",
       "      <th>diverted</th>\n",
       "      <th>carrier_delay</th>\n",
       "      <th>weather_delay</th>\n",
       "      <th>nas_delay</th>\n",
       "      <th>security_delay</th>\n",
       "      <th>late_aircraft_delay</th>\n",
       "    </tr>\n",
       "  </thead>\n",
       "  <tbody>\n",
       "    <tr>\n",
       "      <th>0</th>\n",
       "      <td>2008</td>\n",
       "      <td>1</td>\n",
       "      <td>3</td>\n",
       "      <td>Thursday</td>\n",
       "      <td>13:43</td>\n",
       "      <td>1325</td>\n",
       "      <td>1451.0</td>\n",
       "      <td>1435</td>\n",
       "      <td>WN</td>\n",
       "      <td>588</td>\n",
       "      <td>...</td>\n",
       "      <td>4.0</td>\n",
       "      <td>9.0</td>\n",
       "      <td>0</td>\n",
       "      <td>NaN</td>\n",
       "      <td>0</td>\n",
       "      <td>16.0</td>\n",
       "      <td>0.0</td>\n",
       "      <td>0.0</td>\n",
       "      <td>0.0</td>\n",
       "      <td>0.0</td>\n",
       "    </tr>\n",
       "    <tr>\n",
       "      <th>1</th>\n",
       "      <td>2008</td>\n",
       "      <td>1</td>\n",
       "      <td>3</td>\n",
       "      <td>Thursday</td>\n",
       "      <td>11:25</td>\n",
       "      <td>1120</td>\n",
       "      <td>1247.0</td>\n",
       "      <td>1245</td>\n",
       "      <td>WN</td>\n",
       "      <td>1343</td>\n",
       "      <td>...</td>\n",
       "      <td>3.0</td>\n",
       "      <td>8.0</td>\n",
       "      <td>0</td>\n",
       "      <td>NaN</td>\n",
       "      <td>0</td>\n",
       "      <td>NaN</td>\n",
       "      <td>NaN</td>\n",
       "      <td>NaN</td>\n",
       "      <td>NaN</td>\n",
       "      <td>NaN</td>\n",
       "    </tr>\n",
       "    <tr>\n",
       "      <th>2</th>\n",
       "      <td>2008</td>\n",
       "      <td>1</td>\n",
       "      <td>3</td>\n",
       "      <td>Thursday</td>\n",
       "      <td>20:09</td>\n",
       "      <td>2015</td>\n",
       "      <td>2136.0</td>\n",
       "      <td>2140</td>\n",
       "      <td>WN</td>\n",
       "      <td>3841</td>\n",
       "      <td>...</td>\n",
       "      <td>2.0</td>\n",
       "      <td>14.0</td>\n",
       "      <td>0</td>\n",
       "      <td>NaN</td>\n",
       "      <td>0</td>\n",
       "      <td>NaN</td>\n",
       "      <td>NaN</td>\n",
       "      <td>NaN</td>\n",
       "      <td>NaN</td>\n",
       "      <td>NaN</td>\n",
       "    </tr>\n",
       "    <tr>\n",
       "      <th>3</th>\n",
       "      <td>2008</td>\n",
       "      <td>1</td>\n",
       "      <td>3</td>\n",
       "      <td>Thursday</td>\n",
       "      <td>09:03</td>\n",
       "      <td>855</td>\n",
       "      <td>1203.0</td>\n",
       "      <td>1205</td>\n",
       "      <td>WN</td>\n",
       "      <td>3</td>\n",
       "      <td>...</td>\n",
       "      <td>5.0</td>\n",
       "      <td>7.0</td>\n",
       "      <td>0</td>\n",
       "      <td>NaN</td>\n",
       "      <td>0</td>\n",
       "      <td>NaN</td>\n",
       "      <td>NaN</td>\n",
       "      <td>NaN</td>\n",
       "      <td>NaN</td>\n",
       "      <td>NaN</td>\n",
       "    </tr>\n",
       "    <tr>\n",
       "      <th>4</th>\n",
       "      <td>2008</td>\n",
       "      <td>1</td>\n",
       "      <td>3</td>\n",
       "      <td>Thursday</td>\n",
       "      <td>14:23</td>\n",
       "      <td>1400</td>\n",
       "      <td>1726.0</td>\n",
       "      <td>1710</td>\n",
       "      <td>WN</td>\n",
       "      <td>25</td>\n",
       "      <td>...</td>\n",
       "      <td>6.0</td>\n",
       "      <td>10.0</td>\n",
       "      <td>0</td>\n",
       "      <td>NaN</td>\n",
       "      <td>0</td>\n",
       "      <td>16.0</td>\n",
       "      <td>0.0</td>\n",
       "      <td>0.0</td>\n",
       "      <td>0.0</td>\n",
       "      <td>0.0</td>\n",
       "    </tr>\n",
       "  </tbody>\n",
       "</table>\n",
       "<p>5 rows × 29 columns</p>\n",
       "</div>"
      ],
      "text/plain": [
       "   year  month  day_of_month day_of_week actual_dep_time  scheduled_dep_time  \\\n",
       "0  2008      1             3    Thursday           13:43                1325   \n",
       "1  2008      1             3    Thursday           11:25                1120   \n",
       "2  2008      1             3    Thursday           20:09                2015   \n",
       "3  2008      1             3    Thursday           09:03                 855   \n",
       "4  2008      1             3    Thursday           14:23                1400   \n",
       "\n",
       "   actual_arr_time  scheduled_arr_time carrier_code  flight_number  ...  \\\n",
       "0           1451.0                1435           WN            588  ...   \n",
       "1           1247.0                1245           WN           1343  ...   \n",
       "2           2136.0                2140           WN           3841  ...   \n",
       "3           1203.0                1205           WN              3  ...   \n",
       "4           1726.0                1710           WN             25  ...   \n",
       "\n",
       "  taxi_in_time  taxi_out_time  cancelled  cancellation_code  diverted  \\\n",
       "0          4.0            9.0          0                NaN         0   \n",
       "1          3.0            8.0          0                NaN         0   \n",
       "2          2.0           14.0          0                NaN         0   \n",
       "3          5.0            7.0          0                NaN         0   \n",
       "4          6.0           10.0          0                NaN         0   \n",
       "\n",
       "   carrier_delay weather_delay nas_delay  security_delay  late_aircraft_delay  \n",
       "0           16.0           0.0       0.0             0.0                  0.0  \n",
       "1            NaN           NaN       NaN             NaN                  NaN  \n",
       "2            NaN           NaN       NaN             NaN                  NaN  \n",
       "3            NaN           NaN       NaN             NaN                  NaN  \n",
       "4           16.0           0.0       0.0             0.0                  0.0  \n",
       "\n",
       "[5 rows x 29 columns]"
      ]
     },
     "execution_count": 21,
     "metadata": {},
     "output_type": "execute_result"
    }
   ],
   "source": [
    "flight.head()"
   ]
  },
  {
   "cell_type": "code",
   "execution_count": 22,
   "metadata": {},
   "outputs": [],
   "source": [
    "## remove flight['actual_dep_time'] = pd.to_datetime(flight['actual_dep_time'], format='HHMM', errors='ignore')"
   ]
  },
  {
   "cell_type": "code",
   "execution_count": 23,
   "metadata": {},
   "outputs": [
    {
     "data": {
      "text/plain": [
       "437245     00:01\n",
       "1498263    00:01\n",
       "876860     00:01\n",
       "904647     00:01\n",
       "2089915    00:01\n",
       "           ...  \n",
       "554410     24:00\n",
       "162932     24:00\n",
       "1323215    24:00\n",
       "1063473    24:00\n",
       "1925239    24:00\n",
       "Name: actual_dep_time, Length: 2389217, dtype: object"
      ]
     },
     "execution_count": 23,
     "metadata": {},
     "output_type": "execute_result"
    }
   ],
   "source": [
    "## will 24:00:00 be an issue, check later\n",
    "flight['actual_dep_time'].sort_values()"
   ]
  },
  {
   "cell_type": "code",
   "execution_count": 24,
   "metadata": {},
   "outputs": [
    {
     "data": {
      "text/plain": [
       "year                          2008\n",
       "month                            4\n",
       "day_of_month                    10\n",
       "day_of_week               Thursday\n",
       "actual_dep_time              24:00\n",
       "scheduled_dep_time            2200\n",
       "actual_arr_time                116\n",
       "scheduled_arr_time            2324\n",
       "carrier_code                    YV\n",
       "flight_number                 7117\n",
       "tail_number                 N77195\n",
       "actual_elapsed_time             76\n",
       "scheduled_elapsed_time          84\n",
       "air_time                        58\n",
       "arr_delay                      112\n",
       "dep_delay                      120\n",
       "origin                         IAD\n",
       "destination                    CAE\n",
       "distance                       401\n",
       "taxi_in_time                     4\n",
       "taxi_out_time                   14\n",
       "cancelled                        0\n",
       "cancellation_code              NaN\n",
       "diverted                         0\n",
       "carrier_delay                  112\n",
       "weather_delay                    0\n",
       "nas_delay                        0\n",
       "security_delay                   0\n",
       "late_aircraft_delay              0\n",
       "Name: 1925239, dtype: object"
      ]
     },
     "execution_count": 24,
     "metadata": {},
     "output_type": "execute_result"
    }
   ],
   "source": [
    "flight.loc[1925239]"
   ]
  },
  {
   "cell_type": "code",
   "execution_count": 25,
   "metadata": {},
   "outputs": [
    {
     "name": "stdout",
     "output_type": "stream",
     "text": [
      "<class 'pandas.core.frame.DataFrame'>\n",
      "RangeIndex: 2389217 entries, 0 to 2389216\n",
      "Data columns (total 29 columns):\n",
      " #   Column                  Dtype   \n",
      "---  ------                  -----   \n",
      " 0   year                    int64   \n",
      " 1   month                   int64   \n",
      " 2   day_of_month            int64   \n",
      " 3   day_of_week             category\n",
      " 4   actual_dep_time         object  \n",
      " 5   scheduled_dep_time      int64   \n",
      " 6   actual_arr_time         float64 \n",
      " 7   scheduled_arr_time      int64   \n",
      " 8   carrier_code            object  \n",
      " 9   flight_number           int64   \n",
      " 10  tail_number             object  \n",
      " 11  actual_elapsed_time     float64 \n",
      " 12  scheduled_elapsed_time  float64 \n",
      " 13  air_time                float64 \n",
      " 14  arr_delay               float64 \n",
      " 15  dep_delay               float64 \n",
      " 16  origin                  object  \n",
      " 17  destination             object  \n",
      " 18  distance                int64   \n",
      " 19  taxi_in_time            float64 \n",
      " 20  taxi_out_time           float64 \n",
      " 21  cancelled               int64   \n",
      " 22  cancellation_code       object  \n",
      " 23  diverted                int64   \n",
      " 24  carrier_delay           float64 \n",
      " 25  weather_delay           float64 \n",
      " 26  nas_delay               float64 \n",
      " 27  security_delay          float64 \n",
      " 28  late_aircraft_delay     float64 \n",
      "dtypes: category(1), float64(13), int64(9), object(6)\n",
      "memory usage: 512.7+ MB\n"
     ]
    }
   ],
   "source": [
    "flight.info()"
   ]
  },
  {
   "cell_type": "markdown",
   "metadata": {},
   "source": [
    "Need to convert above to HH:MM."
   ]
  },
  {
   "cell_type": "markdown",
   "metadata": {},
   "source": [
    "## update notes\n",
    "**Need to update variable names in description of variables.**\n",
    "- merge airport locations?\n",
    "- update string to time in HH:MM for columns with time\n",
    "- "
   ]
  },
  {
   "cell_type": "code",
   "execution_count": 26,
   "metadata": {},
   "outputs": [
    {
     "data": {
      "text/html": [
       "<div>\n",
       "<style scoped>\n",
       "    .dataframe tbody tr th:only-of-type {\n",
       "        vertical-align: middle;\n",
       "    }\n",
       "\n",
       "    .dataframe tbody tr th {\n",
       "        vertical-align: top;\n",
       "    }\n",
       "\n",
       "    .dataframe thead th {\n",
       "        text-align: right;\n",
       "    }\n",
       "</style>\n",
       "<table border=\"1\" class=\"dataframe\">\n",
       "  <thead>\n",
       "    <tr style=\"text-align: right;\">\n",
       "      <th></th>\n",
       "      <th>year</th>\n",
       "      <th>month</th>\n",
       "      <th>day_of_month</th>\n",
       "      <th>actual_dep_time</th>\n",
       "      <th>scheduled_dep_time</th>\n",
       "      <th>actual_arr_time</th>\n",
       "      <th>scheduled_arr_time</th>\n",
       "      <th>flight_number</th>\n",
       "      <th>actual_elapsed_time</th>\n",
       "      <th>scheduled_elapsed_time</th>\n",
       "      <th>...</th>\n",
       "      <th>distance</th>\n",
       "      <th>taxi_in_time</th>\n",
       "      <th>taxi_out_time</th>\n",
       "      <th>cancelled</th>\n",
       "      <th>diverted</th>\n",
       "      <th>carrier_delay</th>\n",
       "      <th>weather_delay</th>\n",
       "      <th>nas_delay</th>\n",
       "      <th>security_delay</th>\n",
       "      <th>late_aircraft_delay</th>\n",
       "    </tr>\n",
       "  </thead>\n",
       "  <tbody>\n",
       "    <tr>\n",
       "      <th>count</th>\n",
       "      <td>2389217.0</td>\n",
       "      <td>2.389217e+06</td>\n",
       "      <td>2.389217e+06</td>\n",
       "      <td>2.324775e+06</td>\n",
       "      <td>2.389217e+06</td>\n",
       "      <td>2.319121e+06</td>\n",
       "      <td>2.389217e+06</td>\n",
       "      <td>2.389217e+06</td>\n",
       "      <td>2.319121e+06</td>\n",
       "      <td>2.388810e+06</td>\n",
       "      <td>...</td>\n",
       "      <td>2.389217e+06</td>\n",
       "      <td>2.319121e+06</td>\n",
       "      <td>2.324775e+06</td>\n",
       "      <td>2.389217e+06</td>\n",
       "      <td>2.389217e+06</td>\n",
       "      <td>584583.000000</td>\n",
       "      <td>584583.000000</td>\n",
       "      <td>584583.000000</td>\n",
       "      <td>584583.000000</td>\n",
       "      <td>584583.000000</td>\n",
       "    </tr>\n",
       "    <tr>\n",
       "      <th>mean</th>\n",
       "      <td>2008.0</td>\n",
       "      <td>2.505009e+00</td>\n",
       "      <td>1.566386e+01</td>\n",
       "      <td>1.340018e+03</td>\n",
       "      <td>1.329992e+03</td>\n",
       "      <td>1.485835e+03</td>\n",
       "      <td>1.496744e+03</td>\n",
       "      <td>2.213888e+03</td>\n",
       "      <td>1.286189e+02</td>\n",
       "      <td>1.293776e+02</td>\n",
       "      <td>...</td>\n",
       "      <td>7.261589e+02</td>\n",
       "      <td>6.839862e+00</td>\n",
       "      <td>1.668584e+01</td>\n",
       "      <td>2.697202e-02</td>\n",
       "      <td>2.366466e-03</td>\n",
       "      <td>15.752957</td>\n",
       "      <td>2.938243</td>\n",
       "      <td>16.158462</td>\n",
       "      <td>0.080459</td>\n",
       "      <td>20.976710</td>\n",
       "    </tr>\n",
       "    <tr>\n",
       "      <th>std</th>\n",
       "      <td>0.0</td>\n",
       "      <td>1.121493e+00</td>\n",
       "      <td>8.750405e+00</td>\n",
       "      <td>4.802717e+02</td>\n",
       "      <td>4.657833e+02</td>\n",
       "      <td>5.081295e+02</td>\n",
       "      <td>4.845238e+02</td>\n",
       "      <td>1.951392e+03</td>\n",
       "      <td>7.025303e+01</td>\n",
       "      <td>6.948246e+01</td>\n",
       "      <td>...</td>\n",
       "      <td>5.571763e+02</td>\n",
       "      <td>4.846435e+00</td>\n",
       "      <td>1.102905e+01</td>\n",
       "      <td>1.620017e-01</td>\n",
       "      <td>4.858875e-02</td>\n",
       "      <td>40.035487</td>\n",
       "      <td>19.166662</td>\n",
       "      <td>30.534167</td>\n",
       "      <td>1.742579</td>\n",
       "      <td>38.617154</td>\n",
       "    </tr>\n",
       "    <tr>\n",
       "      <th>min</th>\n",
       "      <td>2008.0</td>\n",
       "      <td>1.000000e+00</td>\n",
       "      <td>1.000000e+00</td>\n",
       "      <td>1.000000e+00</td>\n",
       "      <td>0.000000e+00</td>\n",
       "      <td>1.000000e+00</td>\n",
       "      <td>1.000000e+00</td>\n",
       "      <td>1.000000e+00</td>\n",
       "      <td>1.400000e+01</td>\n",
       "      <td>-2.500000e+01</td>\n",
       "      <td>...</td>\n",
       "      <td>1.700000e+01</td>\n",
       "      <td>0.000000e+00</td>\n",
       "      <td>0.000000e+00</td>\n",
       "      <td>0.000000e+00</td>\n",
       "      <td>0.000000e+00</td>\n",
       "      <td>0.000000</td>\n",
       "      <td>0.000000</td>\n",
       "      <td>0.000000</td>\n",
       "      <td>0.000000</td>\n",
       "      <td>0.000000</td>\n",
       "    </tr>\n",
       "    <tr>\n",
       "      <th>25%</th>\n",
       "      <td>2008.0</td>\n",
       "      <td>1.000000e+00</td>\n",
       "      <td>8.000000e+00</td>\n",
       "      <td>9.300000e+02</td>\n",
       "      <td>9.270000e+02</td>\n",
       "      <td>1.110000e+03</td>\n",
       "      <td>1.115000e+03</td>\n",
       "      <td>6.050000e+02</td>\n",
       "      <td>7.800000e+01</td>\n",
       "      <td>8.000000e+01</td>\n",
       "      <td>...</td>\n",
       "      <td>3.250000e+02</td>\n",
       "      <td>4.000000e+00</td>\n",
       "      <td>1.000000e+01</td>\n",
       "      <td>0.000000e+00</td>\n",
       "      <td>0.000000e+00</td>\n",
       "      <td>0.000000</td>\n",
       "      <td>0.000000</td>\n",
       "      <td>0.000000</td>\n",
       "      <td>0.000000</td>\n",
       "      <td>0.000000</td>\n",
       "    </tr>\n",
       "    <tr>\n",
       "      <th>50%</th>\n",
       "      <td>2008.0</td>\n",
       "      <td>3.000000e+00</td>\n",
       "      <td>1.600000e+01</td>\n",
       "      <td>1.330000e+03</td>\n",
       "      <td>1.325000e+03</td>\n",
       "      <td>1.516000e+03</td>\n",
       "      <td>1.520000e+03</td>\n",
       "      <td>1.544000e+03</td>\n",
       "      <td>1.110000e+02</td>\n",
       "      <td>1.110000e+02</td>\n",
       "      <td>...</td>\n",
       "      <td>5.830000e+02</td>\n",
       "      <td>6.000000e+00</td>\n",
       "      <td>1.400000e+01</td>\n",
       "      <td>0.000000e+00</td>\n",
       "      <td>0.000000e+00</td>\n",
       "      <td>0.000000</td>\n",
       "      <td>0.000000</td>\n",
       "      <td>5.000000</td>\n",
       "      <td>0.000000</td>\n",
       "      <td>0.000000</td>\n",
       "    </tr>\n",
       "    <tr>\n",
       "      <th>75%</th>\n",
       "      <td>2008.0</td>\n",
       "      <td>4.000000e+00</td>\n",
       "      <td>2.300000e+01</td>\n",
       "      <td>1.733000e+03</td>\n",
       "      <td>1.720000e+03</td>\n",
       "      <td>1.914000e+03</td>\n",
       "      <td>1.910000e+03</td>\n",
       "      <td>3.631000e+03</td>\n",
       "      <td>1.600000e+02</td>\n",
       "      <td>1.600000e+02</td>\n",
       "      <td>...</td>\n",
       "      <td>9.570000e+02</td>\n",
       "      <td>8.000000e+00</td>\n",
       "      <td>1.900000e+01</td>\n",
       "      <td>0.000000e+00</td>\n",
       "      <td>0.000000e+00</td>\n",
       "      <td>16.000000</td>\n",
       "      <td>0.000000</td>\n",
       "      <td>20.000000</td>\n",
       "      <td>0.000000</td>\n",
       "      <td>27.000000</td>\n",
       "    </tr>\n",
       "    <tr>\n",
       "      <th>max</th>\n",
       "      <td>2008.0</td>\n",
       "      <td>4.000000e+00</td>\n",
       "      <td>3.100000e+01</td>\n",
       "      <td>2.400000e+03</td>\n",
       "      <td>2.359000e+03</td>\n",
       "      <td>2.400000e+03</td>\n",
       "      <td>2.400000e+03</td>\n",
       "      <td>9.741000e+03</td>\n",
       "      <td>9.050000e+02</td>\n",
       "      <td>1.435000e+03</td>\n",
       "      <td>...</td>\n",
       "      <td>4.962000e+03</td>\n",
       "      <td>2.130000e+02</td>\n",
       "      <td>3.830000e+02</td>\n",
       "      <td>1.000000e+00</td>\n",
       "      <td>1.000000e+00</td>\n",
       "      <td>2436.000000</td>\n",
       "      <td>1148.000000</td>\n",
       "      <td>1357.000000</td>\n",
       "      <td>392.000000</td>\n",
       "      <td>1254.000000</td>\n",
       "    </tr>\n",
       "  </tbody>\n",
       "</table>\n",
       "<p>8 rows × 23 columns</p>\n",
       "</div>"
      ],
      "text/plain": [
       "            year         month  day_of_month  actual_dep_time  \\\n",
       "count  2389217.0  2.389217e+06  2.389217e+06     2.324775e+06   \n",
       "mean      2008.0  2.505009e+00  1.566386e+01     1.340018e+03   \n",
       "std          0.0  1.121493e+00  8.750405e+00     4.802717e+02   \n",
       "min       2008.0  1.000000e+00  1.000000e+00     1.000000e+00   \n",
       "25%       2008.0  1.000000e+00  8.000000e+00     9.300000e+02   \n",
       "50%       2008.0  3.000000e+00  1.600000e+01     1.330000e+03   \n",
       "75%       2008.0  4.000000e+00  2.300000e+01     1.733000e+03   \n",
       "max       2008.0  4.000000e+00  3.100000e+01     2.400000e+03   \n",
       "\n",
       "       scheduled_dep_time  actual_arr_time  scheduled_arr_time  flight_number  \\\n",
       "count        2.389217e+06     2.319121e+06        2.389217e+06   2.389217e+06   \n",
       "mean         1.329992e+03     1.485835e+03        1.496744e+03   2.213888e+03   \n",
       "std          4.657833e+02     5.081295e+02        4.845238e+02   1.951392e+03   \n",
       "min          0.000000e+00     1.000000e+00        1.000000e+00   1.000000e+00   \n",
       "25%          9.270000e+02     1.110000e+03        1.115000e+03   6.050000e+02   \n",
       "50%          1.325000e+03     1.516000e+03        1.520000e+03   1.544000e+03   \n",
       "75%          1.720000e+03     1.914000e+03        1.910000e+03   3.631000e+03   \n",
       "max          2.359000e+03     2.400000e+03        2.400000e+03   9.741000e+03   \n",
       "\n",
       "       actual_elapsed_time  scheduled_elapsed_time  ...      distance  \\\n",
       "count         2.319121e+06            2.388810e+06  ...  2.389217e+06   \n",
       "mean          1.286189e+02            1.293776e+02  ...  7.261589e+02   \n",
       "std           7.025303e+01            6.948246e+01  ...  5.571763e+02   \n",
       "min           1.400000e+01           -2.500000e+01  ...  1.700000e+01   \n",
       "25%           7.800000e+01            8.000000e+01  ...  3.250000e+02   \n",
       "50%           1.110000e+02            1.110000e+02  ...  5.830000e+02   \n",
       "75%           1.600000e+02            1.600000e+02  ...  9.570000e+02   \n",
       "max           9.050000e+02            1.435000e+03  ...  4.962000e+03   \n",
       "\n",
       "       taxi_in_time  taxi_out_time     cancelled      diverted  carrier_delay  \\\n",
       "count  2.319121e+06   2.324775e+06  2.389217e+06  2.389217e+06  584583.000000   \n",
       "mean   6.839862e+00   1.668584e+01  2.697202e-02  2.366466e-03      15.752957   \n",
       "std    4.846435e+00   1.102905e+01  1.620017e-01  4.858875e-02      40.035487   \n",
       "min    0.000000e+00   0.000000e+00  0.000000e+00  0.000000e+00       0.000000   \n",
       "25%    4.000000e+00   1.000000e+01  0.000000e+00  0.000000e+00       0.000000   \n",
       "50%    6.000000e+00   1.400000e+01  0.000000e+00  0.000000e+00       0.000000   \n",
       "75%    8.000000e+00   1.900000e+01  0.000000e+00  0.000000e+00      16.000000   \n",
       "max    2.130000e+02   3.830000e+02  1.000000e+00  1.000000e+00    2436.000000   \n",
       "\n",
       "       weather_delay      nas_delay  security_delay  late_aircraft_delay  \n",
       "count  584583.000000  584583.000000   584583.000000        584583.000000  \n",
       "mean        2.938243      16.158462        0.080459            20.976710  \n",
       "std        19.166662      30.534167        1.742579            38.617154  \n",
       "min         0.000000       0.000000        0.000000             0.000000  \n",
       "25%         0.000000       0.000000        0.000000             0.000000  \n",
       "50%         0.000000       5.000000        0.000000             0.000000  \n",
       "75%         0.000000      20.000000        0.000000            27.000000  \n",
       "max      1148.000000    1357.000000      392.000000          1254.000000  \n",
       "\n",
       "[8 rows x 23 columns]"
      ]
     },
     "execution_count": 26,
     "metadata": {},
     "output_type": "execute_result"
    }
   ],
   "source": [
    "flights.describe()"
   ]
  },
  {
   "cell_type": "markdown",
   "metadata": {},
   "source": [
    "save dataset as new csv.."
   ]
  },
  {
   "cell_type": "code",
   "execution_count": 27,
   "metadata": {},
   "outputs": [
    {
     "ename": "SyntaxError",
     "evalue": "invalid syntax (<ipython-input-27-759dd4e1c5b5>, line 1)",
     "output_type": "error",
     "traceback": [
      "\u001b[0;36m  File \u001b[0;32m\"<ipython-input-27-759dd4e1c5b5>\"\u001b[0;36m, line \u001b[0;32m1\u001b[0m\n\u001b[0;31m    copy dataset before analysis\u001b[0m\n\u001b[0m         ^\u001b[0m\n\u001b[0;31mSyntaxError\u001b[0m\u001b[0;31m:\u001b[0m invalid syntax\n"
     ]
    }
   ],
   "source": [
    "copy dataset before analysis"
   ]
  },
  {
   "cell_type": "code",
   "execution_count": 28,
   "metadata": {},
   "outputs": [
    {
     "name": "stdout",
     "output_type": "stream",
     "text": [
      "<class 'pandas.core.frame.DataFrame'>\n",
      "RangeIndex: 2389217 entries, 0 to 2389216\n",
      "Data columns (total 29 columns):\n",
      " #   Column                  Dtype   \n",
      "---  ------                  -----   \n",
      " 0   year                    int64   \n",
      " 1   month                   int64   \n",
      " 2   day_of_month            int64   \n",
      " 3   day_of_week             category\n",
      " 4   actual_dep_time         float64 \n",
      " 5   scheduled_dep_time      int64   \n",
      " 6   actual_arr_time         float64 \n",
      " 7   scheduled_arr_time      int64   \n",
      " 8   carrier_code            object  \n",
      " 9   flight_number           int64   \n",
      " 10  tail_number             object  \n",
      " 11  actual_elapsed_time     float64 \n",
      " 12  scheduled_elapsed_time  float64 \n",
      " 13  air_time                float64 \n",
      " 14  arr_delay               float64 \n",
      " 15  dep_delay               float64 \n",
      " 16  origin                  object  \n",
      " 17  destination             object  \n",
      " 18  distance                int64   \n",
      " 19  taxi_in_time            float64 \n",
      " 20  taxi_out_time           float64 \n",
      " 21  cancelled               int64   \n",
      " 22  cancellation_code       object  \n",
      " 23  diverted                int64   \n",
      " 24  carrier_delay           float64 \n",
      " 25  weather_delay           float64 \n",
      " 26  nas_delay               float64 \n",
      " 27  security_delay          float64 \n",
      " 28  late_aircraft_delay     float64 \n",
      "dtypes: category(1), float64(14), int64(9), object(5)\n",
      "memory usage: 512.7+ MB\n"
     ]
    }
   ],
   "source": [
    "flights.info()"
   ]
  },
  {
   "cell_type": "markdown",
   "metadata": {},
   "source": [
    "### What is the structure of your dataset?\n",
    "\n",
    "This flight dataset contains 2,389,217 rows of data with 29 different variables that have been recorded.\n",
    "\n",
    "### What is/are the main feature(s) of interest in your dataset?\n",
    "\n",
    "I'm most interested in examining which variables are best for predicting whether a flight is likely to be delayed, cancelled or diverted.\n",
    "\n",
    "### What features in the dataset do you think will help support your investigation into your feature(s) of interest?\n",
    "\n",
    "The features that will help support my investigation will be time variables as well as reasons for the delays, cancellations and diversions."
   ]
  },
  {
   "cell_type": "markdown",
   "metadata": {},
   "source": [
    "## Univariate Exploration\n",
    "\n",
    "> In this section, investigate distributions of individual variables. If\n",
    "you see unusual points or outliers, take a deeper look to clean things up\n",
    "and prepare yourself to look at relationships between variables."
   ]
  },
  {
   "cell_type": "code",
   "execution_count": 53,
   "metadata": {},
   "outputs": [
    {
     "data": {
      "text/plain": [
       "2324775"
      ]
     },
     "execution_count": 53,
     "metadata": {},
     "output_type": "execute_result"
    }
   ],
   "source": [
    "(flights.cancelled==0).sum()"
   ]
  },
  {
   "cell_type": "code",
   "execution_count": 70,
   "metadata": {},
   "outputs": [
    {
     "name": "stderr",
     "output_type": "stream",
     "text": [
      "/Users/vincentkhor/opt/anaconda3/lib/python3.8/site-packages/seaborn/_decorators.py:36: FutureWarning: Pass the following variable as a keyword arg: x. From version 0.12, the only valid positional argument will be `data`, and passing other arguments without an explicit keyword will result in an error or misinterpretation.\n",
      "  warnings.warn(\n"
     ]
    },
    {
     "data": {
      "image/png": "[encoded data removed]",
      "text/plain": [
       "<Figure size 576x432 with 1 Axes>"
      ]
     },
     "metadata": {
      "needs_background": "light"
     },
     "output_type": "display_data"
    }
   ],
   "source": [
    "# Cancelled flights\n",
    "plt.figure(figsize=(8,6))\n",
    "# Plot barchart\n",
    "sns.countplot(flights['cancelled'], color='green')\n",
    "\n",
    "# labels\n",
    "ticks = np.arange(0,275e4,25e4)\n",
    "plt.yticks(ticks,['250K','500K','750K','1M','1.25M','1.5M','1.75M','2M','2.25M','2.5M','2.75M'])\n",
    "plt.ylabel('Frequency')\n",
    "plt.xlabel('Cancelled')\n",
    "plt.title('Flights cancelled');"
   ]
  },
  {
   "cell_type": "markdown",
   "metadata": {},
   "source": [
    "Only a small proportion of flights are cancelled as shown in the bar chart above."
   ]
  },
  {
   "cell_type": "code",
   "execution_count": 30,
   "metadata": {},
   "outputs": [
    {
     "data": {
      "text/plain": [
       "array([1, 2, 3, 4])"
      ]
     },
     "execution_count": 30,
     "metadata": {},
     "output_type": "execute_result"
    }
   ],
   "source": [
    "flights.month.unique()"
   ]
  },
  {
   "cell_type": "code",
   "execution_count": 31,
   "metadata": {},
   "outputs": [
    {
     "data": {
      "text/plain": [
       "['Thursday', 'Friday', 'Saturday', 'Sunday', 'Monday', 'Tuesday', 'Wednesday']\n",
       "Categories (7, object): ['Monday' < 'Tuesday' < 'Wednesday' < 'Thursday' < 'Friday' < 'Saturday' < 'Sunday']"
      ]
     },
     "execution_count": 31,
     "metadata": {},
     "output_type": "execute_result"
    }
   ],
   "source": [
    "flights.day_of_week.unique()"
   ]
  },
  {
   "cell_type": "code",
   "execution_count": 32,
   "metadata": {},
   "outputs": [
    {
     "data": {
      "text/plain": [
       "array([365560, 358942, 350566, 349831, 347984, 328237, 288097])"
      ]
     },
     "execution_count": 32,
     "metadata": {},
     "output_type": "execute_result"
    }
   ],
   "source": [
    "flight.day_of_week.value_counts().values"
   ]
  },
  {
   "cell_type": "code",
   "execution_count": 33,
   "metadata": {},
   "outputs": [
    {
     "data": {
      "image/png": "[encoded data removed]",
      "text/plain": [
       "<Figure size 576x360 with 1 Axes>"
      ]
     },
     "metadata": {
      "needs_background": "light"
     },
     "output_type": "display_data"
    }
   ],
   "source": [
    "plt.figure(figsize=(8,5))\n",
    "base_colour = sns.color_palette()[0]\n",
    "sns.countplot(data=flight,x='day_of_week',color=base_colour)\n",
    "\n",
    "# labels\n",
    "tick_locs = np.arange(275000,flight['day_of_week'].value_counts().values.max()+25000,25000)\n",
    "plt.xticks(rotation=90)\n",
    "plt.yticks(tick_locs) # set y ticks\n",
    "plt.ylim([275e3,38e4]) # set y axis limits\n",
    "plt.xlabel('Day of the week')\n",
    "plt.ylabel('Frequency')\n",
    "plt.title('Number of flights by day of the week');"
   ]
  },
  {
   "cell_type": "markdown",
   "metadata": {},
   "source": [
    "The bar graph above shows that the frequency of flights differs depending on the day of the week. Weekends have the fewest number of flights whilst wednesdays have the most. I will later be examining whether the day of the week affects the proportion of delayed/diverted/cancelled flights"
   ]
  },
  {
   "cell_type": "code",
   "execution_count": 34,
   "metadata": {},
   "outputs": [
    {
     "name": "stdout",
     "output_type": "stream",
     "text": [
      "<class 'pandas.core.frame.DataFrame'>\n",
      "RangeIndex: 2389217 entries, 0 to 2389216\n",
      "Data columns (total 29 columns):\n",
      " #   Column                  Dtype   \n",
      "---  ------                  -----   \n",
      " 0   year                    int64   \n",
      " 1   month                   int64   \n",
      " 2   day_of_month            int64   \n",
      " 3   day_of_week             category\n",
      " 4   actual_dep_time         float64 \n",
      " 5   scheduled_dep_time      int64   \n",
      " 6   actual_arr_time         float64 \n",
      " 7   scheduled_arr_time      int64   \n",
      " 8   carrier_code            object  \n",
      " 9   flight_number           int64   \n",
      " 10  tail_number             object  \n",
      " 11  actual_elapsed_time     float64 \n",
      " 12  scheduled_elapsed_time  float64 \n",
      " 13  air_time                float64 \n",
      " 14  arr_delay               float64 \n",
      " 15  dep_delay               float64 \n",
      " 16  origin                  object  \n",
      " 17  destination             object  \n",
      " 18  distance                int64   \n",
      " 19  taxi_in_time            float64 \n",
      " 20  taxi_out_time           float64 \n",
      " 21  cancelled               int64   \n",
      " 22  cancellation_code       object  \n",
      " 23  diverted                int64   \n",
      " 24  carrier_delay           float64 \n",
      " 25  weather_delay           float64 \n",
      " 26  nas_delay               float64 \n",
      " 27  security_delay          float64 \n",
      " 28  late_aircraft_delay     float64 \n",
      "dtypes: category(1), float64(14), int64(9), object(5)\n",
      "memory usage: 512.7+ MB\n"
     ]
    }
   ],
   "source": [
    "flights.info()"
   ]
  },
  {
   "cell_type": "code",
   "execution_count": 35,
   "metadata": {},
   "outputs": [
    {
     "data": {
      "image/png": "[encoded data removed]",
      "text/plain": [
       "<Figure size 432x288 with 1 Axes>"
      ]
     },
     "metadata": {
      "needs_background": "light"
     },
     "output_type": "display_data"
    }
   ],
   "source": [
    "# Cancellation code count\n",
    "code_order = ['A','B','C','D']\n",
    "sns.countplot(data=flights,x='cancellation_code',order=code_order,color='brown')\n",
    "plt.xlabel('Cancellation Code')\n",
    "plt.ylabel('Frequency')\n",
    "plt.title('Frequency of cancellation codes');"
   ]
  },
  {
   "cell_type": "code",
   "execution_count": 36,
   "metadata": {},
   "outputs": [
    {
     "data": {
      "text/plain": [
       "A    26075\n",
       "B    25744\n",
       "C    12617\n",
       "D        6\n",
       "Name: cancellation_code, dtype: int64"
      ]
     },
     "execution_count": 36,
     "metadata": {},
     "output_type": "execute_result"
    }
   ],
   "source": [
    "flights.cancellation_code.value_counts()"
   ]
  },
  {
   "cell_type": "markdown",
   "metadata": {},
   "source": [
    "The graph above shows that the most common cancellation code is A (Carrier) followed by B (weather). C (NAS), is much less frequent, approximately half as frequent as A and B. D was the least common, there were only 6 instances where a flight was cancelled due to security issues."
   ]
  },
  {
   "cell_type": "code",
   "execution_count": 37,
   "metadata": {},
   "outputs": [
    {
     "data": {
      "text/plain": [
       "count    2.389217e+06\n",
       "mean     7.261589e+02\n",
       "std      5.571763e+02\n",
       "min      1.700000e+01\n",
       "25%      3.250000e+02\n",
       "50%      5.830000e+02\n",
       "75%      9.570000e+02\n",
       "max      4.962000e+03\n",
       "Name: distance, dtype: float64"
      ]
     },
     "execution_count": 37,
     "metadata": {},
     "output_type": "execute_result"
    }
   ],
   "source": [
    "flights.distance.describe()"
   ]
  },
  {
   "cell_type": "code",
   "execution_count": 38,
   "metadata": {},
   "outputs": [
    {
     "data": {
      "image/png": "[encoded data removed]",
      "text/plain": [
       "<Figure size 360x360 with 1 Axes>"
      ]
     },
     "metadata": {
      "needs_background": "light"
     },
     "output_type": "display_data"
    }
   ],
   "source": [
    "# Flight distance count\n",
    "\n",
    "sns.displot(flights.distance)\n",
    "plt.xscale('log')\n",
    "tick_loc = [10,20,50,100,200,500,1000,2000,5000]\n",
    "plt.xticks(tick_loc,tick_loc);"
   ]
  },
  {
   "cell_type": "code",
   "execution_count": 39,
   "metadata": {},
   "outputs": [
    {
     "data": {
      "image/png": "[encoded data removed]",
      "text/plain": [
       "<Figure size 576x432 with 1 Axes>"
      ]
     },
     "metadata": {
      "needs_background": "light"
     },
     "output_type": "display_data"
    }
   ],
   "source": [
    "# Flight distances\n",
    "plt.figure(figsize=(8,6))\n",
    "# Select bin size\n",
    "bins = 10 ** np.arange(-1,3.7+0.1,0.1)\n",
    "\n",
    "# Plot graph\n",
    "plt.hist(data=flights,x='distance', bins=bins)\n",
    "\n",
    "# set x axes scale\n",
    "plt.xscale('log')\n",
    "\n",
    "# set x axes labels (custom)\n",
    "ticks = [10,20,50,100,200,500,1000,2000,5000]\n",
    "labels = ['{}'.format(v) for v in ticks]\n",
    "\n",
    "# Labels and title\n",
    "plt.xticks(ticks,labels)\n",
    "plt.title('Flight distances')\n",
    "plt.ylabel('Frequency')\n",
    "plt.xlabel('Distance (km)')\n",
    "plt.xlim(5,5000);"
   ]
  },
  {
   "cell_type": "markdown",
   "metadata": {},
   "source": [
    "The graph above shows that the most common flight distance is between 500-1000km. Some flights were up to 5,000km whilst others were less than 50km."
   ]
  },
  {
   "cell_type": "code",
   "execution_count": 40,
   "metadata": {},
   "outputs": [
    {
     "data": {
      "image/png": "[encoded data removed]",
      "text/plain": [
       "<Figure size 576x432 with 1 Axes>"
      ]
     },
     "metadata": {
      "needs_background": "light"
     },
     "output_type": "display_data"
    }
   ],
   "source": [
    "# Flight airtimes\n",
    "plt.figure(figsize=(8,6))\n",
    "# Select bin size\n",
    "bins = 10 ** np.arange(-1,3+0.05,0.05)\n",
    "\n",
    "# Plot graph\n",
    "plt.hist(data=flights,x='air_time',bins=bins)\n",
    "\n",
    "# set x axes scale\n",
    "plt.xscale('log')\n",
    "\n",
    "# set x axes labels (custom)\n",
    "ticks = [10,20,50,100,200,500,1000]\n",
    "labels = ['{}'.format(v) for v in ticks]\n",
    "\n",
    "# Labels and title\n",
    "plt.xticks(ticks,labels)\n",
    "plt.title('Flight Airtime')\n",
    "plt.ylabel('Frequency')\n",
    "plt.xlabel('Airtime (minutes)')\n",
    "plt.xlim(1,1000);"
   ]
  },
  {
   "cell_type": "markdown",
   "metadata": {},
   "source": [
    "The airtime for most flights was around 100mins. "
   ]
  },
  {
   "cell_type": "markdown",
   "metadata": {},
   "source": [
    "> Make sure that, after every plot or related series of plots, that you\n",
    "include a Markdown cell with comments about what you observed, and what\n",
    "you plan on investigating next."
   ]
  },
  {
   "cell_type": "code",
   "execution_count": null,
   "metadata": {},
   "outputs": [],
   "source": []
  },
  {
   "cell_type": "markdown",
   "metadata": {},
   "source": [
    "### Discuss the distribution(s) of your variable(s) of interest. Were there any unusual points? Did you need to perform any transformations?\n",
    "\n",
    "> Your answer here!\n",
    "\n",
    "### Of the features you investigated, were there any unusual distributions? Did you perform any operations on the data to tidy, adjust, or change the form of the data? If so, why did you do this?\n",
    "\n",
    "> Your answer here!"
   ]
  },
  {
   "cell_type": "markdown",
   "metadata": {},
   "source": [
    "## Bivariate Exploration\n",
    "\n",
    "> In this section, investigate relationships between pairs of variables in your\n",
    "data. Make sure the variables that you cover here have been introduced in some\n",
    "fashion in the previous section (univariate exploration)."
   ]
  },
  {
   "cell_type": "markdown",
   "metadata": {},
   "source": [
    "ideas:\n",
    "- distance vs cancellation\n",
    "- carrier vs acncellation"
   ]
  },
  {
   "cell_type": "code",
   "execution_count": 41,
   "metadata": {},
   "outputs": [
    {
     "name": "stdout",
     "output_type": "stream",
     "text": [
      "<class 'pandas.core.frame.DataFrame'>\n",
      "RangeIndex: 2389217 entries, 0 to 2389216\n",
      "Data columns (total 29 columns):\n",
      " #   Column                  Dtype   \n",
      "---  ------                  -----   \n",
      " 0   year                    int64   \n",
      " 1   month                   int64   \n",
      " 2   day_of_month            int64   \n",
      " 3   day_of_week             category\n",
      " 4   actual_dep_time         float64 \n",
      " 5   scheduled_dep_time      int64   \n",
      " 6   actual_arr_time         float64 \n",
      " 7   scheduled_arr_time      int64   \n",
      " 8   carrier_code            object  \n",
      " 9   flight_number           int64   \n",
      " 10  tail_number             object  \n",
      " 11  actual_elapsed_time     float64 \n",
      " 12  scheduled_elapsed_time  float64 \n",
      " 13  air_time                float64 \n",
      " 14  arr_delay               float64 \n",
      " 15  dep_delay               float64 \n",
      " 16  origin                  object  \n",
      " 17  destination             object  \n",
      " 18  distance                int64   \n",
      " 19  taxi_in_time            float64 \n",
      " 20  taxi_out_time           float64 \n",
      " 21  cancelled               int64   \n",
      " 22  cancellation_code       object  \n",
      " 23  diverted                int64   \n",
      " 24  carrier_delay           float64 \n",
      " 25  weather_delay           float64 \n",
      " 26  nas_delay               float64 \n",
      " 27  security_delay          float64 \n",
      " 28  late_aircraft_delay     float64 \n",
      "dtypes: category(1), float64(14), int64(9), object(5)\n",
      "memory usage: 512.7+ MB\n"
     ]
    }
   ],
   "source": [
    "flights.info()"
   ]
  },
  {
   "cell_type": "code",
   "execution_count": 42,
   "metadata": {},
   "outputs": [
    {
     "data": {
      "text/plain": [
       "<AxesSubplot:xlabel='day_of_week', ylabel='count'>"
      ]
     },
     "execution_count": 42,
     "metadata": {},
     "output_type": "execute_result"
    },
    {
     "data": {
      "image/png": "[encoded data removed]",
      "text/plain": [
       "<Figure size 432x288 with 1 Axes>"
      ]
     },
     "metadata": {
      "needs_background": "light"
     },
     "output_type": "display_data"
    }
   ],
   "source": [
    "# Create subset of cancelled flights\n",
    "flight_cancelled = flights[flights.cancelled==1]\n",
    "sns.countplot(data=flight_cancelled,x='day_of_week',color=base_colour)"
   ]
  },
  {
   "cell_type": "markdown",
   "metadata": {},
   "source": [
    "The graph above shows the total number of cancellations by day of the week. This shows that by number, there were fewest cancellations on weekends. However, as the number of flight varies by day, it would be more appropriate to calculate the proportion of cancelled flights by day.\n"
   ]
  },
  {
   "cell_type": "markdown",
   "metadata": {},
   "source": [
    "split by day, cal average since it is boolean."
   ]
  },
  {
   "cell_type": "code",
   "execution_count": 43,
   "metadata": {},
   "outputs": [
    {
     "data": {
      "text/plain": [
       "0.026972016355148988"
      ]
     },
     "execution_count": 43,
     "metadata": {},
     "output_type": "execute_result"
    }
   ],
   "source": [
    "# Calculate the overall proportion of cancelled flights\n",
    "flights.cancelled.mean()"
   ]
  },
  {
   "cell_type": "markdown",
   "metadata": {},
   "source": [
    "This shows that there is currently a 2.7% chance of a flight being cancelled, however, how does this rate differ when we group by day?"
   ]
  },
  {
   "cell_type": "code",
   "execution_count": 44,
   "metadata": {
    "scrolled": true
   },
   "outputs": [
    {
     "data": {
      "text/html": [
       "<div>\n",
       "<style scoped>\n",
       "    .dataframe tbody tr th:only-of-type {\n",
       "        vertical-align: middle;\n",
       "    }\n",
       "\n",
       "    .dataframe tbody tr th {\n",
       "        vertical-align: top;\n",
       "    }\n",
       "\n",
       "    .dataframe thead th {\n",
       "        text-align: right;\n",
       "    }\n",
       "</style>\n",
       "<table border=\"1\" class=\"dataframe\">\n",
       "  <thead>\n",
       "    <tr style=\"text-align: right;\">\n",
       "      <th></th>\n",
       "      <th>day_of_week</th>\n",
       "      <th>year</th>\n",
       "      <th>month</th>\n",
       "      <th>day_of_month</th>\n",
       "      <th>actual_dep_time</th>\n",
       "      <th>scheduled_dep_time</th>\n",
       "      <th>actual_arr_time</th>\n",
       "      <th>scheduled_arr_time</th>\n",
       "      <th>flight_number</th>\n",
       "      <th>actual_elapsed_time</th>\n",
       "      <th>...</th>\n",
       "      <th>distance</th>\n",
       "      <th>taxi_in_time</th>\n",
       "      <th>taxi_out_time</th>\n",
       "      <th>cancelled</th>\n",
       "      <th>diverted</th>\n",
       "      <th>carrier_delay</th>\n",
       "      <th>weather_delay</th>\n",
       "      <th>nas_delay</th>\n",
       "      <th>security_delay</th>\n",
       "      <th>late_aircraft_delay</th>\n",
       "    </tr>\n",
       "  </thead>\n",
       "  <tbody>\n",
       "    <tr>\n",
       "      <th>0</th>\n",
       "      <td>Monday</td>\n",
       "      <td>2008.0</td>\n",
       "      <td>2.538326</td>\n",
       "      <td>16.662427</td>\n",
       "      <td>1337.432329</td>\n",
       "      <td>1326.345875</td>\n",
       "      <td>1483.516253</td>\n",
       "      <td>1494.241620</td>\n",
       "      <td>2223.238606</td>\n",
       "      <td>127.840537</td>\n",
       "      <td>...</td>\n",
       "      <td>718.140423</td>\n",
       "      <td>6.789648</td>\n",
       "      <td>16.662573</td>\n",
       "      <td>0.027263</td>\n",
       "      <td>0.002411</td>\n",
       "      <td>15.205456</td>\n",
       "      <td>2.832423</td>\n",
       "      <td>17.176851</td>\n",
       "      <td>0.063401</td>\n",
       "      <td>21.915250</td>\n",
       "    </tr>\n",
       "    <tr>\n",
       "      <th>1</th>\n",
       "      <td>Tuesday</td>\n",
       "      <td>2008.0</td>\n",
       "      <td>2.516604</td>\n",
       "      <td>15.038834</td>\n",
       "      <td>1338.620419</td>\n",
       "      <td>1329.775281</td>\n",
       "      <td>1487.662296</td>\n",
       "      <td>1498.985775</td>\n",
       "      <td>2209.909980</td>\n",
       "      <td>128.199643</td>\n",
       "      <td>...</td>\n",
       "      <td>716.673658</td>\n",
       "      <td>6.787882</td>\n",
       "      <td>16.827042</td>\n",
       "      <td>0.032989</td>\n",
       "      <td>0.002948</td>\n",
       "      <td>14.410787</td>\n",
       "      <td>3.413183</td>\n",
       "      <td>19.853936</td>\n",
       "      <td>0.057804</td>\n",
       "      <td>21.330322</td>\n",
       "    </tr>\n",
       "    <tr>\n",
       "      <th>2</th>\n",
       "      <td>Wednesday</td>\n",
       "      <td>2008.0</td>\n",
       "      <td>2.512635</td>\n",
       "      <td>15.975378</td>\n",
       "      <td>1338.287031</td>\n",
       "      <td>1329.625219</td>\n",
       "      <td>1487.177718</td>\n",
       "      <td>1496.460349</td>\n",
       "      <td>2224.709016</td>\n",
       "      <td>126.991325</td>\n",
       "      <td>...</td>\n",
       "      <td>716.951726</td>\n",
       "      <td>6.737166</td>\n",
       "      <td>16.437661</td>\n",
       "      <td>0.028373</td>\n",
       "      <td>0.002005</td>\n",
       "      <td>16.220910</td>\n",
       "      <td>2.546370</td>\n",
       "      <td>15.513615</td>\n",
       "      <td>0.091550</td>\n",
       "      <td>19.110645</td>\n",
       "    </tr>\n",
       "    <tr>\n",
       "      <th>3</th>\n",
       "      <td>Thursday</td>\n",
       "      <td>2008.0</td>\n",
       "      <td>2.418448</td>\n",
       "      <td>16.151239</td>\n",
       "      <td>1339.150502</td>\n",
       "      <td>1330.501742</td>\n",
       "      <td>1481.293089</td>\n",
       "      <td>1495.155126</td>\n",
       "      <td>2220.490194</td>\n",
       "      <td>128.371085</td>\n",
       "      <td>...</td>\n",
       "      <td>720.152496</td>\n",
       "      <td>6.816513</td>\n",
       "      <td>17.056830</td>\n",
       "      <td>0.025246</td>\n",
       "      <td>0.001961</td>\n",
       "      <td>15.256342</td>\n",
       "      <td>2.416968</td>\n",
       "      <td>15.293218</td>\n",
       "      <td>0.067935</td>\n",
       "      <td>20.496608</td>\n",
       "    </tr>\n",
       "    <tr>\n",
       "      <th>4</th>\n",
       "      <td>Friday</td>\n",
       "      <td>2008.0</td>\n",
       "      <td>2.476156</td>\n",
       "      <td>15.355508</td>\n",
       "      <td>1344.452847</td>\n",
       "      <td>1331.347204</td>\n",
       "      <td>1480.327936</td>\n",
       "      <td>1494.508252</td>\n",
       "      <td>2218.707864</td>\n",
       "      <td>129.039905</td>\n",
       "      <td>...</td>\n",
       "      <td>720.630766</td>\n",
       "      <td>6.974399</td>\n",
       "      <td>17.438517</td>\n",
       "      <td>0.032955</td>\n",
       "      <td>0.002450</td>\n",
       "      <td>14.689068</td>\n",
       "      <td>3.323300</td>\n",
       "      <td>16.869267</td>\n",
       "      <td>0.075751</td>\n",
       "      <td>22.274958</td>\n",
       "    </tr>\n",
       "    <tr>\n",
       "      <th>5</th>\n",
       "      <td>Saturday</td>\n",
       "      <td>2008.0</td>\n",
       "      <td>2.540037</td>\n",
       "      <td>14.643919</td>\n",
       "      <td>1304.134922</td>\n",
       "      <td>1294.008879</td>\n",
       "      <td>1463.957429</td>\n",
       "      <td>1466.883508</td>\n",
       "      <td>2190.617007</td>\n",
       "      <td>131.175208</td>\n",
       "      <td>...</td>\n",
       "      <td>761.042677</td>\n",
       "      <td>6.816639</td>\n",
       "      <td>15.951889</td>\n",
       "      <td>0.021475</td>\n",
       "      <td>0.002711</td>\n",
       "      <td>18.784656</td>\n",
       "      <td>3.368545</td>\n",
       "      <td>13.521873</td>\n",
       "      <td>0.129315</td>\n",
       "      <td>19.501886</td>\n",
       "    </tr>\n",
       "    <tr>\n",
       "      <th>6</th>\n",
       "      <td>Sunday</td>\n",
       "      <td>2008.0</td>\n",
       "      <td>2.540844</td>\n",
       "      <td>15.646847</td>\n",
       "      <td>1373.811375</td>\n",
       "      <td>1364.097326</td>\n",
       "      <td>1514.565733</td>\n",
       "      <td>1527.551370</td>\n",
       "      <td>2204.514317</td>\n",
       "      <td>129.266385</td>\n",
       "      <td>...</td>\n",
       "      <td>736.974394</td>\n",
       "      <td>6.965339</td>\n",
       "      <td>16.289207</td>\n",
       "      <td>0.018797</td>\n",
       "      <td>0.002127</td>\n",
       "      <td>16.820891</td>\n",
       "      <td>2.666687</td>\n",
       "      <td>13.897001</td>\n",
       "      <td>0.092995</td>\n",
       "      <td>21.432724</td>\n",
       "    </tr>\n",
       "  </tbody>\n",
       "</table>\n",
       "<p>7 rows × 24 columns</p>\n",
       "</div>"
      ],
      "text/plain": [
       "  day_of_week    year     month  day_of_month  actual_dep_time  \\\n",
       "0      Monday  2008.0  2.538326     16.662427      1337.432329   \n",
       "1     Tuesday  2008.0  2.516604     15.038834      1338.620419   \n",
       "2   Wednesday  2008.0  2.512635     15.975378      1338.287031   \n",
       "3    Thursday  2008.0  2.418448     16.151239      1339.150502   \n",
       "4      Friday  2008.0  2.476156     15.355508      1344.452847   \n",
       "5    Saturday  2008.0  2.540037     14.643919      1304.134922   \n",
       "6      Sunday  2008.0  2.540844     15.646847      1373.811375   \n",
       "\n",
       "   scheduled_dep_time  actual_arr_time  scheduled_arr_time  flight_number  \\\n",
       "0         1326.345875      1483.516253         1494.241620    2223.238606   \n",
       "1         1329.775281      1487.662296         1498.985775    2209.909980   \n",
       "2         1329.625219      1487.177718         1496.460349    2224.709016   \n",
       "3         1330.501742      1481.293089         1495.155126    2220.490194   \n",
       "4         1331.347204      1480.327936         1494.508252    2218.707864   \n",
       "5         1294.008879      1463.957429         1466.883508    2190.617007   \n",
       "6         1364.097326      1514.565733         1527.551370    2204.514317   \n",
       "\n",
       "   actual_elapsed_time  ...    distance  taxi_in_time  taxi_out_time  \\\n",
       "0           127.840537  ...  718.140423      6.789648      16.662573   \n",
       "1           128.199643  ...  716.673658      6.787882      16.827042   \n",
       "2           126.991325  ...  716.951726      6.737166      16.437661   \n",
       "3           128.371085  ...  720.152496      6.816513      17.056830   \n",
       "4           129.039905  ...  720.630766      6.974399      17.438517   \n",
       "5           131.175208  ...  761.042677      6.816639      15.951889   \n",
       "6           129.266385  ...  736.974394      6.965339      16.289207   \n",
       "\n",
       "   cancelled  diverted  carrier_delay  weather_delay  nas_delay  \\\n",
       "0   0.027263  0.002411      15.205456       2.832423  17.176851   \n",
       "1   0.032989  0.002948      14.410787       3.413183  19.853936   \n",
       "2   0.028373  0.002005      16.220910       2.546370  15.513615   \n",
       "3   0.025246  0.001961      15.256342       2.416968  15.293218   \n",
       "4   0.032955  0.002450      14.689068       3.323300  16.869267   \n",
       "5   0.021475  0.002711      18.784656       3.368545  13.521873   \n",
       "6   0.018797  0.002127      16.820891       2.666687  13.897001   \n",
       "\n",
       "   security_delay  late_aircraft_delay  \n",
       "0        0.063401            21.915250  \n",
       "1        0.057804            21.330322  \n",
       "2        0.091550            19.110645  \n",
       "3        0.067935            20.496608  \n",
       "4        0.075751            22.274958  \n",
       "5        0.129315            19.501886  \n",
       "6        0.092995            21.432724  \n",
       "\n",
       "[7 rows x 24 columns]"
      ]
     },
     "execution_count": 44,
     "metadata": {},
     "output_type": "execute_result"
    }
   ],
   "source": [
    "day_means = flights.groupby('day_of_week',as_index=False).mean()\n",
    "day_means"
   ]
  },
  {
   "cell_type": "code",
   "execution_count": 45,
   "metadata": {},
   "outputs": [
    {
     "data": {
      "text/plain": [
       "<Figure size 576x432 with 0 Axes>"
      ]
     },
     "metadata": {},
     "output_type": "display_data"
    },
    {
     "data": {
      "image/png": "[encoded data removed]",
      "text/plain": [
       "<Figure size 432x288 with 1 Axes>"
      ]
     },
     "metadata": {
      "needs_background": "light"
     },
     "output_type": "display_data"
    }
   ],
   "source": [
    "plt.figure(figsize=(8,6))\n",
    "day_means.plot.bar(x='day_of_week',y='cancelled',legend=False);\n",
    "# Labels\n",
    "\n",
    "plt.xlabel('Day of the Week')\n",
    "plt.ylabel('Proportion  of flights cancelled')\n",
    "plt.title('Proportion of flights cancelled by day of the week');"
   ]
  },
  {
   "cell_type": "markdown",
   "metadata": {},
   "source": [
    "This now shows that the rate of cancellations does differ from day to day. The days with the highest proportion of cancelled flights are Tuesday and Fridays, Saturday and Sundays have the lowest proportion of cancellations."
   ]
  },
  {
   "cell_type": "markdown",
   "metadata": {},
   "source": [
    "compare whether certain airports have a higher proportion of cancelled flights."
   ]
  },
  {
   "cell_type": "markdown",
   "metadata": {},
   "source": [
    "### Talk about some of the relationships you observed in this part of the investigation. How did the feature(s) of interest vary with other features in the dataset?\n",
    "\n",
    "> Your answer here!\n",
    "\n",
    "### Did you observe any interesting relationships between the other features (not the main feature(s) of interest)?\n",
    "\n",
    "> Your answer here!"
   ]
  },
  {
   "cell_type": "markdown",
   "metadata": {},
   "source": [
    "## Multivariate Exploration\n",
    "\n",
    "> Create plots of three or more variables to investigate your data even\n",
    "further. Make sure that your investigations are justified, and follow from\n",
    "your work in the previous sections."
   ]
  },
  {
   "cell_type": "markdown",
   "metadata": {},
   "source": [
    "notes: try plotting long vs lat vs one other variable."
   ]
  },
  {
   "cell_type": "markdown",
   "metadata": {},
   "source": [
    "### Talk about some of the relationships you observed in this part of the investigation. Were there features that strengthened each other in terms of looking at your feature(s) of interest?\n",
    "\n",
    "> Your answer here!\n",
    "\n",
    "### Were there any interesting or surprising interactions between features?\n",
    "\n",
    "> Your answer here!"
   ]
  },
  {
   "cell_type": "markdown",
   "metadata": {},
   "source": [
    "> At the end of your report, make sure that you export the notebook as an\n",
    "html file from the `File > Download as... > HTML` menu. Make sure you keep\n",
    "track of where the exported file goes, so you can put it in the same folder\n",
    "as this notebook for project submission. Also, make sure you remove all of\n",
    "the quote-formatted guide notes like this one before you finish your report!"
   ]
  },
  {
   "cell_type": "code",
   "execution_count": null,
   "metadata": {},
   "outputs": [],
   "source": []
  }
 ],
 "metadata": {
  "kernelspec": {
   "display_name": "Python 3",
   "language": "python",
   "name": "python3"
  },
  "language_info": {
   "codemirror_mode": {
    "name": "ipython",
    "version": 3
   },
   "file_extension": ".py",
   "mimetype": "text/x-python",
   "name": "python",
   "nbconvert_exporter": "python",
   "pygments_lexer": "ipython3",
   "version": "3.8.5"
  }
 },
 "nbformat": 4,
 "nbformat_minor": 2
}
