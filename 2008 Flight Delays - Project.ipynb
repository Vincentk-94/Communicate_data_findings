{
 "cells": [
  {
   "cell_type": "markdown",
   "metadata": {},
   "source": [
    "# 2008 Airline on time dataset\n",
    "## by Vincent Khor\n",
    "\n",
    "## Preliminary Wrangling\n",
    "\n",
    "> Briefly introduce your dataset here. \n"
   ]
  },
  {
   "cell_type": "code",
   "execution_count": 162,
   "metadata": {},
   "outputs": [],
   "source": [
    "# import all packages and set plots to be embedded inline\n",
    "import numpy as np\n",
    "import pandas as pd\n",
    "import matplotlib.pyplot as plt\n",
    "import seaborn as sns\n",
    "import datetime\n",
    "import time\n",
    "\n",
    "%matplotlib inline"
   ]
  },
  {
   "cell_type": "markdown",
   "metadata": {},
   "source": [
    "> Load in your dataset and describe its properties through the questions below.\n",
    "Try and motivate your exploration goals through this section."
   ]
  },
  {
   "cell_type": "code",
   "execution_count": 163,
   "metadata": {},
   "outputs": [],
   "source": [
    "# Load necessary csv files.\n",
    "flights = pd.read_csv('flights_2008.csv')"
   ]
  },
  {
   "cell_type": "code",
   "execution_count": 164,
   "metadata": {},
   "outputs": [
    {
     "name": "stdout",
     "output_type": "stream",
     "text": [
      "There are 2389217 rows and 29 columns in this dataset.\n"
     ]
    }
   ],
   "source": [
    "print('There are '+ str(flights.shape[0]) +' rows and ' + str(flights.shape[1]) + ' columns in this dataset.')"
   ]
  },
  {
   "cell_type": "code",
   "execution_count": 165,
   "metadata": {
    "scrolled": true
   },
   "outputs": [
    {
     "data": {
      "text/html": [
       "<div>\n",
       "<style scoped>\n",
       "    .dataframe tbody tr th:only-of-type {\n",
       "        vertical-align: middle;\n",
       "    }\n",
       "\n",
       "    .dataframe tbody tr th {\n",
       "        vertical-align: top;\n",
       "    }\n",
       "\n",
       "    .dataframe thead th {\n",
       "        text-align: right;\n",
       "    }\n",
       "</style>\n",
       "<table border=\"1\" class=\"dataframe\">\n",
       "  <thead>\n",
       "    <tr style=\"text-align: right;\">\n",
       "      <th></th>\n",
       "      <th>Year</th>\n",
       "      <th>Month</th>\n",
       "      <th>DayofMonth</th>\n",
       "      <th>DayOfWeek</th>\n",
       "      <th>DepTime</th>\n",
       "      <th>CRSDepTime</th>\n",
       "      <th>ArrTime</th>\n",
       "      <th>CRSArrTime</th>\n",
       "      <th>UniqueCarrier</th>\n",
       "      <th>FlightNum</th>\n",
       "      <th>...</th>\n",
       "      <th>TaxiIn</th>\n",
       "      <th>TaxiOut</th>\n",
       "      <th>Cancelled</th>\n",
       "      <th>CancellationCode</th>\n",
       "      <th>Diverted</th>\n",
       "      <th>CarrierDelay</th>\n",
       "      <th>WeatherDelay</th>\n",
       "      <th>NASDelay</th>\n",
       "      <th>SecurityDelay</th>\n",
       "      <th>LateAircraftDelay</th>\n",
       "    </tr>\n",
       "  </thead>\n",
       "  <tbody>\n",
       "    <tr>\n",
       "      <th>0</th>\n",
       "      <td>2008</td>\n",
       "      <td>1</td>\n",
       "      <td>3</td>\n",
       "      <td>4</td>\n",
       "      <td>1343.0</td>\n",
       "      <td>1325</td>\n",
       "      <td>1451.0</td>\n",
       "      <td>1435</td>\n",
       "      <td>WN</td>\n",
       "      <td>588</td>\n",
       "      <td>...</td>\n",
       "      <td>4.0</td>\n",
       "      <td>9.0</td>\n",
       "      <td>0</td>\n",
       "      <td>NaN</td>\n",
       "      <td>0</td>\n",
       "      <td>16.0</td>\n",
       "      <td>0.0</td>\n",
       "      <td>0.0</td>\n",
       "      <td>0.0</td>\n",
       "      <td>0.0</td>\n",
       "    </tr>\n",
       "    <tr>\n",
       "      <th>1</th>\n",
       "      <td>2008</td>\n",
       "      <td>1</td>\n",
       "      <td>3</td>\n",
       "      <td>4</td>\n",
       "      <td>1125.0</td>\n",
       "      <td>1120</td>\n",
       "      <td>1247.0</td>\n",
       "      <td>1245</td>\n",
       "      <td>WN</td>\n",
       "      <td>1343</td>\n",
       "      <td>...</td>\n",
       "      <td>3.0</td>\n",
       "      <td>8.0</td>\n",
       "      <td>0</td>\n",
       "      <td>NaN</td>\n",
       "      <td>0</td>\n",
       "      <td>NaN</td>\n",
       "      <td>NaN</td>\n",
       "      <td>NaN</td>\n",
       "      <td>NaN</td>\n",
       "      <td>NaN</td>\n",
       "    </tr>\n",
       "    <tr>\n",
       "      <th>2</th>\n",
       "      <td>2008</td>\n",
       "      <td>1</td>\n",
       "      <td>3</td>\n",
       "      <td>4</td>\n",
       "      <td>2009.0</td>\n",
       "      <td>2015</td>\n",
       "      <td>2136.0</td>\n",
       "      <td>2140</td>\n",
       "      <td>WN</td>\n",
       "      <td>3841</td>\n",
       "      <td>...</td>\n",
       "      <td>2.0</td>\n",
       "      <td>14.0</td>\n",
       "      <td>0</td>\n",
       "      <td>NaN</td>\n",
       "      <td>0</td>\n",
       "      <td>NaN</td>\n",
       "      <td>NaN</td>\n",
       "      <td>NaN</td>\n",
       "      <td>NaN</td>\n",
       "      <td>NaN</td>\n",
       "    </tr>\n",
       "    <tr>\n",
       "      <th>3</th>\n",
       "      <td>2008</td>\n",
       "      <td>1</td>\n",
       "      <td>3</td>\n",
       "      <td>4</td>\n",
       "      <td>903.0</td>\n",
       "      <td>855</td>\n",
       "      <td>1203.0</td>\n",
       "      <td>1205</td>\n",
       "      <td>WN</td>\n",
       "      <td>3</td>\n",
       "      <td>...</td>\n",
       "      <td>5.0</td>\n",
       "      <td>7.0</td>\n",
       "      <td>0</td>\n",
       "      <td>NaN</td>\n",
       "      <td>0</td>\n",
       "      <td>NaN</td>\n",
       "      <td>NaN</td>\n",
       "      <td>NaN</td>\n",
       "      <td>NaN</td>\n",
       "      <td>NaN</td>\n",
       "    </tr>\n",
       "    <tr>\n",
       "      <th>4</th>\n",
       "      <td>2008</td>\n",
       "      <td>1</td>\n",
       "      <td>3</td>\n",
       "      <td>4</td>\n",
       "      <td>1423.0</td>\n",
       "      <td>1400</td>\n",
       "      <td>1726.0</td>\n",
       "      <td>1710</td>\n",
       "      <td>WN</td>\n",
       "      <td>25</td>\n",
       "      <td>...</td>\n",
       "      <td>6.0</td>\n",
       "      <td>10.0</td>\n",
       "      <td>0</td>\n",
       "      <td>NaN</td>\n",
       "      <td>0</td>\n",
       "      <td>16.0</td>\n",
       "      <td>0.0</td>\n",
       "      <td>0.0</td>\n",
       "      <td>0.0</td>\n",
       "      <td>0.0</td>\n",
       "    </tr>\n",
       "  </tbody>\n",
       "</table>\n",
       "<p>5 rows × 29 columns</p>\n",
       "</div>"
      ],
      "text/plain": [
       "   Year  Month  DayofMonth  DayOfWeek  DepTime  CRSDepTime  ArrTime  \\\n",
       "0  2008      1           3          4   1343.0        1325   1451.0   \n",
       "1  2008      1           3          4   1125.0        1120   1247.0   \n",
       "2  2008      1           3          4   2009.0        2015   2136.0   \n",
       "3  2008      1           3          4    903.0         855   1203.0   \n",
       "4  2008      1           3          4   1423.0        1400   1726.0   \n",
       "\n",
       "   CRSArrTime UniqueCarrier  FlightNum  ... TaxiIn  TaxiOut  Cancelled  \\\n",
       "0        1435            WN        588  ...    4.0      9.0          0   \n",
       "1        1245            WN       1343  ...    3.0      8.0          0   \n",
       "2        2140            WN       3841  ...    2.0     14.0          0   \n",
       "3        1205            WN          3  ...    5.0      7.0          0   \n",
       "4        1710            WN         25  ...    6.0     10.0          0   \n",
       "\n",
       "   CancellationCode  Diverted  CarrierDelay WeatherDelay NASDelay  \\\n",
       "0               NaN         0          16.0          0.0      0.0   \n",
       "1               NaN         0           NaN          NaN      NaN   \n",
       "2               NaN         0           NaN          NaN      NaN   \n",
       "3               NaN         0           NaN          NaN      NaN   \n",
       "4               NaN         0          16.0          0.0      0.0   \n",
       "\n",
       "   SecurityDelay  LateAircraftDelay  \n",
       "0            0.0                0.0  \n",
       "1            NaN                NaN  \n",
       "2            NaN                NaN  \n",
       "3            NaN                NaN  \n",
       "4            0.0                0.0  \n",
       "\n",
       "[5 rows x 29 columns]"
      ]
     },
     "execution_count": 165,
     "metadata": {},
     "output_type": "execute_result"
    }
   ],
   "source": [
    "flights.head()"
   ]
  },
  {
   "cell_type": "code",
   "execution_count": 166,
   "metadata": {},
   "outputs": [],
   "source": [
    "# Converting column names to be more descriptive\n",
    "col_name = {'Year':'year', 'Month':'month', 'DayofMonth':'day_of_month','DayOfWeek':'day_of_week',\n",
    "            'DepTime':'actual_dep_time','CRSDepTime':'scheduled_dep_time','ArrTime':'actual_arr_time',\n",
    "            'CRSArrTime':'scheduled_arr_time','UniqueCarrier':'carrier_code','FlightNum':'flight_number',\n",
    "            'TailNum':'tail_number','ActualElapsedTime':'actual_elapsed_time','CRSElapsedTime':'scheduled_elapsed_time',\n",
    "            'AirTime':'air_time','ArrDelay':'arr_delay','DepDelay':'dep_delay','Origin':'origin','Dest':'destination',\n",
    "            'Distance':'distance','TaxiIn':'taxi_in_time','TaxiOut':'taxi_out_time','Cancelled':'cancelled',\n",
    "            'CancellationCode':'cancellation_code','Diverted':'diverted','CarrierDelay':'carrier_delay',\n",
    "            'WeatherDelay':'weather_delay','NASDelay':'nas_delay', 'SecurityDelay':'security_delay',\n",
    "            'LateAircraftDelay':'late_aircraft_delay'}\n",
    "flights=flights.rename(columns=col_name)"
   ]
  },
  {
   "cell_type": "code",
   "execution_count": 167,
   "metadata": {
    "scrolled": true
   },
   "outputs": [
    {
     "data": {
      "text/html": [
       "<div>\n",
       "<style scoped>\n",
       "    .dataframe tbody tr th:only-of-type {\n",
       "        vertical-align: middle;\n",
       "    }\n",
       "\n",
       "    .dataframe tbody tr th {\n",
       "        vertical-align: top;\n",
       "    }\n",
       "\n",
       "    .dataframe thead th {\n",
       "        text-align: right;\n",
       "    }\n",
       "</style>\n",
       "<table border=\"1\" class=\"dataframe\">\n",
       "  <thead>\n",
       "    <tr style=\"text-align: right;\">\n",
       "      <th></th>\n",
       "      <th>year</th>\n",
       "      <th>month</th>\n",
       "      <th>day_of_month</th>\n",
       "      <th>day_of_week</th>\n",
       "      <th>actual_dep_time</th>\n",
       "      <th>scheduled_dep_time</th>\n",
       "      <th>actual_arr_time</th>\n",
       "      <th>scheduled_arr_time</th>\n",
       "      <th>carrier_code</th>\n",
       "      <th>flight_number</th>\n",
       "      <th>...</th>\n",
       "      <th>taxi_in_time</th>\n",
       "      <th>taxi_out_time</th>\n",
       "      <th>cancelled</th>\n",
       "      <th>cancellation_code</th>\n",
       "      <th>diverted</th>\n",
       "      <th>carrier_delay</th>\n",
       "      <th>weather_delay</th>\n",
       "      <th>nas_delay</th>\n",
       "      <th>security_delay</th>\n",
       "      <th>late_aircraft_delay</th>\n",
       "    </tr>\n",
       "  </thead>\n",
       "  <tbody>\n",
       "    <tr>\n",
       "      <th>0</th>\n",
       "      <td>2008</td>\n",
       "      <td>1</td>\n",
       "      <td>3</td>\n",
       "      <td>4</td>\n",
       "      <td>1343.0</td>\n",
       "      <td>1325</td>\n",
       "      <td>1451.0</td>\n",
       "      <td>1435</td>\n",
       "      <td>WN</td>\n",
       "      <td>588</td>\n",
       "      <td>...</td>\n",
       "      <td>4.0</td>\n",
       "      <td>9.0</td>\n",
       "      <td>0</td>\n",
       "      <td>NaN</td>\n",
       "      <td>0</td>\n",
       "      <td>16.0</td>\n",
       "      <td>0.0</td>\n",
       "      <td>0.0</td>\n",
       "      <td>0.0</td>\n",
       "      <td>0.0</td>\n",
       "    </tr>\n",
       "    <tr>\n",
       "      <th>1</th>\n",
       "      <td>2008</td>\n",
       "      <td>1</td>\n",
       "      <td>3</td>\n",
       "      <td>4</td>\n",
       "      <td>1125.0</td>\n",
       "      <td>1120</td>\n",
       "      <td>1247.0</td>\n",
       "      <td>1245</td>\n",
       "      <td>WN</td>\n",
       "      <td>1343</td>\n",
       "      <td>...</td>\n",
       "      <td>3.0</td>\n",
       "      <td>8.0</td>\n",
       "      <td>0</td>\n",
       "      <td>NaN</td>\n",
       "      <td>0</td>\n",
       "      <td>NaN</td>\n",
       "      <td>NaN</td>\n",
       "      <td>NaN</td>\n",
       "      <td>NaN</td>\n",
       "      <td>NaN</td>\n",
       "    </tr>\n",
       "    <tr>\n",
       "      <th>2</th>\n",
       "      <td>2008</td>\n",
       "      <td>1</td>\n",
       "      <td>3</td>\n",
       "      <td>4</td>\n",
       "      <td>2009.0</td>\n",
       "      <td>2015</td>\n",
       "      <td>2136.0</td>\n",
       "      <td>2140</td>\n",
       "      <td>WN</td>\n",
       "      <td>3841</td>\n",
       "      <td>...</td>\n",
       "      <td>2.0</td>\n",
       "      <td>14.0</td>\n",
       "      <td>0</td>\n",
       "      <td>NaN</td>\n",
       "      <td>0</td>\n",
       "      <td>NaN</td>\n",
       "      <td>NaN</td>\n",
       "      <td>NaN</td>\n",
       "      <td>NaN</td>\n",
       "      <td>NaN</td>\n",
       "    </tr>\n",
       "    <tr>\n",
       "      <th>3</th>\n",
       "      <td>2008</td>\n",
       "      <td>1</td>\n",
       "      <td>3</td>\n",
       "      <td>4</td>\n",
       "      <td>903.0</td>\n",
       "      <td>855</td>\n",
       "      <td>1203.0</td>\n",
       "      <td>1205</td>\n",
       "      <td>WN</td>\n",
       "      <td>3</td>\n",
       "      <td>...</td>\n",
       "      <td>5.0</td>\n",
       "      <td>7.0</td>\n",
       "      <td>0</td>\n",
       "      <td>NaN</td>\n",
       "      <td>0</td>\n",
       "      <td>NaN</td>\n",
       "      <td>NaN</td>\n",
       "      <td>NaN</td>\n",
       "      <td>NaN</td>\n",
       "      <td>NaN</td>\n",
       "    </tr>\n",
       "    <tr>\n",
       "      <th>4</th>\n",
       "      <td>2008</td>\n",
       "      <td>1</td>\n",
       "      <td>3</td>\n",
       "      <td>4</td>\n",
       "      <td>1423.0</td>\n",
       "      <td>1400</td>\n",
       "      <td>1726.0</td>\n",
       "      <td>1710</td>\n",
       "      <td>WN</td>\n",
       "      <td>25</td>\n",
       "      <td>...</td>\n",
       "      <td>6.0</td>\n",
       "      <td>10.0</td>\n",
       "      <td>0</td>\n",
       "      <td>NaN</td>\n",
       "      <td>0</td>\n",
       "      <td>16.0</td>\n",
       "      <td>0.0</td>\n",
       "      <td>0.0</td>\n",
       "      <td>0.0</td>\n",
       "      <td>0.0</td>\n",
       "    </tr>\n",
       "  </tbody>\n",
       "</table>\n",
       "<p>5 rows × 29 columns</p>\n",
       "</div>"
      ],
      "text/plain": [
       "   year  month  day_of_month  day_of_week  actual_dep_time  \\\n",
       "0  2008      1             3            4           1343.0   \n",
       "1  2008      1             3            4           1125.0   \n",
       "2  2008      1             3            4           2009.0   \n",
       "3  2008      1             3            4            903.0   \n",
       "4  2008      1             3            4           1423.0   \n",
       "\n",
       "   scheduled_dep_time  actual_arr_time  scheduled_arr_time carrier_code  \\\n",
       "0                1325           1451.0                1435           WN   \n",
       "1                1120           1247.0                1245           WN   \n",
       "2                2015           2136.0                2140           WN   \n",
       "3                 855           1203.0                1205           WN   \n",
       "4                1400           1726.0                1710           WN   \n",
       "\n",
       "   flight_number  ... taxi_in_time  taxi_out_time  cancelled  \\\n",
       "0            588  ...          4.0            9.0          0   \n",
       "1           1343  ...          3.0            8.0          0   \n",
       "2           3841  ...          2.0           14.0          0   \n",
       "3              3  ...          5.0            7.0          0   \n",
       "4             25  ...          6.0           10.0          0   \n",
       "\n",
       "   cancellation_code  diverted  carrier_delay weather_delay nas_delay  \\\n",
       "0                NaN         0           16.0           0.0       0.0   \n",
       "1                NaN         0            NaN           NaN       NaN   \n",
       "2                NaN         0            NaN           NaN       NaN   \n",
       "3                NaN         0            NaN           NaN       NaN   \n",
       "4                NaN         0           16.0           0.0       0.0   \n",
       "\n",
       "   security_delay  late_aircraft_delay  \n",
       "0             0.0                  0.0  \n",
       "1             NaN                  NaN  \n",
       "2             NaN                  NaN  \n",
       "3             NaN                  NaN  \n",
       "4             0.0                  0.0  \n",
       "\n",
       "[5 rows x 29 columns]"
      ]
     },
     "execution_count": 167,
     "metadata": {},
     "output_type": "execute_result"
    }
   ],
   "source": [
    "flights.head()"
   ]
  },
  {
   "cell_type": "code",
   "execution_count": 168,
   "metadata": {},
   "outputs": [
    {
     "name": "stdout",
     "output_type": "stream",
     "text": [
      "<class 'pandas.core.frame.DataFrame'>\n",
      "RangeIndex: 2389217 entries, 0 to 2389216\n",
      "Data columns (total 29 columns):\n",
      " #   Column                  Non-Null Count    Dtype  \n",
      "---  ------                  --------------    -----  \n",
      " 0   year                    2389217 non-null  int64  \n",
      " 1   month                   2389217 non-null  int64  \n",
      " 2   day_of_month            2389217 non-null  int64  \n",
      " 3   day_of_week             2389217 non-null  int64  \n",
      " 4   actual_dep_time         2324775 non-null  float64\n",
      " 5   scheduled_dep_time      2389217 non-null  int64  \n",
      " 6   actual_arr_time         2319121 non-null  float64\n",
      " 7   scheduled_arr_time      2389217 non-null  int64  \n",
      " 8   carrier_code            2389217 non-null  object \n",
      " 9   flight_number           2389217 non-null  int64  \n",
      " 10  tail_number             2346765 non-null  object \n",
      " 11  actual_elapsed_time     2319121 non-null  float64\n",
      " 12  scheduled_elapsed_time  2388810 non-null  float64\n",
      " 13  air_time                2319121 non-null  float64\n",
      " 14  arr_delay               2319121 non-null  float64\n",
      " 15  dep_delay               2324775 non-null  float64\n",
      " 16  origin                  2389217 non-null  object \n",
      " 17  destination             2389217 non-null  object \n",
      " 18  distance                2389217 non-null  int64  \n",
      " 19  taxi_in_time            2319121 non-null  float64\n",
      " 20  taxi_out_time           2324775 non-null  float64\n",
      " 21  cancelled               2389217 non-null  int64  \n",
      " 22  cancellation_code       64442 non-null    object \n",
      " 23  diverted                2389217 non-null  int64  \n",
      " 24  carrier_delay           584583 non-null   float64\n",
      " 25  weather_delay           584583 non-null   float64\n",
      " 26  nas_delay               584583 non-null   float64\n",
      " 27  security_delay          584583 non-null   float64\n",
      " 28  late_aircraft_delay     584583 non-null   float64\n",
      "dtypes: float64(14), int64(10), object(5)\n",
      "memory usage: 528.6+ MB\n"
     ]
    }
   ],
   "source": [
    "# Display basic information\n",
    "flights.info(verbose=True, null_counts=True)"
   ]
  },
  {
   "cell_type": "code",
   "execution_count": 169,
   "metadata": {},
   "outputs": [],
   "source": [
    "# replace 'day of week' values\n",
    "day = {1:'Monday',2:'Tuesday',3:'Wednesday',4:'Thursday',5:'Friday',6:'Saturday',7:'Sunday'}\n",
    "flights['day_of_week'].replace(day, inplace=True)"
   ]
  },
  {
   "cell_type": "code",
   "execution_count": 170,
   "metadata": {},
   "outputs": [],
   "source": [
    "# Set day order\n",
    "days = ['Monday', 'Tuesday', 'Wednesday', 'Thursday', 'Friday','Saturday','Sunday']\n",
    "day_order = pd.api.types.CategoricalDtype(ordered=True, categories=days)\n",
    "flights['day_of_week'] = flights['day_of_week'].astype(day_order);"
   ]
  },
  {
   "cell_type": "code",
   "execution_count": 171,
   "metadata": {
    "scrolled": true
   },
   "outputs": [
    {
     "data": {
      "text/plain": [
       "['Thursday', 'Friday', 'Saturday', 'Sunday', 'Monday', 'Tuesday', 'Wednesday']\n",
       "Categories (7, object): ['Monday' < 'Tuesday' < 'Wednesday' < 'Thursday' < 'Friday' < 'Saturday' < 'Sunday']"
      ]
     },
     "execution_count": 171,
     "metadata": {},
     "output_type": "execute_result"
    }
   ],
   "source": [
    "flights['day_of_week'].unique()"
   ]
  },
  {
   "cell_type": "code",
   "execution_count": 172,
   "metadata": {
    "scrolled": false
   },
   "outputs": [
    {
     "data": {
      "text/html": [
       "<div>\n",
       "<style scoped>\n",
       "    .dataframe tbody tr th:only-of-type {\n",
       "        vertical-align: middle;\n",
       "    }\n",
       "\n",
       "    .dataframe tbody tr th {\n",
       "        vertical-align: top;\n",
       "    }\n",
       "\n",
       "    .dataframe thead th {\n",
       "        text-align: right;\n",
       "    }\n",
       "</style>\n",
       "<table border=\"1\" class=\"dataframe\">\n",
       "  <thead>\n",
       "    <tr style=\"text-align: right;\">\n",
       "      <th></th>\n",
       "      <th>year</th>\n",
       "      <th>month</th>\n",
       "      <th>day_of_month</th>\n",
       "      <th>day_of_week</th>\n",
       "      <th>actual_dep_time</th>\n",
       "      <th>scheduled_dep_time</th>\n",
       "      <th>actual_arr_time</th>\n",
       "      <th>scheduled_arr_time</th>\n",
       "      <th>carrier_code</th>\n",
       "      <th>flight_number</th>\n",
       "      <th>...</th>\n",
       "      <th>taxi_in_time</th>\n",
       "      <th>taxi_out_time</th>\n",
       "      <th>cancelled</th>\n",
       "      <th>cancellation_code</th>\n",
       "      <th>diverted</th>\n",
       "      <th>carrier_delay</th>\n",
       "      <th>weather_delay</th>\n",
       "      <th>nas_delay</th>\n",
       "      <th>security_delay</th>\n",
       "      <th>late_aircraft_delay</th>\n",
       "    </tr>\n",
       "  </thead>\n",
       "  <tbody>\n",
       "    <tr>\n",
       "      <th>0</th>\n",
       "      <td>2008</td>\n",
       "      <td>1</td>\n",
       "      <td>3</td>\n",
       "      <td>Thursday</td>\n",
       "      <td>1343.0</td>\n",
       "      <td>1325</td>\n",
       "      <td>1451.0</td>\n",
       "      <td>1435</td>\n",
       "      <td>WN</td>\n",
       "      <td>588</td>\n",
       "      <td>...</td>\n",
       "      <td>4.0</td>\n",
       "      <td>9.0</td>\n",
       "      <td>0</td>\n",
       "      <td>NaN</td>\n",
       "      <td>0</td>\n",
       "      <td>16.0</td>\n",
       "      <td>0.0</td>\n",
       "      <td>0.0</td>\n",
       "      <td>0.0</td>\n",
       "      <td>0.0</td>\n",
       "    </tr>\n",
       "    <tr>\n",
       "      <th>1</th>\n",
       "      <td>2008</td>\n",
       "      <td>1</td>\n",
       "      <td>3</td>\n",
       "      <td>Thursday</td>\n",
       "      <td>1125.0</td>\n",
       "      <td>1120</td>\n",
       "      <td>1247.0</td>\n",
       "      <td>1245</td>\n",
       "      <td>WN</td>\n",
       "      <td>1343</td>\n",
       "      <td>...</td>\n",
       "      <td>3.0</td>\n",
       "      <td>8.0</td>\n",
       "      <td>0</td>\n",
       "      <td>NaN</td>\n",
       "      <td>0</td>\n",
       "      <td>NaN</td>\n",
       "      <td>NaN</td>\n",
       "      <td>NaN</td>\n",
       "      <td>NaN</td>\n",
       "      <td>NaN</td>\n",
       "    </tr>\n",
       "    <tr>\n",
       "      <th>2</th>\n",
       "      <td>2008</td>\n",
       "      <td>1</td>\n",
       "      <td>3</td>\n",
       "      <td>Thursday</td>\n",
       "      <td>2009.0</td>\n",
       "      <td>2015</td>\n",
       "      <td>2136.0</td>\n",
       "      <td>2140</td>\n",
       "      <td>WN</td>\n",
       "      <td>3841</td>\n",
       "      <td>...</td>\n",
       "      <td>2.0</td>\n",
       "      <td>14.0</td>\n",
       "      <td>0</td>\n",
       "      <td>NaN</td>\n",
       "      <td>0</td>\n",
       "      <td>NaN</td>\n",
       "      <td>NaN</td>\n",
       "      <td>NaN</td>\n",
       "      <td>NaN</td>\n",
       "      <td>NaN</td>\n",
       "    </tr>\n",
       "    <tr>\n",
       "      <th>3</th>\n",
       "      <td>2008</td>\n",
       "      <td>1</td>\n",
       "      <td>3</td>\n",
       "      <td>Thursday</td>\n",
       "      <td>903.0</td>\n",
       "      <td>855</td>\n",
       "      <td>1203.0</td>\n",
       "      <td>1205</td>\n",
       "      <td>WN</td>\n",
       "      <td>3</td>\n",
       "      <td>...</td>\n",
       "      <td>5.0</td>\n",
       "      <td>7.0</td>\n",
       "      <td>0</td>\n",
       "      <td>NaN</td>\n",
       "      <td>0</td>\n",
       "      <td>NaN</td>\n",
       "      <td>NaN</td>\n",
       "      <td>NaN</td>\n",
       "      <td>NaN</td>\n",
       "      <td>NaN</td>\n",
       "    </tr>\n",
       "    <tr>\n",
       "      <th>4</th>\n",
       "      <td>2008</td>\n",
       "      <td>1</td>\n",
       "      <td>3</td>\n",
       "      <td>Thursday</td>\n",
       "      <td>1423.0</td>\n",
       "      <td>1400</td>\n",
       "      <td>1726.0</td>\n",
       "      <td>1710</td>\n",
       "      <td>WN</td>\n",
       "      <td>25</td>\n",
       "      <td>...</td>\n",
       "      <td>6.0</td>\n",
       "      <td>10.0</td>\n",
       "      <td>0</td>\n",
       "      <td>NaN</td>\n",
       "      <td>0</td>\n",
       "      <td>16.0</td>\n",
       "      <td>0.0</td>\n",
       "      <td>0.0</td>\n",
       "      <td>0.0</td>\n",
       "      <td>0.0</td>\n",
       "    </tr>\n",
       "  </tbody>\n",
       "</table>\n",
       "<p>5 rows × 29 columns</p>\n",
       "</div>"
      ],
      "text/plain": [
       "   year  month  day_of_month day_of_week  actual_dep_time  scheduled_dep_time  \\\n",
       "0  2008      1             3    Thursday           1343.0                1325   \n",
       "1  2008      1             3    Thursday           1125.0                1120   \n",
       "2  2008      1             3    Thursday           2009.0                2015   \n",
       "3  2008      1             3    Thursday            903.0                 855   \n",
       "4  2008      1             3    Thursday           1423.0                1400   \n",
       "\n",
       "   actual_arr_time  scheduled_arr_time carrier_code  flight_number  ...  \\\n",
       "0           1451.0                1435           WN            588  ...   \n",
       "1           1247.0                1245           WN           1343  ...   \n",
       "2           2136.0                2140           WN           3841  ...   \n",
       "3           1203.0                1205           WN              3  ...   \n",
       "4           1726.0                1710           WN             25  ...   \n",
       "\n",
       "  taxi_in_time  taxi_out_time  cancelled  cancellation_code  diverted  \\\n",
       "0          4.0            9.0          0                NaN         0   \n",
       "1          3.0            8.0          0                NaN         0   \n",
       "2          2.0           14.0          0                NaN         0   \n",
       "3          5.0            7.0          0                NaN         0   \n",
       "4          6.0           10.0          0                NaN         0   \n",
       "\n",
       "   carrier_delay weather_delay nas_delay  security_delay  late_aircraft_delay  \n",
       "0           16.0           0.0       0.0             0.0                  0.0  \n",
       "1            NaN           NaN       NaN             NaN                  NaN  \n",
       "2            NaN           NaN       NaN             NaN                  NaN  \n",
       "3            NaN           NaN       NaN             NaN                  NaN  \n",
       "4           16.0           0.0       0.0             0.0                  0.0  \n",
       "\n",
       "[5 rows x 29 columns]"
      ]
     },
     "execution_count": 172,
     "metadata": {},
     "output_type": "execute_result"
    }
   ],
   "source": [
    "flights.head()"
   ]
  },
  {
   "cell_type": "code",
   "execution_count": 173,
   "metadata": {
    "scrolled": true
   },
   "outputs": [
    {
     "data": {
      "text/plain": [
       "Wednesday    365560\n",
       "Tuesday      358942\n",
       "Friday       350566\n",
       "Thursday     349831\n",
       "Monday       347984\n",
       "Sunday       328237\n",
       "Saturday     288097\n",
       "Name: day_of_week, dtype: int64"
      ]
     },
     "execution_count": 173,
     "metadata": {},
     "output_type": "execute_result"
    }
   ],
   "source": [
    "flights.day_of_week.value_counts()"
   ]
  },
  {
   "cell_type": "markdown",
   "metadata": {},
   "source": [
    "Columns to convert:\n",
    "- actual_dep_time\n",
    "- scheduled_dep_time\n",
    "- actual_arr_time\n",
    "- scheduled_arr_time"
   ]
  },
  {
   "cell_type": "markdown",
   "metadata": {},
   "source": [
    "### Converting string time values to HH:MM "
   ]
  },
  {
   "cell_type": "code",
   "execution_count": 174,
   "metadata": {},
   "outputs": [
    {
     "data": {
      "text/html": [
       "<div>\n",
       "<style scoped>\n",
       "    .dataframe tbody tr th:only-of-type {\n",
       "        vertical-align: middle;\n",
       "    }\n",
       "\n",
       "    .dataframe tbody tr th {\n",
       "        vertical-align: top;\n",
       "    }\n",
       "\n",
       "    .dataframe thead th {\n",
       "        text-align: right;\n",
       "    }\n",
       "</style>\n",
       "<table border=\"1\" class=\"dataframe\">\n",
       "  <thead>\n",
       "    <tr style=\"text-align: right;\">\n",
       "      <th></th>\n",
       "      <th>year</th>\n",
       "      <th>month</th>\n",
       "      <th>day_of_month</th>\n",
       "      <th>day_of_week</th>\n",
       "      <th>actual_dep_time</th>\n",
       "      <th>scheduled_dep_time</th>\n",
       "      <th>actual_arr_time</th>\n",
       "      <th>scheduled_arr_time</th>\n",
       "      <th>carrier_code</th>\n",
       "      <th>flight_number</th>\n",
       "      <th>...</th>\n",
       "      <th>taxi_in_time</th>\n",
       "      <th>taxi_out_time</th>\n",
       "      <th>cancelled</th>\n",
       "      <th>cancellation_code</th>\n",
       "      <th>diverted</th>\n",
       "      <th>carrier_delay</th>\n",
       "      <th>weather_delay</th>\n",
       "      <th>nas_delay</th>\n",
       "      <th>security_delay</th>\n",
       "      <th>late_aircraft_delay</th>\n",
       "    </tr>\n",
       "  </thead>\n",
       "  <tbody>\n",
       "    <tr>\n",
       "      <th>42</th>\n",
       "      <td>2008</td>\n",
       "      <td>1</td>\n",
       "      <td>3</td>\n",
       "      <td>Thursday</td>\n",
       "      <td>NaN</td>\n",
       "      <td>800</td>\n",
       "      <td>NaN</td>\n",
       "      <td>850</td>\n",
       "      <td>WN</td>\n",
       "      <td>609</td>\n",
       "      <td>...</td>\n",
       "      <td>NaN</td>\n",
       "      <td>NaN</td>\n",
       "      <td>1</td>\n",
       "      <td>A</td>\n",
       "      <td>0</td>\n",
       "      <td>NaN</td>\n",
       "      <td>NaN</td>\n",
       "      <td>NaN</td>\n",
       "      <td>NaN</td>\n",
       "      <td>NaN</td>\n",
       "    </tr>\n",
       "    <tr>\n",
       "      <th>259</th>\n",
       "      <td>2008</td>\n",
       "      <td>1</td>\n",
       "      <td>3</td>\n",
       "      <td>Thursday</td>\n",
       "      <td>NaN</td>\n",
       "      <td>700</td>\n",
       "      <td>NaN</td>\n",
       "      <td>830</td>\n",
       "      <td>WN</td>\n",
       "      <td>126</td>\n",
       "      <td>...</td>\n",
       "      <td>NaN</td>\n",
       "      <td>NaN</td>\n",
       "      <td>1</td>\n",
       "      <td>A</td>\n",
       "      <td>0</td>\n",
       "      <td>NaN</td>\n",
       "      <td>NaN</td>\n",
       "      <td>NaN</td>\n",
       "      <td>NaN</td>\n",
       "      <td>NaN</td>\n",
       "    </tr>\n",
       "    <tr>\n",
       "      <th>454</th>\n",
       "      <td>2008</td>\n",
       "      <td>1</td>\n",
       "      <td>3</td>\n",
       "      <td>Thursday</td>\n",
       "      <td>NaN</td>\n",
       "      <td>1100</td>\n",
       "      <td>NaN</td>\n",
       "      <td>1215</td>\n",
       "      <td>WN</td>\n",
       "      <td>1146</td>\n",
       "      <td>...</td>\n",
       "      <td>NaN</td>\n",
       "      <td>NaN</td>\n",
       "      <td>1</td>\n",
       "      <td>A</td>\n",
       "      <td>0</td>\n",
       "      <td>NaN</td>\n",
       "      <td>NaN</td>\n",
       "      <td>NaN</td>\n",
       "      <td>NaN</td>\n",
       "      <td>NaN</td>\n",
       "    </tr>\n",
       "    <tr>\n",
       "      <th>480</th>\n",
       "      <td>2008</td>\n",
       "      <td>1</td>\n",
       "      <td>3</td>\n",
       "      <td>Thursday</td>\n",
       "      <td>NaN</td>\n",
       "      <td>905</td>\n",
       "      <td>NaN</td>\n",
       "      <td>1025</td>\n",
       "      <td>WN</td>\n",
       "      <td>469</td>\n",
       "      <td>...</td>\n",
       "      <td>NaN</td>\n",
       "      <td>NaN</td>\n",
       "      <td>1</td>\n",
       "      <td>A</td>\n",
       "      <td>0</td>\n",
       "      <td>NaN</td>\n",
       "      <td>NaN</td>\n",
       "      <td>NaN</td>\n",
       "      <td>NaN</td>\n",
       "      <td>NaN</td>\n",
       "    </tr>\n",
       "    <tr>\n",
       "      <th>482</th>\n",
       "      <td>2008</td>\n",
       "      <td>1</td>\n",
       "      <td>3</td>\n",
       "      <td>Thursday</td>\n",
       "      <td>NaN</td>\n",
       "      <td>1620</td>\n",
       "      <td>NaN</td>\n",
       "      <td>1740</td>\n",
       "      <td>WN</td>\n",
       "      <td>618</td>\n",
       "      <td>...</td>\n",
       "      <td>NaN</td>\n",
       "      <td>NaN</td>\n",
       "      <td>1</td>\n",
       "      <td>C</td>\n",
       "      <td>0</td>\n",
       "      <td>NaN</td>\n",
       "      <td>NaN</td>\n",
       "      <td>NaN</td>\n",
       "      <td>NaN</td>\n",
       "      <td>NaN</td>\n",
       "    </tr>\n",
       "    <tr>\n",
       "      <th>...</th>\n",
       "      <td>...</td>\n",
       "      <td>...</td>\n",
       "      <td>...</td>\n",
       "      <td>...</td>\n",
       "      <td>...</td>\n",
       "      <td>...</td>\n",
       "      <td>...</td>\n",
       "      <td>...</td>\n",
       "      <td>...</td>\n",
       "      <td>...</td>\n",
       "      <td>...</td>\n",
       "      <td>...</td>\n",
       "      <td>...</td>\n",
       "      <td>...</td>\n",
       "      <td>...</td>\n",
       "      <td>...</td>\n",
       "      <td>...</td>\n",
       "      <td>...</td>\n",
       "      <td>...</td>\n",
       "      <td>...</td>\n",
       "      <td>...</td>\n",
       "    </tr>\n",
       "    <tr>\n",
       "      <th>2387945</th>\n",
       "      <td>2008</td>\n",
       "      <td>4</td>\n",
       "      <td>16</td>\n",
       "      <td>Wednesday</td>\n",
       "      <td>NaN</td>\n",
       "      <td>855</td>\n",
       "      <td>NaN</td>\n",
       "      <td>1012</td>\n",
       "      <td>DL</td>\n",
       "      <td>1214</td>\n",
       "      <td>...</td>\n",
       "      <td>NaN</td>\n",
       "      <td>NaN</td>\n",
       "      <td>1</td>\n",
       "      <td>A</td>\n",
       "      <td>0</td>\n",
       "      <td>NaN</td>\n",
       "      <td>NaN</td>\n",
       "      <td>NaN</td>\n",
       "      <td>NaN</td>\n",
       "      <td>NaN</td>\n",
       "    </tr>\n",
       "    <tr>\n",
       "      <th>2387946</th>\n",
       "      <td>2008</td>\n",
       "      <td>4</td>\n",
       "      <td>16</td>\n",
       "      <td>Wednesday</td>\n",
       "      <td>NaN</td>\n",
       "      <td>1045</td>\n",
       "      <td>NaN</td>\n",
       "      <td>1217</td>\n",
       "      <td>DL</td>\n",
       "      <td>1215</td>\n",
       "      <td>...</td>\n",
       "      <td>NaN</td>\n",
       "      <td>NaN</td>\n",
       "      <td>1</td>\n",
       "      <td>A</td>\n",
       "      <td>0</td>\n",
       "      <td>NaN</td>\n",
       "      <td>NaN</td>\n",
       "      <td>NaN</td>\n",
       "      <td>NaN</td>\n",
       "      <td>NaN</td>\n",
       "    </tr>\n",
       "    <tr>\n",
       "      <th>2388936</th>\n",
       "      <td>2008</td>\n",
       "      <td>4</td>\n",
       "      <td>17</td>\n",
       "      <td>Thursday</td>\n",
       "      <td>NaN</td>\n",
       "      <td>1240</td>\n",
       "      <td>NaN</td>\n",
       "      <td>1506</td>\n",
       "      <td>DL</td>\n",
       "      <td>916</td>\n",
       "      <td>...</td>\n",
       "      <td>NaN</td>\n",
       "      <td>NaN</td>\n",
       "      <td>1</td>\n",
       "      <td>A</td>\n",
       "      <td>0</td>\n",
       "      <td>NaN</td>\n",
       "      <td>NaN</td>\n",
       "      <td>NaN</td>\n",
       "      <td>NaN</td>\n",
       "      <td>NaN</td>\n",
       "    </tr>\n",
       "    <tr>\n",
       "      <th>2389184</th>\n",
       "      <td>2008</td>\n",
       "      <td>4</td>\n",
       "      <td>17</td>\n",
       "      <td>Thursday</td>\n",
       "      <td>NaN</td>\n",
       "      <td>1100</td>\n",
       "      <td>NaN</td>\n",
       "      <td>1152</td>\n",
       "      <td>DL</td>\n",
       "      <td>1183</td>\n",
       "      <td>...</td>\n",
       "      <td>NaN</td>\n",
       "      <td>NaN</td>\n",
       "      <td>1</td>\n",
       "      <td>A</td>\n",
       "      <td>0</td>\n",
       "      <td>NaN</td>\n",
       "      <td>NaN</td>\n",
       "      <td>NaN</td>\n",
       "      <td>NaN</td>\n",
       "      <td>NaN</td>\n",
       "    </tr>\n",
       "    <tr>\n",
       "      <th>2389185</th>\n",
       "      <td>2008</td>\n",
       "      <td>4</td>\n",
       "      <td>17</td>\n",
       "      <td>Thursday</td>\n",
       "      <td>NaN</td>\n",
       "      <td>1238</td>\n",
       "      <td>NaN</td>\n",
       "      <td>1526</td>\n",
       "      <td>DL</td>\n",
       "      <td>1184</td>\n",
       "      <td>...</td>\n",
       "      <td>NaN</td>\n",
       "      <td>NaN</td>\n",
       "      <td>1</td>\n",
       "      <td>A</td>\n",
       "      <td>0</td>\n",
       "      <td>NaN</td>\n",
       "      <td>NaN</td>\n",
       "      <td>NaN</td>\n",
       "      <td>NaN</td>\n",
       "      <td>NaN</td>\n",
       "    </tr>\n",
       "  </tbody>\n",
       "</table>\n",
       "<p>64442 rows × 29 columns</p>\n",
       "</div>"
      ],
      "text/plain": [
       "         year  month  day_of_month day_of_week  actual_dep_time  \\\n",
       "42       2008      1             3    Thursday              NaN   \n",
       "259      2008      1             3    Thursday              NaN   \n",
       "454      2008      1             3    Thursday              NaN   \n",
       "480      2008      1             3    Thursday              NaN   \n",
       "482      2008      1             3    Thursday              NaN   \n",
       "...       ...    ...           ...         ...              ...   \n",
       "2387945  2008      4            16   Wednesday              NaN   \n",
       "2387946  2008      4            16   Wednesday              NaN   \n",
       "2388936  2008      4            17    Thursday              NaN   \n",
       "2389184  2008      4            17    Thursday              NaN   \n",
       "2389185  2008      4            17    Thursday              NaN   \n",
       "\n",
       "         scheduled_dep_time  actual_arr_time  scheduled_arr_time carrier_code  \\\n",
       "42                      800              NaN                 850           WN   \n",
       "259                     700              NaN                 830           WN   \n",
       "454                    1100              NaN                1215           WN   \n",
       "480                     905              NaN                1025           WN   \n",
       "482                    1620              NaN                1740           WN   \n",
       "...                     ...              ...                 ...          ...   \n",
       "2387945                 855              NaN                1012           DL   \n",
       "2387946                1045              NaN                1217           DL   \n",
       "2388936                1240              NaN                1506           DL   \n",
       "2389184                1100              NaN                1152           DL   \n",
       "2389185                1238              NaN                1526           DL   \n",
       "\n",
       "         flight_number  ... taxi_in_time  taxi_out_time  cancelled  \\\n",
       "42                 609  ...          NaN            NaN          1   \n",
       "259                126  ...          NaN            NaN          1   \n",
       "454               1146  ...          NaN            NaN          1   \n",
       "480                469  ...          NaN            NaN          1   \n",
       "482                618  ...          NaN            NaN          1   \n",
       "...                ...  ...          ...            ...        ...   \n",
       "2387945           1214  ...          NaN            NaN          1   \n",
       "2387946           1215  ...          NaN            NaN          1   \n",
       "2388936            916  ...          NaN            NaN          1   \n",
       "2389184           1183  ...          NaN            NaN          1   \n",
       "2389185           1184  ...          NaN            NaN          1   \n",
       "\n",
       "         cancellation_code  diverted  carrier_delay weather_delay nas_delay  \\\n",
       "42                       A         0            NaN           NaN       NaN   \n",
       "259                      A         0            NaN           NaN       NaN   \n",
       "454                      A         0            NaN           NaN       NaN   \n",
       "480                      A         0            NaN           NaN       NaN   \n",
       "482                      C         0            NaN           NaN       NaN   \n",
       "...                    ...       ...            ...           ...       ...   \n",
       "2387945                  A         0            NaN           NaN       NaN   \n",
       "2387946                  A         0            NaN           NaN       NaN   \n",
       "2388936                  A         0            NaN           NaN       NaN   \n",
       "2389184                  A         0            NaN           NaN       NaN   \n",
       "2389185                  A         0            NaN           NaN       NaN   \n",
       "\n",
       "         security_delay  late_aircraft_delay  \n",
       "42                  NaN                  NaN  \n",
       "259                 NaN                  NaN  \n",
       "454                 NaN                  NaN  \n",
       "480                 NaN                  NaN  \n",
       "482                 NaN                  NaN  \n",
       "...                 ...                  ...  \n",
       "2387945             NaN                  NaN  \n",
       "2387946             NaN                  NaN  \n",
       "2388936             NaN                  NaN  \n",
       "2389184             NaN                  NaN  \n",
       "2389185             NaN                  NaN  \n",
       "\n",
       "[64442 rows x 29 columns]"
      ]
     },
     "execution_count": 174,
     "metadata": {},
     "output_type": "execute_result"
    }
   ],
   "source": [
    "# are there any null values for actual_dep_time\n",
    "flights[flights['actual_dep_time'].isnull()]"
   ]
  },
  {
   "cell_type": "markdown",
   "metadata": {},
   "source": [
    "There are null values, so we want to examine whether these are null because there were no delays. First, look at how no delays are recorded."
   ]
  },
  {
   "cell_type": "code",
   "execution_count": 175,
   "metadata": {},
   "outputs": [
    {
     "data": {
      "text/plain": [
       "1124398    0.0\n",
       "1910886    0.0\n",
       "1010515    0.0\n",
       "1010514    0.0\n",
       "1910896    0.0\n",
       "          ... \n",
       "2389212    NaN\n",
       "2389213    NaN\n",
       "2389214    NaN\n",
       "2389215    NaN\n",
       "2389216    NaN\n",
       "Name: carrier_delay, Length: 2389217, dtype: float64"
      ]
     },
     "execution_count": 175,
     "metadata": {},
     "output_type": "execute_result"
    }
   ],
   "source": [
    "flights.carrier_delay.sort_values()"
   ]
  },
  {
   "cell_type": "markdown",
   "metadata": {},
   "source": [
    "There is a mixture of NaN and 0 used to record no delays. To standardise this, they will all be converted to 0 as the delay is recorded in minutes"
   ]
  },
  {
   "cell_type": "code",
   "execution_count": 176,
   "metadata": {},
   "outputs": [
    {
     "name": "stdout",
     "output_type": "stream",
     "text": [
      "Start: There are 1804634 NaN values in the carrier_delay column.\n",
      "End: There are 0 NaN values in the carrier_delay column. \n",
      "\n",
      "Start: There are 1804634 NaN values in the weather_delay column.\n",
      "End: There are 0 NaN values in the weather_delay column. \n",
      "\n",
      "Start: There are 1804634 NaN values in the nas_delay column.\n",
      "End: There are 0 NaN values in the nas_delay column. \n",
      "\n",
      "Start: There are 1804634 NaN values in the security_delay column.\n",
      "End: There are 0 NaN values in the security_delay column. \n",
      "\n",
      "Start: There are 1804634 NaN values in the late_aircraft_delay column.\n",
      "End: There are 0 NaN values in the late_aircraft_delay column. \n",
      "\n"
     ]
    }
   ],
   "source": [
    "delay_columns = ['carrier_delay','weather_delay','nas_delay','security_delay','late_aircraft_delay']\n",
    "\n",
    "for column in delay_columns:\n",
    "    print('Start: There are '+str(flights[column].isnull().sum()) +' NaN values in the '+str(column)+' column.')\n",
    "    flights[column].fillna(0,inplace=True)\n",
    "    print('End: There are '+str(flights[column].isnull().sum()) +' NaN values in the '+str(column)+' column. \\n')"
   ]
  },
  {
   "cell_type": "code",
   "execution_count": 177,
   "metadata": {},
   "outputs": [
    {
     "data": {
      "text/html": [
       "<div>\n",
       "<style scoped>\n",
       "    .dataframe tbody tr th:only-of-type {\n",
       "        vertical-align: middle;\n",
       "    }\n",
       "\n",
       "    .dataframe tbody tr th {\n",
       "        vertical-align: top;\n",
       "    }\n",
       "\n",
       "    .dataframe thead th {\n",
       "        text-align: right;\n",
       "    }\n",
       "</style>\n",
       "<table border=\"1\" class=\"dataframe\">\n",
       "  <thead>\n",
       "    <tr style=\"text-align: right;\">\n",
       "      <th></th>\n",
       "      <th>year</th>\n",
       "      <th>month</th>\n",
       "      <th>day_of_month</th>\n",
       "      <th>day_of_week</th>\n",
       "      <th>actual_dep_time</th>\n",
       "      <th>scheduled_dep_time</th>\n",
       "      <th>actual_arr_time</th>\n",
       "      <th>scheduled_arr_time</th>\n",
       "      <th>carrier_code</th>\n",
       "      <th>flight_number</th>\n",
       "      <th>...</th>\n",
       "      <th>taxi_in_time</th>\n",
       "      <th>taxi_out_time</th>\n",
       "      <th>cancelled</th>\n",
       "      <th>cancellation_code</th>\n",
       "      <th>diverted</th>\n",
       "      <th>carrier_delay</th>\n",
       "      <th>weather_delay</th>\n",
       "      <th>nas_delay</th>\n",
       "      <th>security_delay</th>\n",
       "      <th>late_aircraft_delay</th>\n",
       "    </tr>\n",
       "  </thead>\n",
       "  <tbody>\n",
       "    <tr>\n",
       "      <th>42</th>\n",
       "      <td>2008</td>\n",
       "      <td>1</td>\n",
       "      <td>3</td>\n",
       "      <td>Thursday</td>\n",
       "      <td>NaN</td>\n",
       "      <td>800</td>\n",
       "      <td>NaN</td>\n",
       "      <td>850</td>\n",
       "      <td>WN</td>\n",
       "      <td>609</td>\n",
       "      <td>...</td>\n",
       "      <td>NaN</td>\n",
       "      <td>NaN</td>\n",
       "      <td>1</td>\n",
       "      <td>A</td>\n",
       "      <td>0</td>\n",
       "      <td>0.0</td>\n",
       "      <td>0.0</td>\n",
       "      <td>0.0</td>\n",
       "      <td>0.0</td>\n",
       "      <td>0.0</td>\n",
       "    </tr>\n",
       "    <tr>\n",
       "      <th>259</th>\n",
       "      <td>2008</td>\n",
       "      <td>1</td>\n",
       "      <td>3</td>\n",
       "      <td>Thursday</td>\n",
       "      <td>NaN</td>\n",
       "      <td>700</td>\n",
       "      <td>NaN</td>\n",
       "      <td>830</td>\n",
       "      <td>WN</td>\n",
       "      <td>126</td>\n",
       "      <td>...</td>\n",
       "      <td>NaN</td>\n",
       "      <td>NaN</td>\n",
       "      <td>1</td>\n",
       "      <td>A</td>\n",
       "      <td>0</td>\n",
       "      <td>0.0</td>\n",
       "      <td>0.0</td>\n",
       "      <td>0.0</td>\n",
       "      <td>0.0</td>\n",
       "      <td>0.0</td>\n",
       "    </tr>\n",
       "    <tr>\n",
       "      <th>454</th>\n",
       "      <td>2008</td>\n",
       "      <td>1</td>\n",
       "      <td>3</td>\n",
       "      <td>Thursday</td>\n",
       "      <td>NaN</td>\n",
       "      <td>1100</td>\n",
       "      <td>NaN</td>\n",
       "      <td>1215</td>\n",
       "      <td>WN</td>\n",
       "      <td>1146</td>\n",
       "      <td>...</td>\n",
       "      <td>NaN</td>\n",
       "      <td>NaN</td>\n",
       "      <td>1</td>\n",
       "      <td>A</td>\n",
       "      <td>0</td>\n",
       "      <td>0.0</td>\n",
       "      <td>0.0</td>\n",
       "      <td>0.0</td>\n",
       "      <td>0.0</td>\n",
       "      <td>0.0</td>\n",
       "    </tr>\n",
       "    <tr>\n",
       "      <th>480</th>\n",
       "      <td>2008</td>\n",
       "      <td>1</td>\n",
       "      <td>3</td>\n",
       "      <td>Thursday</td>\n",
       "      <td>NaN</td>\n",
       "      <td>905</td>\n",
       "      <td>NaN</td>\n",
       "      <td>1025</td>\n",
       "      <td>WN</td>\n",
       "      <td>469</td>\n",
       "      <td>...</td>\n",
       "      <td>NaN</td>\n",
       "      <td>NaN</td>\n",
       "      <td>1</td>\n",
       "      <td>A</td>\n",
       "      <td>0</td>\n",
       "      <td>0.0</td>\n",
       "      <td>0.0</td>\n",
       "      <td>0.0</td>\n",
       "      <td>0.0</td>\n",
       "      <td>0.0</td>\n",
       "    </tr>\n",
       "    <tr>\n",
       "      <th>482</th>\n",
       "      <td>2008</td>\n",
       "      <td>1</td>\n",
       "      <td>3</td>\n",
       "      <td>Thursday</td>\n",
       "      <td>NaN</td>\n",
       "      <td>1620</td>\n",
       "      <td>NaN</td>\n",
       "      <td>1740</td>\n",
       "      <td>WN</td>\n",
       "      <td>618</td>\n",
       "      <td>...</td>\n",
       "      <td>NaN</td>\n",
       "      <td>NaN</td>\n",
       "      <td>1</td>\n",
       "      <td>C</td>\n",
       "      <td>0</td>\n",
       "      <td>0.0</td>\n",
       "      <td>0.0</td>\n",
       "      <td>0.0</td>\n",
       "      <td>0.0</td>\n",
       "      <td>0.0</td>\n",
       "    </tr>\n",
       "    <tr>\n",
       "      <th>...</th>\n",
       "      <td>...</td>\n",
       "      <td>...</td>\n",
       "      <td>...</td>\n",
       "      <td>...</td>\n",
       "      <td>...</td>\n",
       "      <td>...</td>\n",
       "      <td>...</td>\n",
       "      <td>...</td>\n",
       "      <td>...</td>\n",
       "      <td>...</td>\n",
       "      <td>...</td>\n",
       "      <td>...</td>\n",
       "      <td>...</td>\n",
       "      <td>...</td>\n",
       "      <td>...</td>\n",
       "      <td>...</td>\n",
       "      <td>...</td>\n",
       "      <td>...</td>\n",
       "      <td>...</td>\n",
       "      <td>...</td>\n",
       "      <td>...</td>\n",
       "    </tr>\n",
       "    <tr>\n",
       "      <th>2387945</th>\n",
       "      <td>2008</td>\n",
       "      <td>4</td>\n",
       "      <td>16</td>\n",
       "      <td>Wednesday</td>\n",
       "      <td>NaN</td>\n",
       "      <td>855</td>\n",
       "      <td>NaN</td>\n",
       "      <td>1012</td>\n",
       "      <td>DL</td>\n",
       "      <td>1214</td>\n",
       "      <td>...</td>\n",
       "      <td>NaN</td>\n",
       "      <td>NaN</td>\n",
       "      <td>1</td>\n",
       "      <td>A</td>\n",
       "      <td>0</td>\n",
       "      <td>0.0</td>\n",
       "      <td>0.0</td>\n",
       "      <td>0.0</td>\n",
       "      <td>0.0</td>\n",
       "      <td>0.0</td>\n",
       "    </tr>\n",
       "    <tr>\n",
       "      <th>2387946</th>\n",
       "      <td>2008</td>\n",
       "      <td>4</td>\n",
       "      <td>16</td>\n",
       "      <td>Wednesday</td>\n",
       "      <td>NaN</td>\n",
       "      <td>1045</td>\n",
       "      <td>NaN</td>\n",
       "      <td>1217</td>\n",
       "      <td>DL</td>\n",
       "      <td>1215</td>\n",
       "      <td>...</td>\n",
       "      <td>NaN</td>\n",
       "      <td>NaN</td>\n",
       "      <td>1</td>\n",
       "      <td>A</td>\n",
       "      <td>0</td>\n",
       "      <td>0.0</td>\n",
       "      <td>0.0</td>\n",
       "      <td>0.0</td>\n",
       "      <td>0.0</td>\n",
       "      <td>0.0</td>\n",
       "    </tr>\n",
       "    <tr>\n",
       "      <th>2388936</th>\n",
       "      <td>2008</td>\n",
       "      <td>4</td>\n",
       "      <td>17</td>\n",
       "      <td>Thursday</td>\n",
       "      <td>NaN</td>\n",
       "      <td>1240</td>\n",
       "      <td>NaN</td>\n",
       "      <td>1506</td>\n",
       "      <td>DL</td>\n",
       "      <td>916</td>\n",
       "      <td>...</td>\n",
       "      <td>NaN</td>\n",
       "      <td>NaN</td>\n",
       "      <td>1</td>\n",
       "      <td>A</td>\n",
       "      <td>0</td>\n",
       "      <td>0.0</td>\n",
       "      <td>0.0</td>\n",
       "      <td>0.0</td>\n",
       "      <td>0.0</td>\n",
       "      <td>0.0</td>\n",
       "    </tr>\n",
       "    <tr>\n",
       "      <th>2389184</th>\n",
       "      <td>2008</td>\n",
       "      <td>4</td>\n",
       "      <td>17</td>\n",
       "      <td>Thursday</td>\n",
       "      <td>NaN</td>\n",
       "      <td>1100</td>\n",
       "      <td>NaN</td>\n",
       "      <td>1152</td>\n",
       "      <td>DL</td>\n",
       "      <td>1183</td>\n",
       "      <td>...</td>\n",
       "      <td>NaN</td>\n",
       "      <td>NaN</td>\n",
       "      <td>1</td>\n",
       "      <td>A</td>\n",
       "      <td>0</td>\n",
       "      <td>0.0</td>\n",
       "      <td>0.0</td>\n",
       "      <td>0.0</td>\n",
       "      <td>0.0</td>\n",
       "      <td>0.0</td>\n",
       "    </tr>\n",
       "    <tr>\n",
       "      <th>2389185</th>\n",
       "      <td>2008</td>\n",
       "      <td>4</td>\n",
       "      <td>17</td>\n",
       "      <td>Thursday</td>\n",
       "      <td>NaN</td>\n",
       "      <td>1238</td>\n",
       "      <td>NaN</td>\n",
       "      <td>1526</td>\n",
       "      <td>DL</td>\n",
       "      <td>1184</td>\n",
       "      <td>...</td>\n",
       "      <td>NaN</td>\n",
       "      <td>NaN</td>\n",
       "      <td>1</td>\n",
       "      <td>A</td>\n",
       "      <td>0</td>\n",
       "      <td>0.0</td>\n",
       "      <td>0.0</td>\n",
       "      <td>0.0</td>\n",
       "      <td>0.0</td>\n",
       "      <td>0.0</td>\n",
       "    </tr>\n",
       "  </tbody>\n",
       "</table>\n",
       "<p>64442 rows × 29 columns</p>\n",
       "</div>"
      ],
      "text/plain": [
       "         year  month  day_of_month day_of_week  actual_dep_time  \\\n",
       "42       2008      1             3    Thursday              NaN   \n",
       "259      2008      1             3    Thursday              NaN   \n",
       "454      2008      1             3    Thursday              NaN   \n",
       "480      2008      1             3    Thursday              NaN   \n",
       "482      2008      1             3    Thursday              NaN   \n",
       "...       ...    ...           ...         ...              ...   \n",
       "2387945  2008      4            16   Wednesday              NaN   \n",
       "2387946  2008      4            16   Wednesday              NaN   \n",
       "2388936  2008      4            17    Thursday              NaN   \n",
       "2389184  2008      4            17    Thursday              NaN   \n",
       "2389185  2008      4            17    Thursday              NaN   \n",
       "\n",
       "         scheduled_dep_time  actual_arr_time  scheduled_arr_time carrier_code  \\\n",
       "42                      800              NaN                 850           WN   \n",
       "259                     700              NaN                 830           WN   \n",
       "454                    1100              NaN                1215           WN   \n",
       "480                     905              NaN                1025           WN   \n",
       "482                    1620              NaN                1740           WN   \n",
       "...                     ...              ...                 ...          ...   \n",
       "2387945                 855              NaN                1012           DL   \n",
       "2387946                1045              NaN                1217           DL   \n",
       "2388936                1240              NaN                1506           DL   \n",
       "2389184                1100              NaN                1152           DL   \n",
       "2389185                1238              NaN                1526           DL   \n",
       "\n",
       "         flight_number  ... taxi_in_time  taxi_out_time  cancelled  \\\n",
       "42                 609  ...          NaN            NaN          1   \n",
       "259                126  ...          NaN            NaN          1   \n",
       "454               1146  ...          NaN            NaN          1   \n",
       "480                469  ...          NaN            NaN          1   \n",
       "482                618  ...          NaN            NaN          1   \n",
       "...                ...  ...          ...            ...        ...   \n",
       "2387945           1214  ...          NaN            NaN          1   \n",
       "2387946           1215  ...          NaN            NaN          1   \n",
       "2388936            916  ...          NaN            NaN          1   \n",
       "2389184           1183  ...          NaN            NaN          1   \n",
       "2389185           1184  ...          NaN            NaN          1   \n",
       "\n",
       "         cancellation_code  diverted  carrier_delay weather_delay nas_delay  \\\n",
       "42                       A         0            0.0           0.0       0.0   \n",
       "259                      A         0            0.0           0.0       0.0   \n",
       "454                      A         0            0.0           0.0       0.0   \n",
       "480                      A         0            0.0           0.0       0.0   \n",
       "482                      C         0            0.0           0.0       0.0   \n",
       "...                    ...       ...            ...           ...       ...   \n",
       "2387945                  A         0            0.0           0.0       0.0   \n",
       "2387946                  A         0            0.0           0.0       0.0   \n",
       "2388936                  A         0            0.0           0.0       0.0   \n",
       "2389184                  A         0            0.0           0.0       0.0   \n",
       "2389185                  A         0            0.0           0.0       0.0   \n",
       "\n",
       "         security_delay  late_aircraft_delay  \n",
       "42                  0.0                  0.0  \n",
       "259                 0.0                  0.0  \n",
       "454                 0.0                  0.0  \n",
       "480                 0.0                  0.0  \n",
       "482                 0.0                  0.0  \n",
       "...                 ...                  ...  \n",
       "2387945             0.0                  0.0  \n",
       "2387946             0.0                  0.0  \n",
       "2388936             0.0                  0.0  \n",
       "2389184             0.0                  0.0  \n",
       "2389185             0.0                  0.0  \n",
       "\n",
       "[64442 rows x 29 columns]"
      ]
     },
     "execution_count": 177,
     "metadata": {},
     "output_type": "execute_result"
    }
   ],
   "source": [
    "# see how many records have no cancellations and have NaN values for actual_dep_time and actual_arr_time\n",
    "flights.loc[(flights['actual_dep_time'].isnull())&\n",
    "            (flights['actual_arr_time'].isnull())&\n",
    "            (flights['carrier_delay']==0)&\n",
    "            (flights['weather_delay']==0)&\n",
    "            (flights['nas_delay']==0)&\n",
    "            (flights['security_delay']==0)&\n",
    "            (flights['late_aircraft_delay']==0)]"
   ]
  },
  {
   "cell_type": "markdown",
   "metadata": {},
   "source": [
    "The number of rows matches the dataframe above. Therefore, we can replace all NaNs with the scheduled times."
   ]
  },
  {
   "cell_type": "code",
   "execution_count": 178,
   "metadata": {},
   "outputs": [],
   "source": [
    "# If actual_dep_time is NaN and there are no delays, set time as scheduled_dep_time\n",
    "flights['actual_dep_time'] = np.where(flights['actual_dep_time'].isnull(),flights['scheduled_dep_time'],flights['actual_dep_time'])"
   ]
  },
  {
   "cell_type": "code",
   "execution_count": 179,
   "metadata": {},
   "outputs": [],
   "source": [
    "# If actual_arr_time is NaN and there are no delays, set time as scheduled_arr_time\n",
    "flights['actual_arr_time'] = np.where(flights['actual_arr_time'].isnull(),flights['scheduled_arr_time'],flights['actual_arr_time'])"
   ]
  },
  {
   "cell_type": "code",
   "execution_count": 180,
   "metadata": {},
   "outputs": [
    {
     "data": {
      "text/plain": [
       "1138140       1.0\n",
       "2322557       1.0\n",
       "1452245       1.0\n",
       "278564        1.0\n",
       "567676        1.0\n",
       "            ...  \n",
       "2045153    2400.0\n",
       "2070514    2400.0\n",
       "1436096    2400.0\n",
       "2078065    2400.0\n",
       "404687     2400.0\n",
       "Name: actual_dep_time, Length: 2389217, dtype: float64"
      ]
     },
     "execution_count": 180,
     "metadata": {},
     "output_type": "execute_result"
    }
   ],
   "source": [
    "flights.actual_dep_time.sort_values()"
   ]
  },
  {
   "cell_type": "code",
   "execution_count": 181,
   "metadata": {
    "scrolled": true
   },
   "outputs": [
    {
     "data": {
      "text/plain": [
       "1112424       1.0\n",
       "348140        1.0\n",
       "1699401       1.0\n",
       "366630        1.0\n",
       "833892        1.0\n",
       "            ...  \n",
       "1272867    2400.0\n",
       "475871     2400.0\n",
       "896879     2400.0\n",
       "2129760    2400.0\n",
       "1053237    2400.0\n",
       "Name: actual_arr_time, Length: 2389217, dtype: float64"
      ]
     },
     "execution_count": 181,
     "metadata": {},
     "output_type": "execute_result"
    }
   ],
   "source": [
    "flights.actual_arr_time.sort_values()"
   ]
  },
  {
   "cell_type": "markdown",
   "metadata": {},
   "source": [
    "There are now no more NaN values, there are some times that have been recorded as 2400.0 however, these will be converted to 0000.0 later, an acceptable time format."
   ]
  },
  {
   "cell_type": "code",
   "execution_count": 182,
   "metadata": {},
   "outputs": [
    {
     "name": "stdout",
     "output_type": "stream",
     "text": [
      "actual_dep_time, 0 still need converting.\n",
      "scheduled_dep_time, 0 still need converting.\n",
      "actual_arr_time, 0 still need converting.\n",
      "scheduled_arr_time, 0 still need converting.\n"
     ]
    }
   ],
   "source": [
    "\n",
    "# convert actual_dep_time, scheduled_dep_time, actual_arr_time, scheduled_arr_time to a more readable format HH:MM\n",
    "# Columns to convert\n",
    "convert_col = ['actual_dep_time','scheduled_dep_time','actual_arr_time','scheduled_arr_time']\n",
    "\n",
    "for column in convert_col:\n",
    "        #Convert to string\n",
    "        flights[column] = flights[column].astype(str)\n",
    "        \n",
    "        # remove .0 if present\n",
    "        flights[column] = flights[column].str.replace('\\.0','')\n",
    "        \n",
    "        # pad string so it is 4 digits \n",
    "        flights[column] = flights[column].str.zfill(4)\n",
    "        \n",
    "        # Convert to format HH:MM\n",
    "        flights[column] = flights[column].apply(lambda x:\"{}:{}\".format(x[:2],x[2:]))\n",
    "        \n",
    "        # replace 24:00 with 00:00\n",
    "        flights[column].replace({'24:00':'00:00'}, inplace=True)\n",
    "        \n",
    "        # check if any times are still 24:00 instead of 00:00\n",
    "        print(column+', ' + str(flights[flights[column]=='24:00'].shape[0])+' still need converting.')"
   ]
  },
  {
   "cell_type": "code",
   "execution_count": 183,
   "metadata": {},
   "outputs": [
    {
     "data": {
      "text/plain": [
       "811542     00:00\n",
       "2130853    00:00\n",
       "1319562    00:00\n",
       "148975     00:00\n",
       "2049045    00:00\n",
       "           ...  \n",
       "316473     23:59\n",
       "2009211    23:59\n",
       "2158519    23:59\n",
       "1325250    23:59\n",
       "1468775    23:59\n",
       "Name: actual_dep_time, Length: 2389217, dtype: object"
      ]
     },
     "execution_count": 183,
     "metadata": {},
     "output_type": "execute_result"
    }
   ],
   "source": [
    "flights['actual_dep_time'].sort_values()"
   ]
  },
  {
   "cell_type": "code",
   "execution_count": null,
   "metadata": {},
   "outputs": [],
   "source": [
    "stop"
   ]
  },
  {
   "cell_type": "code",
   "execution_count": 134,
   "metadata": {},
   "outputs": [
    {
     "name": "stdout",
     "output_type": "stream",
     "text": [
      "actual_dep_time, 0 still need converting.\n",
      "scheduled_dep_time, 0 still need converting.\n",
      "actual_arr_time, 0 still need converting.\n",
      "scheduled_arr_time, 0 still need converting.\n"
     ]
    }
   ],
   "source": [
    "Works but adds default times to our time\n",
    "# convert actual_dep_time, scheduled_dep_time, actual_arr_time, scheduled_arr_time to a more readable format HH:MM\n",
    "# Columns to convert\n",
    "convert_col = ['actual_dep_time','scheduled_dep_time','actual_arr_time','scheduled_arr_time']\n",
    "\n",
    "for column in convert_col:\n",
    "        #Convert to string\n",
    "        flights[column] = flights[column].astype(str)\n",
    "        \n",
    "        # remove .0 if present\n",
    "        flights[column] = flights[column].str.replace('\\.0','')\n",
    "        \n",
    "        # pad string so it is 4 digits \n",
    "        flights[column] = flights[column].str.zfill(4)\n",
    "        \n",
    "        # Convert to format HH:MM\n",
    "        flights[column] = flights[column].apply(lambda x:\"{}:{}\".format(x[:2],x[2:]))\n",
    "        \n",
    "        # replace 24:00 with 00:00\n",
    "        flights[column].replace({'24:00':'00:00'}, inplace=True)\n",
    "        \n",
    "        # check if any times are still 24:00 instead of 00:00\n",
    "        print(column+', ' + str(flights[flights[column]=='24:00'].shape[0])+' still need converting.')\n",
    "        \n",
    "        #change to timedelta\n",
    "        flights[column] = pd.to_datetime(flights[column],format='%H:%M')"
   ]
  },
  {
   "cell_type": "code",
   "execution_count": 138,
   "metadata": {},
   "outputs": [],
   "source": [
    "flights['actual_dep_time'] = flights['actual_dep_time'].dt.strftime('%H:%M')"
   ]
  },
  {
   "cell_type": "code",
   "execution_count": 137,
   "metadata": {},
   "outputs": [
    {
     "ename": "AttributeError",
     "evalue": "module 'datetime' has no attribute 'strptime'",
     "output_type": "error",
     "traceback": [
      "\u001b[0;31m---------------------------------------------------------------------------\u001b[0m",
      "\u001b[0;31mAttributeError\u001b[0m                            Traceback (most recent call last)",
      "\u001b[0;32m<ipython-input-137-673ba157b304>\u001b[0m in \u001b[0;36m<module>\u001b[0;34m\u001b[0m\n\u001b[0;32m----> 1\u001b[0;31m \u001b[0mflights\u001b[0m\u001b[0;34m[\u001b[0m\u001b[0;34m'actual_dep_time'\u001b[0m\u001b[0;34m]\u001b[0m \u001b[0;34m=\u001b[0m \u001b[0mdatetime\u001b[0m\u001b[0;34m.\u001b[0m\u001b[0mstrptime\u001b[0m\u001b[0;34m(\u001b[0m\u001b[0mflights\u001b[0m\u001b[0;34m[\u001b[0m\u001b[0;34m'actual_dep_time'\u001b[0m\u001b[0;34m]\u001b[0m\u001b[0;34m,\u001b[0m \u001b[0mformat\u001b[0m\u001b[0;34m[\u001b[0m\u001b[0;36m10\u001b[0m\u001b[0;34m:\u001b[0m\u001b[0;36m15\u001b[0m\u001b[0;34m]\u001b[0m\u001b[0;34m)\u001b[0m\u001b[0;34m\u001b[0m\u001b[0;34m\u001b[0m\u001b[0m\n\u001b[0m",
      "\u001b[0;31mAttributeError\u001b[0m: module 'datetime' has no attribute 'strptime'"
     ]
    }
   ],
   "source": [
    "flights['actual_dep_time'] = datetime.strptime(flights['actual_dep_time'], format[10:15])"
   ]
  },
  {
   "cell_type": "code",
   "execution_count": 139,
   "metadata": {},
   "outputs": [
    {
     "data": {
      "text/plain": [
       "811542     00:00\n",
       "2130853    00:00\n",
       "1319562    00:00\n",
       "148975     00:00\n",
       "2049045    00:00\n",
       "           ...  \n",
       "316473     23:59\n",
       "2009211    23:59\n",
       "2158519    23:59\n",
       "1325250    23:59\n",
       "1468775    23:59\n",
       "Name: actual_dep_time, Length: 2389217, dtype: object"
      ]
     },
     "execution_count": 139,
     "metadata": {},
     "output_type": "execute_result"
    }
   ],
   "source": [
    "flights['actual_dep_time'].sort_values()"
   ]
  },
  {
   "cell_type": "code",
   "execution_count": 111,
   "metadata": {},
   "outputs": [
    {
     "name": "stdout",
     "output_type": "stream",
     "text": [
      "actual_dep_time, 0 still need converting.\n",
      "scheduled_dep_time, 0 still need converting.\n",
      "actual_arr_time, 0 still need converting.\n",
      "scheduled_arr_time, 0 still need converting.\n"
     ]
    }
   ],
   "source": [
    "WORKING CODE - but adds 0 days\n",
    "# convert actual_dep_time, scheduled_dep_time, actual_arr_time, scheduled_arr_time to a more readable format HH:MM\n",
    "# Columns to convert\n",
    "convert_col = ['actual_dep_time','scheduled_dep_time','actual_arr_time','scheduled_arr_time']\n",
    "\n",
    "for column in convert_col:\n",
    "        #Convert to string\n",
    "        flights[column] = flights[column].astype(str)\n",
    "        \n",
    "        # remove .0 if present\n",
    "        flights[column] = flights[column].str.replace('\\.0','')\n",
    "        \n",
    "        # pad string so it is 4 digits \n",
    "        flights[column] = flights[column].str.zfill(4)\n",
    "        \n",
    "        # Convert to format HH:MM\n",
    "        flights[column] = flights[column].apply(lambda x:\"{}:{}:00\".format(x[:2],x[2:]))\n",
    "        \n",
    "        # replace 24:00 with 00:00\n",
    "        flights[column].replace({'24:00:00':'00:00:00'}, inplace=True)\n",
    "        \n",
    "        # check if any times are still 24:00:00 instead of 00:00:00\n",
    "        print(column+', ' + str(flights[flights[column]=='24:00:00'].shape[0])+' still need converting.')\n",
    "        \n",
    "        #change to timedelta\n",
    "        flights[column] = pd.to_timedelta(flights[column],unit='h')"
   ]
  },
  {
   "cell_type": "code",
   "execution_count": 112,
   "metadata": {
    "scrolled": true
   },
   "outputs": [
    {
     "data": {
      "text/plain": [
       "811542    0 days 00:00:00\n",
       "2130853   0 days 00:00:00\n",
       "1319562   0 days 00:00:00\n",
       "148975    0 days 00:00:00\n",
       "2049045   0 days 00:00:00\n",
       "                ...      \n",
       "316473    0 days 23:59:00\n",
       "2009211   0 days 23:59:00\n",
       "2158519   0 days 23:59:00\n",
       "1325250   0 days 23:59:00\n",
       "1468775   0 days 23:59:00\n",
       "Name: actual_dep_time, Length: 2389217, dtype: timedelta64[ns]"
      ]
     },
     "execution_count": 112,
     "metadata": {},
     "output_type": "execute_result"
    }
   ],
   "source": [
    "flights['actual_dep_time'].sort_values()"
   ]
  },
  {
   "cell_type": "code",
   "execution_count": 184,
   "metadata": {
    "scrolled": false
   },
   "outputs": [
    {
     "data": {
      "text/html": [
       "<div>\n",
       "<style scoped>\n",
       "    .dataframe tbody tr th:only-of-type {\n",
       "        vertical-align: middle;\n",
       "    }\n",
       "\n",
       "    .dataframe tbody tr th {\n",
       "        vertical-align: top;\n",
       "    }\n",
       "\n",
       "    .dataframe thead th {\n",
       "        text-align: right;\n",
       "    }\n",
       "</style>\n",
       "<table border=\"1\" class=\"dataframe\">\n",
       "  <thead>\n",
       "    <tr style=\"text-align: right;\">\n",
       "      <th></th>\n",
       "      <th>year</th>\n",
       "      <th>month</th>\n",
       "      <th>day_of_month</th>\n",
       "      <th>day_of_week</th>\n",
       "      <th>actual_dep_time</th>\n",
       "      <th>scheduled_dep_time</th>\n",
       "      <th>actual_arr_time</th>\n",
       "      <th>scheduled_arr_time</th>\n",
       "      <th>carrier_code</th>\n",
       "      <th>flight_number</th>\n",
       "      <th>...</th>\n",
       "      <th>taxi_in_time</th>\n",
       "      <th>taxi_out_time</th>\n",
       "      <th>cancelled</th>\n",
       "      <th>cancellation_code</th>\n",
       "      <th>diverted</th>\n",
       "      <th>carrier_delay</th>\n",
       "      <th>weather_delay</th>\n",
       "      <th>nas_delay</th>\n",
       "      <th>security_delay</th>\n",
       "      <th>late_aircraft_delay</th>\n",
       "    </tr>\n",
       "  </thead>\n",
       "  <tbody>\n",
       "    <tr>\n",
       "      <th>0</th>\n",
       "      <td>2008</td>\n",
       "      <td>1</td>\n",
       "      <td>3</td>\n",
       "      <td>Thursday</td>\n",
       "      <td>13:43</td>\n",
       "      <td>13:25</td>\n",
       "      <td>14:51</td>\n",
       "      <td>14:35</td>\n",
       "      <td>WN</td>\n",
       "      <td>588</td>\n",
       "      <td>...</td>\n",
       "      <td>4.0</td>\n",
       "      <td>9.0</td>\n",
       "      <td>0</td>\n",
       "      <td>NaN</td>\n",
       "      <td>0</td>\n",
       "      <td>16.0</td>\n",
       "      <td>0.0</td>\n",
       "      <td>0.0</td>\n",
       "      <td>0.0</td>\n",
       "      <td>0.0</td>\n",
       "    </tr>\n",
       "    <tr>\n",
       "      <th>1</th>\n",
       "      <td>2008</td>\n",
       "      <td>1</td>\n",
       "      <td>3</td>\n",
       "      <td>Thursday</td>\n",
       "      <td>11:25</td>\n",
       "      <td>11:20</td>\n",
       "      <td>12:47</td>\n",
       "      <td>12:45</td>\n",
       "      <td>WN</td>\n",
       "      <td>1343</td>\n",
       "      <td>...</td>\n",
       "      <td>3.0</td>\n",
       "      <td>8.0</td>\n",
       "      <td>0</td>\n",
       "      <td>NaN</td>\n",
       "      <td>0</td>\n",
       "      <td>0.0</td>\n",
       "      <td>0.0</td>\n",
       "      <td>0.0</td>\n",
       "      <td>0.0</td>\n",
       "      <td>0.0</td>\n",
       "    </tr>\n",
       "    <tr>\n",
       "      <th>2</th>\n",
       "      <td>2008</td>\n",
       "      <td>1</td>\n",
       "      <td>3</td>\n",
       "      <td>Thursday</td>\n",
       "      <td>20:09</td>\n",
       "      <td>20:15</td>\n",
       "      <td>21:36</td>\n",
       "      <td>21:40</td>\n",
       "      <td>WN</td>\n",
       "      <td>3841</td>\n",
       "      <td>...</td>\n",
       "      <td>2.0</td>\n",
       "      <td>14.0</td>\n",
       "      <td>0</td>\n",
       "      <td>NaN</td>\n",
       "      <td>0</td>\n",
       "      <td>0.0</td>\n",
       "      <td>0.0</td>\n",
       "      <td>0.0</td>\n",
       "      <td>0.0</td>\n",
       "      <td>0.0</td>\n",
       "    </tr>\n",
       "    <tr>\n",
       "      <th>3</th>\n",
       "      <td>2008</td>\n",
       "      <td>1</td>\n",
       "      <td>3</td>\n",
       "      <td>Thursday</td>\n",
       "      <td>09:03</td>\n",
       "      <td>08:55</td>\n",
       "      <td>12:03</td>\n",
       "      <td>12:05</td>\n",
       "      <td>WN</td>\n",
       "      <td>3</td>\n",
       "      <td>...</td>\n",
       "      <td>5.0</td>\n",
       "      <td>7.0</td>\n",
       "      <td>0</td>\n",
       "      <td>NaN</td>\n",
       "      <td>0</td>\n",
       "      <td>0.0</td>\n",
       "      <td>0.0</td>\n",
       "      <td>0.0</td>\n",
       "      <td>0.0</td>\n",
       "      <td>0.0</td>\n",
       "    </tr>\n",
       "    <tr>\n",
       "      <th>4</th>\n",
       "      <td>2008</td>\n",
       "      <td>1</td>\n",
       "      <td>3</td>\n",
       "      <td>Thursday</td>\n",
       "      <td>14:23</td>\n",
       "      <td>14:00</td>\n",
       "      <td>17:26</td>\n",
       "      <td>17:10</td>\n",
       "      <td>WN</td>\n",
       "      <td>25</td>\n",
       "      <td>...</td>\n",
       "      <td>6.0</td>\n",
       "      <td>10.0</td>\n",
       "      <td>0</td>\n",
       "      <td>NaN</td>\n",
       "      <td>0</td>\n",
       "      <td>16.0</td>\n",
       "      <td>0.0</td>\n",
       "      <td>0.0</td>\n",
       "      <td>0.0</td>\n",
       "      <td>0.0</td>\n",
       "    </tr>\n",
       "  </tbody>\n",
       "</table>\n",
       "<p>5 rows × 29 columns</p>\n",
       "</div>"
      ],
      "text/plain": [
       "   year  month  day_of_month day_of_week actual_dep_time scheduled_dep_time  \\\n",
       "0  2008      1             3    Thursday           13:43              13:25   \n",
       "1  2008      1             3    Thursday           11:25              11:20   \n",
       "2  2008      1             3    Thursday           20:09              20:15   \n",
       "3  2008      1             3    Thursday           09:03              08:55   \n",
       "4  2008      1             3    Thursday           14:23              14:00   \n",
       "\n",
       "  actual_arr_time scheduled_arr_time carrier_code  flight_number  ...  \\\n",
       "0           14:51              14:35           WN            588  ...   \n",
       "1           12:47              12:45           WN           1343  ...   \n",
       "2           21:36              21:40           WN           3841  ...   \n",
       "3           12:03              12:05           WN              3  ...   \n",
       "4           17:26              17:10           WN             25  ...   \n",
       "\n",
       "  taxi_in_time  taxi_out_time  cancelled  cancellation_code  diverted  \\\n",
       "0          4.0            9.0          0                NaN         0   \n",
       "1          3.0            8.0          0                NaN         0   \n",
       "2          2.0           14.0          0                NaN         0   \n",
       "3          5.0            7.0          0                NaN         0   \n",
       "4          6.0           10.0          0                NaN         0   \n",
       "\n",
       "   carrier_delay weather_delay nas_delay  security_delay  late_aircraft_delay  \n",
       "0           16.0           0.0       0.0             0.0                  0.0  \n",
       "1            0.0           0.0       0.0             0.0                  0.0  \n",
       "2            0.0           0.0       0.0             0.0                  0.0  \n",
       "3            0.0           0.0       0.0             0.0                  0.0  \n",
       "4           16.0           0.0       0.0             0.0                  0.0  \n",
       "\n",
       "[5 rows x 29 columns]"
      ]
     },
     "execution_count": 184,
     "metadata": {},
     "output_type": "execute_result"
    }
   ],
   "source": [
    "flights.head()"
   ]
  },
  {
   "cell_type": "code",
   "execution_count": 186,
   "metadata": {},
   "outputs": [
    {
     "name": "stdout",
     "output_type": "stream",
     "text": [
      "<class 'pandas.core.frame.DataFrame'>\n",
      "RangeIndex: 2389217 entries, 0 to 2389216\n",
      "Data columns (total 29 columns):\n",
      " #   Column                  Non-Null Count    Dtype   \n",
      "---  ------                  --------------    -----   \n",
      " 0   year                    2389217 non-null  int64   \n",
      " 1   month                   2389217 non-null  int64   \n",
      " 2   day_of_month            2389217 non-null  int64   \n",
      " 3   day_of_week             2389217 non-null  category\n",
      " 4   actual_dep_time         2389217 non-null  object  \n",
      " 5   scheduled_dep_time      2389217 non-null  object  \n",
      " 6   actual_arr_time         2389217 non-null  object  \n",
      " 7   scheduled_arr_time      2389217 non-null  object  \n",
      " 8   carrier_code            2389217 non-null  object  \n",
      " 9   flight_number           2389217 non-null  int64   \n",
      " 10  tail_number             2346765 non-null  object  \n",
      " 11  actual_elapsed_time     2319121 non-null  float64 \n",
      " 12  scheduled_elapsed_time  2388810 non-null  float64 \n",
      " 13  air_time                2319121 non-null  float64 \n",
      " 14  arr_delay               2319121 non-null  float64 \n",
      " 15  dep_delay               2324775 non-null  float64 \n",
      " 16  origin                  2389217 non-null  object  \n",
      " 17  destination             2389217 non-null  object  \n",
      " 18  distance                2389217 non-null  int64   \n",
      " 19  taxi_in_time            2319121 non-null  float64 \n",
      " 20  taxi_out_time           2324775 non-null  float64 \n",
      " 21  cancelled               2389217 non-null  int64   \n",
      " 22  cancellation_code       64442 non-null    object  \n",
      " 23  diverted                2389217 non-null  int64   \n",
      " 24  carrier_delay           2389217 non-null  float64 \n",
      " 25  weather_delay           2389217 non-null  float64 \n",
      " 26  nas_delay               2389217 non-null  float64 \n",
      " 27  security_delay          2389217 non-null  float64 \n",
      " 28  late_aircraft_delay     2389217 non-null  float64 \n",
      "dtypes: category(1), float64(12), int64(7), object(9)\n",
      "memory usage: 512.7+ MB\n"
     ]
    }
   ],
   "source": [
    "flights.info(verbose=True, null_counts=True)"
   ]
  },
  {
   "cell_type": "markdown",
   "metadata": {},
   "source": [
    "Some attempts below\n"
   ]
  },
  {
   "cell_type": "markdown",
   "metadata": {},
   "source": [
    "**Need to convert above to HH:MM.**"
   ]
  },
  {
   "cell_type": "markdown",
   "metadata": {},
   "source": [
    "## update notes\n",
    "**Need to update variable names in description of variables.**\n",
    "- merge airport locations?\n",
    "- update string to time in HH:MM for columns with time\n",
    "- "
   ]
  },
  {
   "cell_type": "code",
   "execution_count": null,
   "metadata": {},
   "outputs": [],
   "source": [
    "flights.describe()"
   ]
  },
  {
   "cell_type": "markdown",
   "metadata": {},
   "source": [
    "save dataset as new csv.."
   ]
  },
  {
   "cell_type": "code",
   "execution_count": null,
   "metadata": {},
   "outputs": [],
   "source": [
    "copy dataset before analysis"
   ]
  },
  {
   "cell_type": "code",
   "execution_count": null,
   "metadata": {
    "scrolled": true
   },
   "outputs": [],
   "source": [
    "flights.info()"
   ]
  },
  {
   "cell_type": "markdown",
   "metadata": {},
   "source": [
    "### What is the structure of your dataset?\n",
    "\n",
    "This flight dataset contains 2,389,217 rows of data with 29 different variables that have been recorded.\n",
    "\n",
    "### What is/are the main feature(s) of interest in your dataset?\n",
    "\n",
    "I'm most interested in examining which variables are best for predicting airline on-time performance. \n",
    "\n",
    "### What features in the dataset do you think will help support your investigation into your feature(s) of interest?\n",
    "\n",
    "The features that will help support my investigation will be time variables as well as reasons for the delays, cancellations and diversions."
   ]
  },
  {
   "cell_type": "markdown",
   "metadata": {},
   "source": [
    "## Univariate Exploration\n",
    "\n",
    "> In this section, investigate distributions of individual variables. If\n",
    "you see unusual points or outliers, take a deeper look to clean things up\n",
    "and prepare yourself to look at relationships between variables."
   ]
  },
  {
   "cell_type": "markdown",
   "metadata": {},
   "source": [
    "ideas:\n",
    "- carrier code distribution\n",
    "- arr delay\n",
    "- dep delay\n",
    "- origin\n",
    "- destination\n",
    "    "
   ]
  },
  {
   "cell_type": "code",
   "execution_count": 187,
   "metadata": {},
   "outputs": [
    {
     "data": {
      "text/plain": [
       "2324775"
      ]
     },
     "execution_count": 187,
     "metadata": {},
     "output_type": "execute_result"
    }
   ],
   "source": [
    "(flights.cancelled==0).sum()"
   ]
  },
  {
   "cell_type": "markdown",
   "metadata": {},
   "source": [
    "### Comparing the number of flights vs flights cancelled"
   ]
  },
  {
   "cell_type": "code",
   "execution_count": 188,
   "metadata": {},
   "outputs": [
    {
     "data": {
      "image/png": "[encoded data removed]",
      "text/plain": [
       "<Figure size 576x432 with 1 Axes>"
      ]
     },
     "metadata": {
      "needs_background": "light"
     },
     "output_type": "display_data"
    }
   ],
   "source": [
    "# Cancelled flights\n",
    "plt.figure(figsize=(8,6))\n",
    "\n",
    "# Plot barchart\n",
    "sns.countplot(data=flights,x='cancelled', color='green')\n",
    "\n",
    "# labels\n",
    "ticks = np.arange(0,25e5+25e4,25e4)\n",
    "plt.yticks(ticks,['0','250K','500K','750K','1M','1.25M','1.5M','1.75M','2M','2.25M','2.5M'])\n",
    "plt.ylabel('Frequency')\n",
    "plt.xlabel('Cancelled')\n",
    "plt.title('Flights cancelled');"
   ]
  },
  {
   "cell_type": "markdown",
   "metadata": {},
   "source": [
    "Only a small proportion of flights are cancelled as shown in the bar chart above, 0 represents flights not cancelled whilst 1 represents flights cancelled. It would be interesting to see the distribution of flights throughout the week."
   ]
  },
  {
   "cell_type": "markdown",
   "metadata": {},
   "source": [
    "### Examining the distribution of flights grouped by day of the week"
   ]
  },
  {
   "cell_type": "code",
   "execution_count": 191,
   "metadata": {},
   "outputs": [
    {
     "data": {
      "image/png": "[encoded data removed]",
      "text/plain": [
       "<Figure size 576x360 with 1 Axes>"
      ]
     },
     "metadata": {
      "needs_background": "light"
     },
     "output_type": "display_data"
    }
   ],
   "source": [
    "# Plot graph\n",
    "plt.figure(figsize=(8,5))\n",
    "base_colour = sns.color_palette()[0]\n",
    "sns.countplot(data=flights,x='day_of_week',color=base_colour)\n",
    "\n",
    "# Labels\n",
    "tick_locs = np.arange(275000,flights['day_of_week'].value_counts().values.max()+25000,25000)\n",
    "plt.xticks(rotation=90)\n",
    "plt.yticks(tick_locs) # set y ticks\n",
    "plt.ylim([275e3,38e4]) # set y axis limits\n",
    "plt.xlabel('Day of the week')\n",
    "plt.ylabel('Frequency')\n",
    "plt.title('Number of flights by day of the week');"
   ]
  },
  {
   "cell_type": "markdown",
   "metadata": {},
   "source": [
    "The bar graph above shows that the frequency of flights differs depending on the day of the week. Weekends have the fewest number of flights whilst wednesdays have the most. I will later be examining whether the day of the week affects the proportion of delayed/diverted/cancelled flights when performing a bivariate analysis."
   ]
  },
  {
   "cell_type": "markdown",
   "metadata": {},
   "source": [
    "### Compare the distribution of cancellation codes."
   ]
  },
  {
   "cell_type": "code",
   "execution_count": 192,
   "metadata": {},
   "outputs": [
    {
     "data": {
      "image/png": "[encoded data removed]",
      "text/plain": [
       "<Figure size 576x432 with 1 Axes>"
      ]
     },
     "metadata": {
      "needs_background": "light"
     },
     "output_type": "display_data"
    }
   ],
   "source": [
    "# Cancellation code count\n",
    "\n",
    "# Plot graph\n",
    "plt.figure(figsize=(8,6))\n",
    "code_order = ['A','B','C','D']\n",
    "sns.countplot(data=flights,x='cancellation_code',order=code_order,color='brown')\n",
    "\n",
    "# tick locations\n",
    "tick_locs = np.arange(0,275e2+25e2,25e2)\n",
    "plt.yticks(tick_locs)\n",
    "\n",
    "# Labels\n",
    "plt.xlabel('Cancellation Code')\n",
    "plt.ylabel('Frequency')\n",
    "plt.title('Frequency of cancellation codes');"
   ]
  },
  {
   "cell_type": "code",
   "execution_count": 193,
   "metadata": {},
   "outputs": [
    {
     "data": {
      "text/plain": [
       "A    26075\n",
       "B    25744\n",
       "C    12617\n",
       "D        6\n",
       "Name: cancellation_code, dtype: int64"
      ]
     },
     "execution_count": 193,
     "metadata": {},
     "output_type": "execute_result"
    }
   ],
   "source": [
    "# Frequency values for each cancellation code\n",
    "flights.cancellation_code.value_counts()"
   ]
  },
  {
   "cell_type": "markdown",
   "metadata": {},
   "source": [
    "The graph above shows that the most common cancellation code is A (Carrier) followed closely by B (weather). C (NAS), is much less frequent, approximately half as frequent as A and B. D was the least common, there were only 6 instances where a flight was cancelled due to security issues. "
   ]
  },
  {
   "cell_type": "markdown",
   "metadata": {},
   "source": [
    "### Comparing flight distances"
   ]
  },
  {
   "cell_type": "code",
   "execution_count": 194,
   "metadata": {},
   "outputs": [
    {
     "data": {
      "text/plain": [
       "count    2.389217e+06\n",
       "mean     7.261589e+02\n",
       "std      5.571763e+02\n",
       "min      1.700000e+01\n",
       "25%      3.250000e+02\n",
       "50%      5.830000e+02\n",
       "75%      9.570000e+02\n",
       "max      4.962000e+03\n",
       "Name: distance, dtype: float64"
      ]
     },
     "execution_count": 194,
     "metadata": {},
     "output_type": "execute_result"
    }
   ],
   "source": [
    "# Find the min and max flight distances\n",
    "flights.distance.describe()"
   ]
  },
  {
   "cell_type": "code",
   "execution_count": 195,
   "metadata": {},
   "outputs": [
    {
     "data": {
      "image/png": "[encoded data removed]",
      "text/plain": [
       "<Figure size 576x432 with 1 Axes>"
      ]
     },
     "metadata": {
      "needs_background": "light"
     },
     "output_type": "display_data"
    }
   ],
   "source": [
    "# Flight distances\n",
    "\n",
    "# Select bin size\n",
    "bins = 10 ** np.arange(-1,3.7+0.1,0.1)\n",
    "\n",
    "# Plot graph\n",
    "plt.figure(figsize=(8,6))\n",
    "plt.hist(data=flights,x='distance', bins=bins)\n",
    "\n",
    "# set x axis scale\n",
    "plt.xscale('log')\n",
    "\n",
    "# set x and y axis labels (custom)\n",
    "x_ticks = [10,20,50,100,200,500,1000,2000,5000]\n",
    "x_labels = ['{}'.format(v) for v in x_ticks]\n",
    "y_ticks = np.arange(0,3e5+5e4,5e4)\n",
    "y_labels = ['0','50K','100K','150K','200K','250K','300K']\n",
    "\n",
    "# Labels and title\n",
    "plt.xticks(x_ticks,x_labels)\n",
    "plt.yticks(y_ticks,y_labels)\n",
    "plt.title('Flight distances')\n",
    "plt.ylabel('Frequency')\n",
    "plt.xlabel('Distance (miles)')\n",
    "plt.xlim(5,5000);"
   ]
  },
  {
   "cell_type": "markdown",
   "metadata": {},
   "source": [
    "The graph above shows that the most common flights were between 500-1000 miles. Some flights were up to 5,000 miles whilst others were less than 50 miles. Therefore, there is a large variation in flight distances. It would be useful to see whether flight distance affects whether a flight gets cancelled in bivariate analysis."
   ]
  },
  {
   "cell_type": "markdown",
   "metadata": {},
   "source": [
    "### Comparing flight airtimes"
   ]
  },
  {
   "cell_type": "code",
   "execution_count": 196,
   "metadata": {},
   "outputs": [
    {
     "data": {
      "image/png": "[encoded data removed]",
      "text/plain": [
       "<Figure size 576x432 with 1 Axes>"
      ]
     },
     "metadata": {
      "needs_background": "light"
     },
     "output_type": "display_data"
    }
   ],
   "source": [
    "# Flight airtimes\n",
    "\n",
    "# Select bin size\n",
    "bins = 10 ** np.arange(-1,3+0.05,0.05)\n",
    "\n",
    "# Plot graph\n",
    "plt.figure(figsize=(8,6))\n",
    "plt.hist(data=flights,x='air_time',bins=bins)\n",
    "\n",
    "# set x axis scale\n",
    "plt.xscale('log')\n",
    "\n",
    "# set axis labels (custom)\n",
    "x_ticks = [10,20,50,100,200,500,1000]\n",
    "x_labels = ['{}'.format(v) for v in x_ticks]\n",
    "\n",
    "y_ticks = np.arange(0,18e4+2e4,2e4)\n",
    "y_labels = ['0','20K','40K','60K','80K','100K','120K','140K','160K','180K']\n",
    "\n",
    "# Labels and title\n",
    "plt.xticks(x_ticks,x_labels)\n",
    "plt.yticks(y_ticks,y_labels)\n",
    "plt.title('Flight Airtime')\n",
    "plt.ylabel('Frequency')\n",
    "plt.xlabel('Airtime (minutes)')\n",
    "plt.xlim(5,1000);"
   ]
  },
  {
   "cell_type": "markdown",
   "metadata": {},
   "source": [
    "The airtime for most flights was around 100mins. The distribution of flight times appears normally distributed when taking the log values of airtime."
   ]
  },
  {
   "cell_type": "markdown",
   "metadata": {},
   "source": [
    "### What are the top 15 airport origins and destinations?"
   ]
  },
  {
   "cell_type": "code",
   "execution_count": 259,
   "metadata": {},
   "outputs": [],
   "source": [
    "# data setup:\n",
    "origin_freq = flights.origin.value_counts() # top airport origins\n",
    "dest_freq = flights.destination.value_counts() # top airport destinations\n",
    "thres = 15 # set threshold\n",
    "\n",
    "# set order\n",
    "origin_order = origin_freq.index[:thres]\n",
    "dest_order = dest_freq.index[:thres]\n",
    "\n",
    "# create subset dataframes\n",
    "origin_sub = flights.loc[flights['origin'].isin(origin_order)]\n",
    "dest_sub = flights.loc[flights['destination'].isin(dest_order)]"
   ]
  },
  {
   "cell_type": "code",
   "execution_count": 260,
   "metadata": {
    "scrolled": true
   },
   "outputs": [
    {
     "data": {
      "image/png": "[encoded data removed]",
      "text/plain": [
       "<Figure size 1440x360 with 2 Axes>"
      ]
     },
     "metadata": {
      "needs_background": "light"
     },
     "output_type": "display_data"
    }
   ],
   "source": [
    "plt.figure(figsize = [20, 5])\n",
    "base_colour = sns.color_palette()[0]\n",
    "\n",
    "# set y labels\n",
    "tick_locs = np.arange(0,14e4+2e4,2e4)\n",
    "tick_labels = ['0','20K','40K','60K','80K','100K','120K','140K']\n",
    "\n",
    "# plot top origins\n",
    "plt.subplot(1,2,1)\n",
    "sns.countplot(data=origin_sub,x='origin',order=origin_order,color=base_colour)\n",
    "plt.yticks(tick_locs,tick_labels)\n",
    "plt.ylabel('Frequency')\n",
    "plt.xlabel('Origin')\n",
    "plt.title('Top airport origins')\n",
    "\n",
    "# plot top destinations\n",
    "plt.subplot(1,2,2)\n",
    "sns.countplot(data=dest_sub,x='destination',order=dest_order,color=base_colour)\n",
    "plt.yticks(tick_locs,tick_labels)\n",
    "plt.ylabel('Frequency')\n",
    "plt.xlabel('Destination')\n",
    "plt.title('Top airport destinations');"
   ]
  },
  {
   "cell_type": "markdown",
   "metadata": {},
   "source": [
    "The top 15 airport origins and destinations are the same as expected. This makes sense as a plane landing at an airport should then make a flight with passengers to another airport as it would be efficient to do so."
   ]
  },
  {
   "cell_type": "markdown",
   "metadata": {},
   "source": [
    "Below are the value counts of each of the top 15 origins and destinations. The numbers for the origins and destinations for each airport are very similar."
   ]
  },
  {
   "cell_type": "code",
   "execution_count": 199,
   "metadata": {},
   "outputs": [
    {
     "data": {
      "text/plain": [
       "ATL    137014\n",
       "ORD    118008\n",
       "DFW     93041\n",
       "DEN     78384\n",
       "LAX     73480\n",
       "PHX     69404\n",
       "IAH     62549\n",
       "LAS     59653\n",
       "DTW     56180\n",
       "EWR     48938\n",
       "SLC     48412\n",
       "SFO     45738\n",
       "MSP     45658\n",
       "MCO     45460\n",
       "CLT     41862\n",
       "Name: origin, dtype: int64"
      ]
     },
     "execution_count": 199,
     "metadata": {},
     "output_type": "execute_result"
    }
   ],
   "source": [
    "origin_sub.origin.value_counts()"
   ]
  },
  {
   "cell_type": "code",
   "execution_count": 200,
   "metadata": {},
   "outputs": [
    {
     "data": {
      "text/plain": [
       "ATL    136950\n",
       "ORD    118011\n",
       "DFW     93077\n",
       "DEN     78417\n",
       "LAX     73514\n",
       "PHX     69397\n",
       "IAH     62537\n",
       "LAS     59657\n",
       "DTW     56176\n",
       "EWR     48941\n",
       "SLC     48383\n",
       "SFO     45729\n",
       "MSP     45676\n",
       "MCO     45447\n",
       "CLT     41852\n",
       "Name: destination, dtype: int64"
      ]
     },
     "execution_count": 200,
     "metadata": {},
     "output_type": "execute_result"
    }
   ],
   "source": [
    "dest_sub.destination.value_counts()"
   ]
  },
  {
   "cell_type": "markdown",
   "metadata": {},
   "source": [
    "### Comparing the distribution of arrival and departure delay times"
   ]
  },
  {
   "cell_type": "code",
   "execution_count": 201,
   "metadata": {},
   "outputs": [
    {
     "name": "stdout",
     "output_type": "stream",
     "text": [
      "The minimum departure delay is -92 minutes.\n",
      "The maximum departure delay is 2467 minutes.\n",
      "The minimum arrival delay is -91 minutes.\n",
      "The maximum arrival delay is 2461 minutes.\n"
     ]
    }
   ],
   "source": [
    "print('The minimum departure delay is ' + str(int(flights.dep_delay.min())) + ' minutes.')\n",
    "print('The maximum departure delay is ' + str(int(flights.dep_delay.max())) + ' minutes.')\n",
    "\n",
    "print('The minimum arrival delay is ' + str(int(flights.arr_delay.min())) + ' minutes.')\n",
    "print('The maximum arrival delay is ' + str(int(flights.arr_delay.max())) + ' minutes.')"
   ]
  },
  {
   "cell_type": "markdown",
   "metadata": {},
   "source": [
    "Some flights departed early and some flights arrived early also. Below are two histograms. These show the difference in the scheduled and actual times for departures and arrivals."
   ]
  },
  {
   "cell_type": "code",
   "execution_count": 202,
   "metadata": {},
   "outputs": [
    {
     "data": {
      "image/png": "[encoded data removed]",
      "text/plain": [
       "<Figure size 432x288 with 1 Axes>"
      ]
     },
     "metadata": {
      "needs_background": "light"
     },
     "output_type": "display_data"
    }
   ],
   "source": [
    "# flight departure \n",
    "bins = np.arange(flights.dep_delay.min()-1,flights.dep_delay.max()+1,1)\n",
    "\n",
    "# Plotting flight departure delays\n",
    "plt.xlim(flights.dep_delay.min()-1,flights.dep_delay.max()+1)\n",
    "tick_locs = np.arange(0,180000+20000,20000)\n",
    "plt.yticks(tick_locs)\n",
    "\n",
    "# plot graph\n",
    "plt.hist(data=flights,x='dep_delay',bins=bins);"
   ]
  },
  {
   "cell_type": "code",
   "execution_count": 203,
   "metadata": {},
   "outputs": [
    {
     "data": {
      "image/png": "[encoded data removed]",
      "text/plain": [
       "<Figure size 432x288 with 1 Axes>"
      ]
     },
     "metadata": {
      "needs_background": "light"
     },
     "output_type": "display_data"
    }
   ],
   "source": [
    "# flight arrival delays\n",
    "bins = np.arange(flights.arr_delay.min()-1,flights.arr_delay.max()+1,1)\n",
    "\n",
    "#set limits and axis\n",
    "plt.xlim(flights.arr_delay.min()-1,flights.arr_delay.max()+1)\n",
    "tick_locs = np.arange(0,180000+20000,20000)\n",
    "plt.yticks(tick_locs)\n",
    "\n",
    "# plot graph\n",
    "plt.hist(data=flights,x='arr_delay',bins=bins);"
   ]
  },
  {
   "cell_type": "markdown",
   "metadata": {},
   "source": [
    "Both of the histograms above show that most flights departed or arrived on time. The scales on both histograms however are not the same and there appears to be some outliers causing most of the histogram to not be clearly visible. A further comparison of these will be made with limits set to the x axis and with the same scale for yticks for easier comparison."
   ]
  },
  {
   "cell_type": "code",
   "execution_count": 204,
   "metadata": {
    "scrolled": true
   },
   "outputs": [
    {
     "data": {
      "image/png": "[encoded data removed]",
      "text/plain": [
       "<Figure size 1440x360 with 2 Axes>"
      ]
     },
     "metadata": {
      "needs_background": "light"
     },
     "output_type": "display_data"
    }
   ],
   "source": [
    "# Comparing departure and arrival delay times\n",
    "plt.figure(figsize = [20, 5])\n",
    "\n",
    "bins = np.arange(-100,200+1,1) # Select bin size\n",
    "tick_locs = np.arange(0,18e4+2e4,2e4) # set tick locations\n",
    "tick_labels = [0,'20K','40K','60K','80K','100K','120K','140K','160K','180K']\n",
    "\n",
    "# plot departure delay times\n",
    "plt.subplot(1,2,1)\n",
    "plt.hist(data=flights,x='dep_delay',bins=bins)\n",
    "# set labels and axes\n",
    "plt.yticks(tick_locs,tick_labels)\n",
    "plt.xlim(-100,200+1)\n",
    "plt.ylabel('Frequency')\n",
    "plt.xlabel('Departure Delay (mins)')\n",
    "plt.title('Departure delays')\n",
    "\n",
    "# plot arrival delay times\n",
    "plt.subplot(1,2,2)\n",
    "plt.hist(data=flights,x='arr_delay',bins=bins)\n",
    "# set labels and axes\n",
    "plt.xlim(-100,200+1)\n",
    "plt.yticks(tick_locs,tick_labels)\n",
    "plt.ylabel('Frequency')\n",
    "plt.xlabel('Arrival Delay (mins)')\n",
    "plt.title('Arrival delays');"
   ]
  },
  {
   "cell_type": "markdown",
   "metadata": {},
   "source": [
    "When comparing these two histograms. Both histograms show most flights depart and arrive on time. However, flights are more likely to depart on time whilst fewer arrive on time. This comparison can easily be made as the y axis scale on both histograms are now the same. Flight arrival times are also more likely to vary from the scheduled arrival time. We can see that more flights are likely to arrive early compared to departing early. This is expected as a flight leaving early would likely cause people to miss their flight whilst arriving early is not an issue. Flights may end up taking less time to reach their destination, for example due to good or advantageous weather such as wind in the same direction of travel, pilots flying at a faster speed or perhaps airlines are more like to overestimate the time required to reach their destination and therefore arriving early becomes more common.\n",
    "\n",
    "Flights are also more likely to arrive late however, reasons for this may include bad weather or congestion at the destination airport meaning the aeroplane takes longer to land. "
   ]
  },
  {
   "cell_type": "code",
   "execution_count": null,
   "metadata": {},
   "outputs": [],
   "source": []
  },
  {
   "cell_type": "markdown",
   "metadata": {},
   "source": [
    "> Make sure that, after every plot or related series of plots, that you\n",
    "include a Markdown cell with comments about what you observed, and what\n",
    "you plan on investigating next."
   ]
  },
  {
   "cell_type": "code",
   "execution_count": null,
   "metadata": {},
   "outputs": [],
   "source": []
  },
  {
   "cell_type": "markdown",
   "metadata": {},
   "source": [
    "### Discuss the distribution(s) of your variable(s) of interest. Were there any unusual points? Did you need to perform any transformations?\n",
    "\n",
    "> Your answer here!\n",
    "\n",
    "### Of the features you investigated, were there any unusual distributions? Did you perform any operations on the data to tidy, adjust, or change the form of the data? If so, why did you do this?\n",
    "\n",
    "> Your answer here!"
   ]
  },
  {
   "cell_type": "markdown",
   "metadata": {},
   "source": [
    "## Bivariate Exploration\n",
    "\n",
    "> In this section, investigate relationships between pairs of variables in your\n",
    "data. Make sure the variables that you cover here have been introduced in some\n",
    "fashion in the previous section (univariate exploration)."
   ]
  },
  {
   "cell_type": "markdown",
   "metadata": {},
   "source": [
    "ideas:\n",
    "- distance vs cancellation - if not update description in univariate\n",
    "- carrier vs acncellation\n",
    "- subplots for cancelled vs carrier/weather/nas/security/late aircraft delays\n",
    "- faceting top airports vs delay/cancellation times"
   ]
  },
  {
   "cell_type": "code",
   "execution_count": 205,
   "metadata": {},
   "outputs": [
    {
     "name": "stdout",
     "output_type": "stream",
     "text": [
      "<class 'pandas.core.frame.DataFrame'>\n",
      "RangeIndex: 2389217 entries, 0 to 2389216\n",
      "Data columns (total 29 columns):\n",
      " #   Column                  Dtype   \n",
      "---  ------                  -----   \n",
      " 0   year                    int64   \n",
      " 1   month                   int64   \n",
      " 2   day_of_month            int64   \n",
      " 3   day_of_week             category\n",
      " 4   actual_dep_time         object  \n",
      " 5   scheduled_dep_time      object  \n",
      " 6   actual_arr_time         object  \n",
      " 7   scheduled_arr_time      object  \n",
      " 8   carrier_code            object  \n",
      " 9   flight_number           int64   \n",
      " 10  tail_number             object  \n",
      " 11  actual_elapsed_time     float64 \n",
      " 12  scheduled_elapsed_time  float64 \n",
      " 13  air_time                float64 \n",
      " 14  arr_delay               float64 \n",
      " 15  dep_delay               float64 \n",
      " 16  origin                  object  \n",
      " 17  destination             object  \n",
      " 18  distance                int64   \n",
      " 19  taxi_in_time            float64 \n",
      " 20  taxi_out_time           float64 \n",
      " 21  cancelled               int64   \n",
      " 22  cancellation_code       object  \n",
      " 23  diverted                int64   \n",
      " 24  carrier_delay           float64 \n",
      " 25  weather_delay           float64 \n",
      " 26  nas_delay               float64 \n",
      " 27  security_delay          float64 \n",
      " 28  late_aircraft_delay     float64 \n",
      "dtypes: category(1), float64(12), int64(7), object(9)\n",
      "memory usage: 512.7+ MB\n"
     ]
    }
   ],
   "source": [
    "flights.info()"
   ]
  },
  {
   "cell_type": "markdown",
   "metadata": {},
   "source": [
    "### Number of cancelled flights by day of the week"
   ]
  },
  {
   "cell_type": "code",
   "execution_count": 221,
   "metadata": {},
   "outputs": [
    {
     "data": {
      "image/png": "[encoded data removed]",
      "text/plain": [
       "<Figure size 576x432 with 1 Axes>"
      ]
     },
     "metadata": {
      "needs_background": "light"
     },
     "output_type": "display_data"
    }
   ],
   "source": [
    "plt.figure(figsize=(8,6))\n",
    "\n",
    "# Create subset of cancelled flights\n",
    "flight_cancelled = flights[flights.cancelled==1]\n",
    "\n",
    "# plot graph\n",
    "sns.countplot(data=flight_cancelled,x='day_of_week',color=base_colour)\n",
    "\n",
    "#labels\n",
    "plt.title('Number of cancelled flights by day of the week')\n",
    "plt.xlabel('Day of the Week')\n",
    "plt.ylabel('Frequency');"
   ]
  },
  {
   "cell_type": "markdown",
   "metadata": {},
   "source": [
    "The graph above shows the total number of cancellations by day of the week. This shows that by number, there were fewest cancellations on weekends. However, as the number of flight varies by day (weekends have the fewest flights) it would be more appropriate to calculate the proportion of cancelled flights by day."
   ]
  },
  {
   "cell_type": "markdown",
   "metadata": {},
   "source": [
    "### Proportion of cancelled flights by day of the week"
   ]
  },
  {
   "cell_type": "code",
   "execution_count": 222,
   "metadata": {},
   "outputs": [
    {
     "data": {
      "text/plain": [
       "0.026972016355148988"
      ]
     },
     "execution_count": 222,
     "metadata": {},
     "output_type": "execute_result"
    }
   ],
   "source": [
    "# Calculate the overall proportion of cancelled flights\n",
    "flights.cancelled.mean()"
   ]
  },
  {
   "cell_type": "markdown",
   "metadata": {},
   "source": [
    "This shows that there is currently a 2.7% chance of a flight being cancelled, however, how does this rate differ when we group by day?"
   ]
  },
  {
   "cell_type": "code",
   "execution_count": 208,
   "metadata": {
    "scrolled": true
   },
   "outputs": [
    {
     "data": {
      "text/html": [
       "<div>\n",
       "<style scoped>\n",
       "    .dataframe tbody tr th:only-of-type {\n",
       "        vertical-align: middle;\n",
       "    }\n",
       "\n",
       "    .dataframe tbody tr th {\n",
       "        vertical-align: top;\n",
       "    }\n",
       "\n",
       "    .dataframe thead th {\n",
       "        text-align: right;\n",
       "    }\n",
       "</style>\n",
       "<table border=\"1\" class=\"dataframe\">\n",
       "  <thead>\n",
       "    <tr style=\"text-align: right;\">\n",
       "      <th></th>\n",
       "      <th>day_of_week</th>\n",
       "      <th>year</th>\n",
       "      <th>month</th>\n",
       "      <th>day_of_month</th>\n",
       "      <th>flight_number</th>\n",
       "      <th>actual_elapsed_time</th>\n",
       "      <th>scheduled_elapsed_time</th>\n",
       "      <th>air_time</th>\n",
       "      <th>arr_delay</th>\n",
       "      <th>dep_delay</th>\n",
       "      <th>distance</th>\n",
       "      <th>taxi_in_time</th>\n",
       "      <th>taxi_out_time</th>\n",
       "      <th>cancelled</th>\n",
       "      <th>diverted</th>\n",
       "      <th>carrier_delay</th>\n",
       "      <th>weather_delay</th>\n",
       "      <th>nas_delay</th>\n",
       "      <th>security_delay</th>\n",
       "      <th>late_aircraft_delay</th>\n",
       "    </tr>\n",
       "  </thead>\n",
       "  <tbody>\n",
       "    <tr>\n",
       "      <th>0</th>\n",
       "      <td>Monday</td>\n",
       "      <td>2008.0</td>\n",
       "      <td>2.538326</td>\n",
       "      <td>16.662427</td>\n",
       "      <td>2223.238606</td>\n",
       "      <td>127.840537</td>\n",
       "      <td>128.454466</td>\n",
       "      <td>104.395835</td>\n",
       "      <td>10.736384</td>\n",
       "      <td>11.830805</td>\n",
       "      <td>718.140423</td>\n",
       "      <td>6.789648</td>\n",
       "      <td>16.662573</td>\n",
       "      <td>0.027263</td>\n",
       "      <td>0.002411</td>\n",
       "      <td>3.727168</td>\n",
       "      <td>0.694285</td>\n",
       "      <td>4.210398</td>\n",
       "      <td>0.015541</td>\n",
       "      <td>5.371876</td>\n",
       "    </tr>\n",
       "    <tr>\n",
       "      <th>1</th>\n",
       "      <td>Tuesday</td>\n",
       "      <td>2008.0</td>\n",
       "      <td>2.516604</td>\n",
       "      <td>15.038834</td>\n",
       "      <td>2209.909980</td>\n",
       "      <td>128.199643</td>\n",
       "      <td>128.252338</td>\n",
       "      <td>104.595394</td>\n",
       "      <td>10.584612</td>\n",
       "      <td>11.194131</td>\n",
       "      <td>716.673658</td>\n",
       "      <td>6.787882</td>\n",
       "      <td>16.827042</td>\n",
       "      <td>0.032989</td>\n",
       "      <td>0.002948</td>\n",
       "      <td>3.435260</td>\n",
       "      <td>0.813638</td>\n",
       "      <td>4.732804</td>\n",
       "      <td>0.013779</td>\n",
       "      <td>5.084746</td>\n",
       "    </tr>\n",
       "    <tr>\n",
       "      <th>2</th>\n",
       "      <td>Wednesday</td>\n",
       "      <td>2008.0</td>\n",
       "      <td>2.512635</td>\n",
       "      <td>15.975378</td>\n",
       "      <td>2224.709016</td>\n",
       "      <td>126.991325</td>\n",
       "      <td>128.312957</td>\n",
       "      <td>103.821266</td>\n",
       "      <td>7.776017</td>\n",
       "      <td>9.390146</td>\n",
       "      <td>716.951726</td>\n",
       "      <td>6.737166</td>\n",
       "      <td>16.437661</td>\n",
       "      <td>0.028373</td>\n",
       "      <td>0.002005</td>\n",
       "      <td>3.501855</td>\n",
       "      <td>0.549724</td>\n",
       "      <td>3.349160</td>\n",
       "      <td>0.019764</td>\n",
       "      <td>4.125706</td>\n",
       "    </tr>\n",
       "    <tr>\n",
       "      <th>3</th>\n",
       "      <td>Thursday</td>\n",
       "      <td>2008.0</td>\n",
       "      <td>2.418448</td>\n",
       "      <td>16.151239</td>\n",
       "      <td>2220.490194</td>\n",
       "      <td>128.371085</td>\n",
       "      <td>128.764167</td>\n",
       "      <td>104.503995</td>\n",
       "      <td>10.248991</td>\n",
       "      <td>10.998889</td>\n",
       "      <td>720.152496</td>\n",
       "      <td>6.816513</td>\n",
       "      <td>17.056830</td>\n",
       "      <td>0.025246</td>\n",
       "      <td>0.001961</td>\n",
       "      <td>3.792640</td>\n",
       "      <td>0.600844</td>\n",
       "      <td>3.801807</td>\n",
       "      <td>0.016888</td>\n",
       "      <td>5.095340</td>\n",
       "    </tr>\n",
       "    <tr>\n",
       "      <th>4</th>\n",
       "      <td>Friday</td>\n",
       "      <td>2008.0</td>\n",
       "      <td>2.476156</td>\n",
       "      <td>15.355508</td>\n",
       "      <td>2218.707864</td>\n",
       "      <td>129.039905</td>\n",
       "      <td>128.803218</td>\n",
       "      <td>104.639271</td>\n",
       "      <td>14.630594</td>\n",
       "      <td>14.768929</td>\n",
       "      <td>720.630766</td>\n",
       "      <td>6.974399</td>\n",
       "      <td>17.438517</td>\n",
       "      <td>0.032955</td>\n",
       "      <td>0.002450</td>\n",
       "      <td>4.329422</td>\n",
       "      <td>0.979502</td>\n",
       "      <td>4.972008</td>\n",
       "      <td>0.022327</td>\n",
       "      <td>6.565269</td>\n",
       "    </tr>\n",
       "    <tr>\n",
       "      <th>5</th>\n",
       "      <td>Saturday</td>\n",
       "      <td>2008.0</td>\n",
       "      <td>2.540037</td>\n",
       "      <td>14.643919</td>\n",
       "      <td>2190.617007</td>\n",
       "      <td>131.175208</td>\n",
       "      <td>133.346527</td>\n",
       "      <td>108.418612</td>\n",
       "      <td>7.509435</td>\n",
       "      <td>10.001837</td>\n",
       "      <td>761.042677</td>\n",
       "      <td>6.816639</td>\n",
       "      <td>15.951889</td>\n",
       "      <td>0.021475</td>\n",
       "      <td>0.002711</td>\n",
       "      <td>4.097262</td>\n",
       "      <td>0.734739</td>\n",
       "      <td>2.949357</td>\n",
       "      <td>0.028206</td>\n",
       "      <td>4.253703</td>\n",
       "    </tr>\n",
       "    <tr>\n",
       "      <th>6</th>\n",
       "      <td>Sunday</td>\n",
       "      <td>2008.0</td>\n",
       "      <td>2.540844</td>\n",
       "      <td>15.646847</td>\n",
       "      <td>2204.514317</td>\n",
       "      <td>129.266385</td>\n",
       "      <td>130.555623</td>\n",
       "      <td>106.018129</td>\n",
       "      <td>10.066515</td>\n",
       "      <td>11.750415</td>\n",
       "      <td>736.974394</td>\n",
       "      <td>6.965339</td>\n",
       "      <td>16.289207</td>\n",
       "      <td>0.018797</td>\n",
       "      <td>0.002127</td>\n",
       "      <td>4.185326</td>\n",
       "      <td>0.663518</td>\n",
       "      <td>3.457812</td>\n",
       "      <td>0.023139</td>\n",
       "      <td>5.332830</td>\n",
       "    </tr>\n",
       "  </tbody>\n",
       "</table>\n",
       "</div>"
      ],
      "text/plain": [
       "  day_of_week    year     month  day_of_month  flight_number  \\\n",
       "0      Monday  2008.0  2.538326     16.662427    2223.238606   \n",
       "1     Tuesday  2008.0  2.516604     15.038834    2209.909980   \n",
       "2   Wednesday  2008.0  2.512635     15.975378    2224.709016   \n",
       "3    Thursday  2008.0  2.418448     16.151239    2220.490194   \n",
       "4      Friday  2008.0  2.476156     15.355508    2218.707864   \n",
       "5    Saturday  2008.0  2.540037     14.643919    2190.617007   \n",
       "6      Sunday  2008.0  2.540844     15.646847    2204.514317   \n",
       "\n",
       "   actual_elapsed_time  scheduled_elapsed_time    air_time  arr_delay  \\\n",
       "0           127.840537              128.454466  104.395835  10.736384   \n",
       "1           128.199643              128.252338  104.595394  10.584612   \n",
       "2           126.991325              128.312957  103.821266   7.776017   \n",
       "3           128.371085              128.764167  104.503995  10.248991   \n",
       "4           129.039905              128.803218  104.639271  14.630594   \n",
       "5           131.175208              133.346527  108.418612   7.509435   \n",
       "6           129.266385              130.555623  106.018129  10.066515   \n",
       "\n",
       "   dep_delay    distance  taxi_in_time  taxi_out_time  cancelled  diverted  \\\n",
       "0  11.830805  718.140423      6.789648      16.662573   0.027263  0.002411   \n",
       "1  11.194131  716.673658      6.787882      16.827042   0.032989  0.002948   \n",
       "2   9.390146  716.951726      6.737166      16.437661   0.028373  0.002005   \n",
       "3  10.998889  720.152496      6.816513      17.056830   0.025246  0.001961   \n",
       "4  14.768929  720.630766      6.974399      17.438517   0.032955  0.002450   \n",
       "5  10.001837  761.042677      6.816639      15.951889   0.021475  0.002711   \n",
       "6  11.750415  736.974394      6.965339      16.289207   0.018797  0.002127   \n",
       "\n",
       "   carrier_delay  weather_delay  nas_delay  security_delay  \\\n",
       "0       3.727168       0.694285   4.210398        0.015541   \n",
       "1       3.435260       0.813638   4.732804        0.013779   \n",
       "2       3.501855       0.549724   3.349160        0.019764   \n",
       "3       3.792640       0.600844   3.801807        0.016888   \n",
       "4       4.329422       0.979502   4.972008        0.022327   \n",
       "5       4.097262       0.734739   2.949357        0.028206   \n",
       "6       4.185326       0.663518   3.457812        0.023139   \n",
       "\n",
       "   late_aircraft_delay  \n",
       "0             5.371876  \n",
       "1             5.084746  \n",
       "2             4.125706  \n",
       "3             5.095340  \n",
       "4             6.565269  \n",
       "5             4.253703  \n",
       "6             5.332830  "
      ]
     },
     "execution_count": 208,
     "metadata": {},
     "output_type": "execute_result"
    }
   ],
   "source": [
    "day_means = flights.groupby('day_of_week',as_index=False).mean()\n",
    "day_means"
   ]
  },
  {
   "cell_type": "code",
   "execution_count": 241,
   "metadata": {},
   "outputs": [
    {
     "data": {
      "text/plain": [
       "<Figure size 576x432 with 0 Axes>"
      ]
     },
     "metadata": {},
     "output_type": "display_data"
    },
    {
     "data": {
      "image/png": "[encoded data removed]",
      "text/plain": [
       "<Figure size 432x288 with 1 Axes>"
      ]
     },
     "metadata": {
      "needs_background": "light"
     },
     "output_type": "display_data"
    }
   ],
   "source": [
    "plt.figure(figsize=(8,6))\n",
    "day_means.plot.bar(x='day_of_week',y='cancelled',legend=False)\n",
    "\n",
    "# tick locations\n",
    "tick_locs = np.arange(0,day_means.cancelled.max()+0.005,0.005)\n",
    "plt.yticks(tick_locs)\n",
    "\n",
    "# Labels\n",
    "plt.xlabel('Day of the Week')\n",
    "plt.ylabel('Proportion  of flights cancelled')\n",
    "plt.title('Proportion of flights cancelled by day of the week');"
   ]
  },
  {
   "cell_type": "markdown",
   "metadata": {},
   "source": [
    "This shows the proportion of cancellations does differ from day to day. The days with the highest proportion of cancelled flights are Tuesday and Fridays, Saturday and Sundays have the lowest proportion of cancellations."
   ]
  },
  {
   "cell_type": "markdown",
   "metadata": {},
   "source": [
    "### Which airports have the most and which have the least cancellations?"
   ]
  },
  {
   "cell_type": "code",
   "execution_count": 245,
   "metadata": {},
   "outputs": [
    {
     "name": "stdout",
     "output_type": "stream",
     "text": [
      "<class 'pandas.core.frame.DataFrame'>\n",
      "RangeIndex: 2389217 entries, 0 to 2389216\n",
      "Data columns (total 29 columns):\n",
      " #   Column                  Dtype   \n",
      "---  ------                  -----   \n",
      " 0   year                    int64   \n",
      " 1   month                   int64   \n",
      " 2   day_of_month            int64   \n",
      " 3   day_of_week             category\n",
      " 4   actual_dep_time         object  \n",
      " 5   scheduled_dep_time      object  \n",
      " 6   actual_arr_time         object  \n",
      " 7   scheduled_arr_time      object  \n",
      " 8   carrier_code            object  \n",
      " 9   flight_number           int64   \n",
      " 10  tail_number             object  \n",
      " 11  actual_elapsed_time     float64 \n",
      " 12  scheduled_elapsed_time  float64 \n",
      " 13  air_time                float64 \n",
      " 14  arr_delay               float64 \n",
      " 15  dep_delay               float64 \n",
      " 16  origin                  object  \n",
      " 17  destination             object  \n",
      " 18  distance                int64   \n",
      " 19  taxi_in_time            float64 \n",
      " 20  taxi_out_time           float64 \n",
      " 21  cancelled               int64   \n",
      " 22  cancellation_code       object  \n",
      " 23  diverted                int64   \n",
      " 24  carrier_delay           float64 \n",
      " 25  weather_delay           float64 \n",
      " 26  nas_delay               float64 \n",
      " 27  security_delay          float64 \n",
      " 28  late_aircraft_delay     float64 \n",
      "dtypes: category(1), float64(12), int64(7), object(9)\n",
      "memory usage: 512.7+ MB\n"
     ]
    }
   ],
   "source": [
    "flights.info()"
   ]
  },
  {
   "cell_type": "code",
   "execution_count": 246,
   "metadata": {},
   "outputs": [
    {
     "data": {
      "text/html": [
       "<div>\n",
       "<style scoped>\n",
       "    .dataframe tbody tr th:only-of-type {\n",
       "        vertical-align: middle;\n",
       "    }\n",
       "\n",
       "    .dataframe tbody tr th {\n",
       "        vertical-align: top;\n",
       "    }\n",
       "\n",
       "    .dataframe thead th {\n",
       "        text-align: right;\n",
       "    }\n",
       "</style>\n",
       "<table border=\"1\" class=\"dataframe\">\n",
       "  <thead>\n",
       "    <tr style=\"text-align: right;\">\n",
       "      <th></th>\n",
       "      <th>origin</th>\n",
       "      <th>year</th>\n",
       "      <th>month</th>\n",
       "      <th>day_of_month</th>\n",
       "      <th>flight_number</th>\n",
       "      <th>actual_elapsed_time</th>\n",
       "      <th>scheduled_elapsed_time</th>\n",
       "      <th>air_time</th>\n",
       "      <th>arr_delay</th>\n",
       "      <th>dep_delay</th>\n",
       "      <th>distance</th>\n",
       "      <th>taxi_in_time</th>\n",
       "      <th>taxi_out_time</th>\n",
       "      <th>cancelled</th>\n",
       "      <th>diverted</th>\n",
       "      <th>carrier_delay</th>\n",
       "      <th>weather_delay</th>\n",
       "      <th>nas_delay</th>\n",
       "      <th>security_delay</th>\n",
       "      <th>late_aircraft_delay</th>\n",
       "    </tr>\n",
       "  </thead>\n",
       "  <tbody>\n",
       "    <tr>\n",
       "      <th>0</th>\n",
       "      <td>ABE</td>\n",
       "      <td>2008.0</td>\n",
       "      <td>2.509012</td>\n",
       "      <td>15.658173</td>\n",
       "      <td>4210.604723</td>\n",
       "      <td>114.701847</td>\n",
       "      <td>114.727781</td>\n",
       "      <td>90.965040</td>\n",
       "      <td>9.090369</td>\n",
       "      <td>8.411184</td>\n",
       "      <td>526.683654</td>\n",
       "      <td>9.430739</td>\n",
       "      <td>14.296053</td>\n",
       "      <td>0.055314</td>\n",
       "      <td>0.002486</td>\n",
       "      <td>4.280298</td>\n",
       "      <td>0.594158</td>\n",
       "      <td>5.086389</td>\n",
       "      <td>0.000000</td>\n",
       "      <td>3.378496</td>\n",
       "    </tr>\n",
       "    <tr>\n",
       "      <th>1</th>\n",
       "      <td>ABI</td>\n",
       "      <td>2008.0</td>\n",
       "      <td>2.434240</td>\n",
       "      <td>15.665533</td>\n",
       "      <td>3423.365079</td>\n",
       "      <td>55.880282</td>\n",
       "      <td>56.894558</td>\n",
       "      <td>36.690141</td>\n",
       "      <td>10.430751</td>\n",
       "      <td>11.395076</td>\n",
       "      <td>158.000000</td>\n",
       "      <td>9.307512</td>\n",
       "      <td>9.885111</td>\n",
       "      <td>0.032880</td>\n",
       "      <td>0.001134</td>\n",
       "      <td>7.568027</td>\n",
       "      <td>2.643991</td>\n",
       "      <td>2.869615</td>\n",
       "      <td>0.000000</td>\n",
       "      <td>1.730159</td>\n",
       "    </tr>\n",
       "    <tr>\n",
       "      <th>2</th>\n",
       "      <td>ABQ</td>\n",
       "      <td>2008.0</td>\n",
       "      <td>2.513081</td>\n",
       "      <td>15.677058</td>\n",
       "      <td>1681.235316</td>\n",
       "      <td>109.088237</td>\n",
       "      <td>111.276144</td>\n",
       "      <td>91.471470</td>\n",
       "      <td>5.543149</td>\n",
       "      <td>7.812677</td>\n",
       "      <td>649.567175</td>\n",
       "      <td>6.581338</td>\n",
       "      <td>11.035230</td>\n",
       "      <td>0.010539</td>\n",
       "      <td>0.001400</td>\n",
       "      <td>1.782961</td>\n",
       "      <td>0.181222</td>\n",
       "      <td>1.714423</td>\n",
       "      <td>0.002358</td>\n",
       "      <td>5.333997</td>\n",
       "    </tr>\n",
       "    <tr>\n",
       "      <th>3</th>\n",
       "      <td>ABY</td>\n",
       "      <td>2008.0</td>\n",
       "      <td>2.511962</td>\n",
       "      <td>15.698565</td>\n",
       "      <td>4473.203349</td>\n",
       "      <td>54.241463</td>\n",
       "      <td>55.031100</td>\n",
       "      <td>34.963415</td>\n",
       "      <td>11.141463</td>\n",
       "      <td>11.970732</td>\n",
       "      <td>146.000000</td>\n",
       "      <td>10.802439</td>\n",
       "      <td>8.475610</td>\n",
       "      <td>0.019139</td>\n",
       "      <td>0.000000</td>\n",
       "      <td>7.538278</td>\n",
       "      <td>1.074163</td>\n",
       "      <td>3.787081</td>\n",
       "      <td>0.000000</td>\n",
       "      <td>0.669856</td>\n",
       "    </tr>\n",
       "    <tr>\n",
       "      <th>4</th>\n",
       "      <td>ACT</td>\n",
       "      <td>2008.0</td>\n",
       "      <td>2.414115</td>\n",
       "      <td>15.657790</td>\n",
       "      <td>3265.936085</td>\n",
       "      <td>50.861538</td>\n",
       "      <td>51.749667</td>\n",
       "      <td>30.539860</td>\n",
       "      <td>5.935664</td>\n",
       "      <td>6.832168</td>\n",
       "      <td>89.000000</td>\n",
       "      <td>10.969231</td>\n",
       "      <td>9.352448</td>\n",
       "      <td>0.047936</td>\n",
       "      <td>0.000000</td>\n",
       "      <td>1.805593</td>\n",
       "      <td>0.579228</td>\n",
       "      <td>1.862850</td>\n",
       "      <td>0.000000</td>\n",
       "      <td>4.660453</td>\n",
       "    </tr>\n",
       "    <tr>\n",
       "      <th>...</th>\n",
       "      <td>...</td>\n",
       "      <td>...</td>\n",
       "      <td>...</td>\n",
       "      <td>...</td>\n",
       "      <td>...</td>\n",
       "      <td>...</td>\n",
       "      <td>...</td>\n",
       "      <td>...</td>\n",
       "      <td>...</td>\n",
       "      <td>...</td>\n",
       "      <td>...</td>\n",
       "      <td>...</td>\n",
       "      <td>...</td>\n",
       "      <td>...</td>\n",
       "      <td>...</td>\n",
       "      <td>...</td>\n",
       "      <td>...</td>\n",
       "      <td>...</td>\n",
       "      <td>...</td>\n",
       "      <td>...</td>\n",
       "    </tr>\n",
       "    <tr>\n",
       "      <th>286</th>\n",
       "      <td>WRG</td>\n",
       "      <td>2008.0</td>\n",
       "      <td>2.495868</td>\n",
       "      <td>15.636364</td>\n",
       "      <td>64.500000</td>\n",
       "      <td>29.797357</td>\n",
       "      <td>32.615702</td>\n",
       "      <td>17.215859</td>\n",
       "      <td>0.806167</td>\n",
       "      <td>5.217391</td>\n",
       "      <td>56.500000</td>\n",
       "      <td>4.264317</td>\n",
       "      <td>8.360870</td>\n",
       "      <td>0.049587</td>\n",
       "      <td>0.012397</td>\n",
       "      <td>0.925620</td>\n",
       "      <td>1.132231</td>\n",
       "      <td>1.285124</td>\n",
       "      <td>0.000000</td>\n",
       "      <td>7.132231</td>\n",
       "    </tr>\n",
       "    <tr>\n",
       "      <th>287</th>\n",
       "      <td>XNA</td>\n",
       "      <td>2008.0</td>\n",
       "      <td>2.510678</td>\n",
       "      <td>15.710008</td>\n",
       "      <td>4030.132538</td>\n",
       "      <td>111.454364</td>\n",
       "      <td>110.405326</td>\n",
       "      <td>86.097475</td>\n",
       "      <td>15.283784</td>\n",
       "      <td>14.441768</td>\n",
       "      <td>578.561558</td>\n",
       "      <td>9.941294</td>\n",
       "      <td>15.434696</td>\n",
       "      <td>0.052554</td>\n",
       "      <td>0.002303</td>\n",
       "      <td>4.246859</td>\n",
       "      <td>1.134003</td>\n",
       "      <td>7.261935</td>\n",
       "      <td>0.000000</td>\n",
       "      <td>5.757328</td>\n",
       "    </tr>\n",
       "    <tr>\n",
       "      <th>288</th>\n",
       "      <td>YAK</td>\n",
       "      <td>2008.0</td>\n",
       "      <td>2.495868</td>\n",
       "      <td>15.636364</td>\n",
       "      <td>63.500000</td>\n",
       "      <td>47.260870</td>\n",
       "      <td>48.628099</td>\n",
       "      <td>36.243478</td>\n",
       "      <td>2.521739</td>\n",
       "      <td>5.923404</td>\n",
       "      <td>206.000000</td>\n",
       "      <td>3.547826</td>\n",
       "      <td>7.548936</td>\n",
       "      <td>0.028926</td>\n",
       "      <td>0.020661</td>\n",
       "      <td>0.446281</td>\n",
       "      <td>0.198347</td>\n",
       "      <td>0.685950</td>\n",
       "      <td>0.000000</td>\n",
       "      <td>13.227273</td>\n",
       "    </tr>\n",
       "    <tr>\n",
       "      <th>289</th>\n",
       "      <td>YKM</td>\n",
       "      <td>2008.0</td>\n",
       "      <td>2.714286</td>\n",
       "      <td>16.027473</td>\n",
       "      <td>3862.659341</td>\n",
       "      <td>101.162011</td>\n",
       "      <td>90.000000</td>\n",
       "      <td>81.145251</td>\n",
       "      <td>13.670391</td>\n",
       "      <td>2.508380</td>\n",
       "      <td>586.000000</td>\n",
       "      <td>6.642458</td>\n",
       "      <td>13.374302</td>\n",
       "      <td>0.016484</td>\n",
       "      <td>0.000000</td>\n",
       "      <td>3.412088</td>\n",
       "      <td>1.000000</td>\n",
       "      <td>1.483516</td>\n",
       "      <td>0.000000</td>\n",
       "      <td>4.714286</td>\n",
       "    </tr>\n",
       "    <tr>\n",
       "      <th>290</th>\n",
       "      <td>YUM</td>\n",
       "      <td>2008.0</td>\n",
       "      <td>2.503047</td>\n",
       "      <td>15.676371</td>\n",
       "      <td>4124.604604</td>\n",
       "      <td>69.260417</td>\n",
       "      <td>67.774543</td>\n",
       "      <td>48.629861</td>\n",
       "      <td>4.836111</td>\n",
       "      <td>3.427481</td>\n",
       "      <td>233.252539</td>\n",
       "      <td>7.640972</td>\n",
       "      <td>12.994448</td>\n",
       "      <td>0.024374</td>\n",
       "      <td>0.000677</td>\n",
       "      <td>4.058903</td>\n",
       "      <td>0.000000</td>\n",
       "      <td>1.144211</td>\n",
       "      <td>0.392011</td>\n",
       "      <td>1.441435</td>\n",
       "    </tr>\n",
       "  </tbody>\n",
       "</table>\n",
       "<p>291 rows × 20 columns</p>\n",
       "</div>"
      ],
      "text/plain": [
       "    origin    year     month  day_of_month  flight_number  \\\n",
       "0      ABE  2008.0  2.509012     15.658173    4210.604723   \n",
       "1      ABI  2008.0  2.434240     15.665533    3423.365079   \n",
       "2      ABQ  2008.0  2.513081     15.677058    1681.235316   \n",
       "3      ABY  2008.0  2.511962     15.698565    4473.203349   \n",
       "4      ACT  2008.0  2.414115     15.657790    3265.936085   \n",
       "..     ...     ...       ...           ...            ...   \n",
       "286    WRG  2008.0  2.495868     15.636364      64.500000   \n",
       "287    XNA  2008.0  2.510678     15.710008    4030.132538   \n",
       "288    YAK  2008.0  2.495868     15.636364      63.500000   \n",
       "289    YKM  2008.0  2.714286     16.027473    3862.659341   \n",
       "290    YUM  2008.0  2.503047     15.676371    4124.604604   \n",
       "\n",
       "     actual_elapsed_time  scheduled_elapsed_time   air_time  arr_delay  \\\n",
       "0             114.701847              114.727781  90.965040   9.090369   \n",
       "1              55.880282               56.894558  36.690141  10.430751   \n",
       "2             109.088237              111.276144  91.471470   5.543149   \n",
       "3              54.241463               55.031100  34.963415  11.141463   \n",
       "4              50.861538               51.749667  30.539860   5.935664   \n",
       "..                   ...                     ...        ...        ...   \n",
       "286            29.797357               32.615702  17.215859   0.806167   \n",
       "287           111.454364              110.405326  86.097475  15.283784   \n",
       "288            47.260870               48.628099  36.243478   2.521739   \n",
       "289           101.162011               90.000000  81.145251  13.670391   \n",
       "290            69.260417               67.774543  48.629861   4.836111   \n",
       "\n",
       "     dep_delay    distance  taxi_in_time  taxi_out_time  cancelled  diverted  \\\n",
       "0     8.411184  526.683654      9.430739      14.296053   0.055314  0.002486   \n",
       "1    11.395076  158.000000      9.307512       9.885111   0.032880  0.001134   \n",
       "2     7.812677  649.567175      6.581338      11.035230   0.010539  0.001400   \n",
       "3    11.970732  146.000000     10.802439       8.475610   0.019139  0.000000   \n",
       "4     6.832168   89.000000     10.969231       9.352448   0.047936  0.000000   \n",
       "..         ...         ...           ...            ...        ...       ...   \n",
       "286   5.217391   56.500000      4.264317       8.360870   0.049587  0.012397   \n",
       "287  14.441768  578.561558      9.941294      15.434696   0.052554  0.002303   \n",
       "288   5.923404  206.000000      3.547826       7.548936   0.028926  0.020661   \n",
       "289   2.508380  586.000000      6.642458      13.374302   0.016484  0.000000   \n",
       "290   3.427481  233.252539      7.640972      12.994448   0.024374  0.000677   \n",
       "\n",
       "     carrier_delay  weather_delay  nas_delay  security_delay  \\\n",
       "0         4.280298       0.594158   5.086389        0.000000   \n",
       "1         7.568027       2.643991   2.869615        0.000000   \n",
       "2         1.782961       0.181222   1.714423        0.002358   \n",
       "3         7.538278       1.074163   3.787081        0.000000   \n",
       "4         1.805593       0.579228   1.862850        0.000000   \n",
       "..             ...            ...        ...             ...   \n",
       "286       0.925620       1.132231   1.285124        0.000000   \n",
       "287       4.246859       1.134003   7.261935        0.000000   \n",
       "288       0.446281       0.198347   0.685950        0.000000   \n",
       "289       3.412088       1.000000   1.483516        0.000000   \n",
       "290       4.058903       0.000000   1.144211        0.392011   \n",
       "\n",
       "     late_aircraft_delay  \n",
       "0               3.378496  \n",
       "1               1.730159  \n",
       "2               5.333997  \n",
       "3               0.669856  \n",
       "4               4.660453  \n",
       "..                   ...  \n",
       "286             7.132231  \n",
       "287             5.757328  \n",
       "288            13.227273  \n",
       "289             4.714286  \n",
       "290             1.441435  \n",
       "\n",
       "[291 rows x 20 columns]"
      ]
     },
     "execution_count": 246,
     "metadata": {},
     "output_type": "execute_result"
    }
   ],
   "source": [
    "airport_group = flights.groupby('origin',as_index=False).mean()\n",
    "airport_group"
   ]
  },
  {
   "cell_type": "code",
   "execution_count": 250,
   "metadata": {},
   "outputs": [],
   "source": [
    "origin_cancelled = airport_group.cancelled.sort_values(ascending=False)"
   ]
  },
  {
   "cell_type": "code",
   "execution_count": 338,
   "metadata": {},
   "outputs": [],
   "source": [
    "# data setup:\n",
    "airport_group = flights.groupby('origin',as_index=False).mean() # mean values grouped by origin\n",
    "cancelled_prop = airport_group.cancelled.sort_values(ascending=False) #sort cancelled means\n",
    "thres = 10\n",
    "\n",
    "# Set order\n",
    "most_cancelled = cancelled_prop.index[:thres]\n",
    "least_cancelled = cancelled_prop.index[-thres:]\n",
    "\n",
    "# Create proportions dataframe\n",
    "most_cancelled_sub = airport_group.loc[most_cancelled]\n",
    "least_cancelled_sub = airport_group.loc[least_cancelled]"
   ]
  },
  {
   "cell_type": "code",
   "execution_count": 397,
   "metadata": {
    "scrolled": true
   },
   "outputs": [
    {
     "data": {
      "image/png": "[encoded data removed]",
      "text/plain": [
       "<Figure size 1440x432 with 2 Axes>"
      ]
     },
     "metadata": {
      "needs_background": "light"
     },
     "output_type": "display_data"
    }
   ],
   "source": [
    "plt.figure(figsize = [20, 6])\n",
    "base_colour = sns.color_palette()[0]\n",
    "\n",
    "# set y labels\n",
    "most_tick_locs = np.arange(0,0.35+0.05,0.05)\n",
    "least_tick_locs = np.arange(0,0.008+0.001,0.001)\n",
    "# plot most cancelled\n",
    "plt.subplot(1,2,1)\n",
    "plt.bar(data=most_cancelled_sub,x='origin',height='cancelled')\n",
    "plt.yticks(most_tick_locs)\n",
    "plt.ylabel('Proportion')\n",
    "plt.xlabel('Airport')\n",
    "plt.title('Top 10 airports with the most cancellations by proportion')\n",
    "\n",
    "# plot least cancelled\n",
    "plt.subplot(1,2,2)\n",
    "plt.bar(data=least_cancelled_sub,x='origin',height='cancelled')\n",
    "plt.yticks(least_tick_locs)\n",
    "plt.ylabel('Proportion')\n",
    "plt.xlabel('Airport')\n",
    "plt.title('Top 10 airports with the least cancellations by proportion');"
   ]
  },
  {
   "cell_type": "markdown",
   "metadata": {},
   "source": [
    "The graphs above show that there is a large difference between the airports with the most cancellations by proportion and those with the least. There are 5 airports (RKS, TUP, GCC, DLG and AKN) that have had no cancellations in this dataset."
   ]
  },
  {
   "cell_type": "code",
   "execution_count": 409,
   "metadata": {
    "scrolled": true
   },
   "outputs": [],
   "source": [
    "# Airports with no cancels\n",
    "no_cancels = ['RKS','TUP','GCC','DLG','AKN']\n",
    "no_cancel_flights = flights.loc[flights['origin'].isin(no_cancels)].shape[0]"
   ]
  },
  {
   "cell_type": "code",
   "execution_count": 411,
   "metadata": {},
   "outputs": [
    {
     "name": "stdout",
     "output_type": "stream",
     "text": [
      "The airports that had no cancellations only account for 172 out of 2389217 flights.\n"
     ]
    }
   ],
   "source": [
    "print('The airports that had no cancellations only account for '+str(no_cancel_flights)\n",
    "     + ' out of '+ str(flights.shape[0])+' flights.')"
   ]
  },
  {
   "cell_type": "markdown",
   "metadata": {},
   "source": [
    "Therefore, these airports are likely to be smaller airports where there are very few flights a day so are less likely to have delays, or in this case none were delayed."
   ]
  },
  {
   "cell_type": "markdown",
   "metadata": {},
   "source": [
    "### Talk about some of the relationships you observed in this part of the investigation. How did the feature(s) of interest vary with other features in the dataset?\n",
    "\n",
    "> Your answer here!\n",
    "\n",
    "### Did you observe any interesting relationships between the other features (not the main feature(s) of interest)?\n",
    "\n",
    "> Your answer here!"
   ]
  },
  {
   "cell_type": "markdown",
   "metadata": {},
   "source": [
    "## Multivariate Exploration\n",
    "\n",
    "> Create plots of three or more variables to investigate your data even\n",
    "further. Make sure that your investigations are justified, and follow from\n",
    "your work in the previous sections."
   ]
  },
  {
   "cell_type": "markdown",
   "metadata": {},
   "source": [
    "notes: try plotting long vs lat vs one other variable."
   ]
  },
  {
   "cell_type": "markdown",
   "metadata": {},
   "source": [
    "### Talk about some of the relationships you observed in this part of the investigation. Were there features that strengthened each other in terms of looking at your feature(s) of interest?\n",
    "\n",
    "> Your answer here!\n",
    "\n",
    "### Were there any interesting or surprising interactions between features?\n",
    "\n",
    "> Your answer here!"
   ]
  },
  {
   "cell_type": "markdown",
   "metadata": {},
   "source": [
    "> At the end of your report, make sure that you export the notebook as an\n",
    "html file from the `File > Download as... > HTML` menu. Make sure you keep\n",
    "track of where the exported file goes, so you can put it in the same folder\n",
    "as this notebook for project submission. Also, make sure you **remove all of\n",
    "the quote-formatted guide notes** like this one before you finish your report!"
   ]
  },
  {
   "cell_type": "code",
   "execution_count": null,
   "metadata": {},
   "outputs": [],
   "source": []
  }
 ],
 "metadata": {
  "kernelspec": {
   "display_name": "Python 3",
   "language": "python",
   "name": "python3"
  },
  "language_info": {
   "codemirror_mode": {
    "name": "ipython",
    "version": 3
   },
   "file_extension": ".py",
   "mimetype": "text/x-python",
   "name": "python",
   "nbconvert_exporter": "python",
   "pygments_lexer": "ipython3",
   "version": "3.8.5"
  }
 },
 "nbformat": 4,
 "nbformat_minor": 2
}
